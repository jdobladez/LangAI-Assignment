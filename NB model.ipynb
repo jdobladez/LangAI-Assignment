{
 "cells": [
  {
   "cell_type": "markdown",
   "metadata": {
    "ExecuteTime": {
     "end_time": "2024-01-08T16:41:43.129454Z",
     "start_time": "2024-01-08T16:41:42.449939Z"
    }
   },
   "source": [
    "## Implementing Naive Bayes Model using n-grams for Author Classification "
   ]
  },
  {
   "cell_type": "code",
   "execution_count": null,
   "metadata": {},
   "outputs": [],
   "source": [
    "# imports\n",
    "import pandas as pd\n",
    "import numpy as np\n",
    "from nltk import ngrams\n",
    "from ast import literal_eval\n",
    "from sklearn.feature_extraction.text import CountVectorizer\n",
    "from sklearn.naive_bayes import MultinomialNB\n",
    "from sklearn.model_selection import train_test_split\n",
    "from sklearn.metrics import accuracy_score, classification_report\n",
    "\n",
    "import nltk.classify.util\n",
    "from nltk.classify import NaiveBayesClassifier\n",
    "from nltk.tokenize import word_tokenize\n",
    "from nltk.corpus import stopwords\n",
    "\n",
    "import matplotlib.pyplot as plt\n",
    "from nltk import FreqDist\n",
    "from sklearn.metrics import accuracy_score"
   ]
  },
  {
   "cell_type": "markdown",
   "metadata": {},
   "source": [
    "### Reading the balanced dataset created in file 'balancing_dataset.ipynb'"
   ]
  },
  {
   "cell_type": "code",
   "execution_count": 3,
   "metadata": {},
   "outputs": [
    {
     "data": {
      "text/html": [
       "<div>\n",
       "<style scoped>\n",
       "    .dataframe tbody tr th:only-of-type {\n",
       "        vertical-align: middle;\n",
       "    }\n",
       "\n",
       "    .dataframe tbody tr th {\n",
       "        vertical-align: top;\n",
       "    }\n",
       "\n",
       "    .dataframe thead th {\n",
       "        text-align: right;\n",
       "    }\n",
       "</style>\n",
       "<table border=\"1\" class=\"dataframe\">\n",
       "  <thead>\n",
       "    <tr style=\"text-align: right;\">\n",
       "      <th></th>\n",
       "      <th>auhtor_ID</th>\n",
       "      <th>post</th>\n",
       "      <th>nationality</th>\n",
       "      <th>Poles</th>\n",
       "      <th>tokens</th>\n",
       "      <th>eng_tokens</th>\n",
       "      <th>average_word_length</th>\n",
       "      <th>avg_sentence_length</th>\n",
       "      <th>ttr</th>\n",
       "      <th>ner</th>\n",
       "      <th>norm_.</th>\n",
       "      <th>norm_,</th>\n",
       "      <th>norm_?</th>\n",
       "      <th>norm_!</th>\n",
       "      <th>topic_distributions</th>\n",
       "      <th>nr_unique_words</th>\n",
       "      <th>nr_chars</th>\n",
       "      <th>nr_contradictions</th>\n",
       "      <th>subjectivity</th>\n",
       "    </tr>\n",
       "  </thead>\n",
       "  <tbody>\n",
       "    <tr>\n",
       "      <th>0</th>\n",
       "      <td>t2_ffcfiueh</td>\n",
       "      <td>course people look hyperbolic one racism bad e...</td>\n",
       "      <td>Norway</td>\n",
       "      <td>Western</td>\n",
       "      <td>['[\"[\\'course\\',\",', '\"\\'people\\',\",', '\"\\'loo...</td>\n",
       "      <td>[\"'course'\", \"'people'\", \"'look'\", \"'hyperboli...</td>\n",
       "      <td>5.481442</td>\n",
       "      <td>66.164835</td>\n",
       "      <td>0.707317</td>\n",
       "      <td>[('one', 'CARDINAL'), ('bkb', 'ORG'), ('hundre...</td>\n",
       "      <td>0.091198</td>\n",
       "      <td>0.047720</td>\n",
       "      <td>0.006363</td>\n",
       "      <td>0.007423</td>\n",
       "      <td>[(6, 0.27886572), (10, 0.17313653), (25, 0.319...</td>\n",
       "      <td>667</td>\n",
       "      <td>6111</td>\n",
       "      <td>6</td>\n",
       "      <td>0.485495</td>\n",
       "    </tr>\n",
       "    <tr>\n",
       "      <th>1</th>\n",
       "      <td>t2_lfs48</td>\n",
       "      <td>police drag foot it/come different conclusion ...</td>\n",
       "      <td>Germany</td>\n",
       "      <td>Western</td>\n",
       "      <td>['[\"[\\'police\\',\",', '\"\\'drag\\',\",', '\"\\'foot\\...</td>\n",
       "      <td>[\"'police'\", \"'drag'\", \"'foot'\", \"'it'\", \"'com...</td>\n",
       "      <td>6.285714</td>\n",
       "      <td>85.014925</td>\n",
       "      <td>0.718078</td>\n",
       "      <td>[('anmeldung', 'GPE'), ('berlin', 'GPE'), ('fi...</td>\n",
       "      <td>0.113780</td>\n",
       "      <td>0.078382</td>\n",
       "      <td>0.002528</td>\n",
       "      <td>0.000000</td>\n",
       "      <td>[(25, 0.72906566), (27, 0.26771897)]</td>\n",
       "      <td>568</td>\n",
       "      <td>5762</td>\n",
       "      <td>17</td>\n",
       "      <td>0.487030</td>\n",
       "    </tr>\n",
       "    <tr>\n",
       "      <th>2</th>\n",
       "      <td>t2_zcj4y</td>\n",
       "      <td>nice curves. really pretty. maybe i'm 'oldscho...</td>\n",
       "      <td>The Netherlands</td>\n",
       "      <td>Western</td>\n",
       "      <td>['[\"[\\'nice\\',\",', '\"\\'curves\\',\",', '\"\\'.\\',\"...</td>\n",
       "      <td>[\"'nice'\", \"'really'\", \"'pretty'\", \"'maybe'\", ...</td>\n",
       "      <td>5.580460</td>\n",
       "      <td>34.134969</td>\n",
       "      <td>0.747126</td>\n",
       "      <td>[('lootboxes', 'NORP'), ('1', 'CARDINAL'), (\"1...</td>\n",
       "      <td>0.174713</td>\n",
       "      <td>0.065517</td>\n",
       "      <td>0.021839</td>\n",
       "      <td>0.010345</td>\n",
       "      <td>[(5, 0.067286186), (10, 0.1327022), (25, 0.799...</td>\n",
       "      <td>650</td>\n",
       "      <td>5724</td>\n",
       "      <td>18</td>\n",
       "      <td>0.551005</td>\n",
       "    </tr>\n",
       "    <tr>\n",
       "      <th>3</th>\n",
       "      <td>t2_2xpu7n1c</td>\n",
       "      <td>action try manufacture result make “good” tv. ...</td>\n",
       "      <td>United Kingdom</td>\n",
       "      <td>Western</td>\n",
       "      <td>['[\"[\\'action\\',\",', '\"\\'try\\',\",', '\"\\'manufa...</td>\n",
       "      <td>[\"'action'\", \"'try'\", \"'manufacture'\", \"'resul...</td>\n",
       "      <td>5.481297</td>\n",
       "      <td>75.441176</td>\n",
       "      <td>0.640898</td>\n",
       "      <td>[('lewis', 'PERSON'), ('max', 'PERSON'), ('max...</td>\n",
       "      <td>0.073566</td>\n",
       "      <td>0.112219</td>\n",
       "      <td>0.009975</td>\n",
       "      <td>0.002494</td>\n",
       "      <td>[(10, 0.286261), (25, 0.7099816)]</td>\n",
       "      <td>514</td>\n",
       "      <td>5197</td>\n",
       "      <td>0</td>\n",
       "      <td>0.514366</td>\n",
       "    </tr>\n",
       "    <tr>\n",
       "      <th>4</th>\n",
       "      <td>t2_3edl7</td>\n",
       "      <td>location, altitude, speed, direction every dji...</td>\n",
       "      <td>Germany</td>\n",
       "      <td>Western</td>\n",
       "      <td>['[\"[\\'location\\',\",', '\"\\',\\',\",', '\"\\'altitu...</td>\n",
       "      <td>[\"'location'\", \"'altitude'\", \"'speed'\", \"'dire...</td>\n",
       "      <td>5.916865</td>\n",
       "      <td>60.968085</td>\n",
       "      <td>0.719715</td>\n",
       "      <td>[('dji', 'PRODUCT'), ('30 miles', 'QUANTITY'),...</td>\n",
       "      <td>0.122328</td>\n",
       "      <td>0.085511</td>\n",
       "      <td>0.005938</td>\n",
       "      <td>0.001188</td>\n",
       "      <td>[(3, 0.019032711), (25, 0.04007173), (27, 0.93...</td>\n",
       "      <td>606</td>\n",
       "      <td>5823</td>\n",
       "      <td>11</td>\n",
       "      <td>0.401854</td>\n",
       "    </tr>\n",
       "    <tr>\n",
       "      <th>5</th>\n",
       "      <td>t2_r4dta</td>\n",
       "      <td>far iptv. lot trial error finally found config...</td>\n",
       "      <td>Germany</td>\n",
       "      <td>Western</td>\n",
       "      <td>['[\"[\\'far\\',\",', '\"\\'iptv\\',\",', '\"\\'.\\',\",',...</td>\n",
       "      <td>[\"'far'\", \"'lot'\", \"'trial'\", \"'error'\", \"'fin...</td>\n",
       "      <td>5.458732</td>\n",
       "      <td>83.477273</td>\n",
       "      <td>0.651607</td>\n",
       "      <td>[('around 95%', 'PERCENT'), ('two', 'CARDINAL'...</td>\n",
       "      <td>0.083406</td>\n",
       "      <td>0.046047</td>\n",
       "      <td>0.006950</td>\n",
       "      <td>0.004344</td>\n",
       "      <td>[(3, 0.68141955), (25, 0.28099504), (27, 0.036...</td>\n",
       "      <td>750</td>\n",
       "      <td>7433</td>\n",
       "      <td>10</td>\n",
       "      <td>0.505461</td>\n",
       "    </tr>\n",
       "    <tr>\n",
       "      <th>6</th>\n",
       "      <td>t2_8oq1onsp</td>\n",
       "      <td>19th century? i'm first come criticising germa...</td>\n",
       "      <td>Germany</td>\n",
       "      <td>Western</td>\n",
       "      <td>['[\"[\\'19th\\',\",', '\"\\'century\\',\",', '\"\\'?\\',...</td>\n",
       "      <td>[\"'th'\", \"'century'\", \"'i'\", \"'m'\", \"'first'\",...</td>\n",
       "      <td>6.331250</td>\n",
       "      <td>54.857143</td>\n",
       "      <td>0.732500</td>\n",
       "      <td>[('19th century', 'DATE'), ('first', 'ORDINAL'...</td>\n",
       "      <td>0.117500</td>\n",
       "      <td>0.068750</td>\n",
       "      <td>0.017500</td>\n",
       "      <td>0.000000</td>\n",
       "      <td>[(10, 0.19710149), (25, 0.014830774), (27, 0.7...</td>\n",
       "      <td>586</td>\n",
       "      <td>5864</td>\n",
       "      <td>11</td>\n",
       "      <td>0.463771</td>\n",
       "    </tr>\n",
       "    <tr>\n",
       "      <th>7</th>\n",
       "      <td>t2_ohefx</td>\n",
       "      <td>read theory. i'm sure learn difference univers...</td>\n",
       "      <td>Denmark</td>\n",
       "      <td>Western</td>\n",
       "      <td>['[\"[\\'read\\',\",', '\"\\'theory\\',\",', '\"\\'.\\',\"...</td>\n",
       "      <td>[\"'read'\", \"'theory'\", \"'i'\", \"'m'\", \"'sure'\",...</td>\n",
       "      <td>4.929730</td>\n",
       "      <td>66.163265</td>\n",
       "      <td>0.589189</td>\n",
       "      <td>[('america', 'GPE'), ('europe', 'LOC'), ('amer...</td>\n",
       "      <td>0.098198</td>\n",
       "      <td>0.042342</td>\n",
       "      <td>0.010811</td>\n",
       "      <td>0.000000</td>\n",
       "      <td>[(6, 0.6443614), (10, 0.17756967), (25, 0.0357...</td>\n",
       "      <td>654</td>\n",
       "      <td>6581</td>\n",
       "      <td>9</td>\n",
       "      <td>0.473738</td>\n",
       "    </tr>\n",
       "    <tr>\n",
       "      <th>8</th>\n",
       "      <td>t2_kd2lsk</td>\n",
       "      <td>i'd say probably - maybe racist - bias. can't ...</td>\n",
       "      <td>France</td>\n",
       "      <td>Western</td>\n",
       "      <td>['[\"[\\'i\\',\",', '\\'\"\\\\\\'d\",\\',', '\"\\'say\\',\",'...</td>\n",
       "      <td>[\"'i'\", \"'d'\", \"'say'\", \"'probably'\", \"'maybe'...</td>\n",
       "      <td>5.734149</td>\n",
       "      <td>107.107143</td>\n",
       "      <td>0.751947</td>\n",
       "      <td>[('french', 'NORP'), ('5 year', 'DATE'), ('aus...</td>\n",
       "      <td>0.055617</td>\n",
       "      <td>0.094549</td>\n",
       "      <td>0.008899</td>\n",
       "      <td>0.004449</td>\n",
       "      <td>[(10, 0.23158021), (16, 0.11595541), (25, 0.60...</td>\n",
       "      <td>676</td>\n",
       "      <td>6053</td>\n",
       "      <td>24</td>\n",
       "      <td>0.497906</td>\n",
       "    </tr>\n",
       "    <tr>\n",
       "      <th>9</th>\n",
       "      <td>t2_y77lc</td>\n",
       "      <td>another. ai text recognition also better human...</td>\n",
       "      <td>Finland</td>\n",
       "      <td>Western</td>\n",
       "      <td>['[\"[\\'another\\',\",', '\"\\'.\\',\",', '\"\\'ai\\',\",...</td>\n",
       "      <td>[\"'another'\", \"'ai'\", \"'text'\", \"'recognition'...</td>\n",
       "      <td>5.554726</td>\n",
       "      <td>55.666667</td>\n",
       "      <td>0.671642</td>\n",
       "      <td>[('one', 'CARDINAL'), ('first', 'ORDINAL'), ('...</td>\n",
       "      <td>0.113184</td>\n",
       "      <td>0.078358</td>\n",
       "      <td>0.002488</td>\n",
       "      <td>0.000000</td>\n",
       "      <td>[(25, 0.9238123), (27, 0.068949506)]</td>\n",
       "      <td>540</td>\n",
       "      <td>5269</td>\n",
       "      <td>4</td>\n",
       "      <td>0.474975</td>\n",
       "    </tr>\n",
       "  </tbody>\n",
       "</table>\n",
       "</div>"
      ],
      "text/plain": [
       "     auhtor_ID                                               post  \\\n",
       "0  t2_ffcfiueh  course people look hyperbolic one racism bad e...   \n",
       "1     t2_lfs48  police drag foot it/come different conclusion ...   \n",
       "2     t2_zcj4y  nice curves. really pretty. maybe i'm 'oldscho...   \n",
       "3  t2_2xpu7n1c  action try manufacture result make “good” tv. ...   \n",
       "4     t2_3edl7  location, altitude, speed, direction every dji...   \n",
       "5     t2_r4dta  far iptv. lot trial error finally found config...   \n",
       "6  t2_8oq1onsp  19th century? i'm first come criticising germa...   \n",
       "7     t2_ohefx  read theory. i'm sure learn difference univers...   \n",
       "8    t2_kd2lsk  i'd say probably - maybe racist - bias. can't ...   \n",
       "9     t2_y77lc  another. ai text recognition also better human...   \n",
       "\n",
       "       nationality    Poles  \\\n",
       "0           Norway  Western   \n",
       "1          Germany  Western   \n",
       "2  The Netherlands  Western   \n",
       "3   United Kingdom  Western   \n",
       "4          Germany  Western   \n",
       "5          Germany  Western   \n",
       "6          Germany  Western   \n",
       "7          Denmark  Western   \n",
       "8           France  Western   \n",
       "9          Finland  Western   \n",
       "\n",
       "                                              tokens  \\\n",
       "0  ['[\"[\\'course\\',\",', '\"\\'people\\',\",', '\"\\'loo...   \n",
       "1  ['[\"[\\'police\\',\",', '\"\\'drag\\',\",', '\"\\'foot\\...   \n",
       "2  ['[\"[\\'nice\\',\",', '\"\\'curves\\',\",', '\"\\'.\\',\"...   \n",
       "3  ['[\"[\\'action\\',\",', '\"\\'try\\',\",', '\"\\'manufa...   \n",
       "4  ['[\"[\\'location\\',\",', '\"\\',\\',\",', '\"\\'altitu...   \n",
       "5  ['[\"[\\'far\\',\",', '\"\\'iptv\\',\",', '\"\\'.\\',\",',...   \n",
       "6  ['[\"[\\'19th\\',\",', '\"\\'century\\',\",', '\"\\'?\\',...   \n",
       "7  ['[\"[\\'read\\',\",', '\"\\'theory\\',\",', '\"\\'.\\',\"...   \n",
       "8  ['[\"[\\'i\\',\",', '\\'\"\\\\\\'d\",\\',', '\"\\'say\\',\",'...   \n",
       "9  ['[\"[\\'another\\',\",', '\"\\'.\\',\",', '\"\\'ai\\',\",...   \n",
       "\n",
       "                                          eng_tokens  average_word_length  \\\n",
       "0  [\"'course'\", \"'people'\", \"'look'\", \"'hyperboli...             5.481442   \n",
       "1  [\"'police'\", \"'drag'\", \"'foot'\", \"'it'\", \"'com...             6.285714   \n",
       "2  [\"'nice'\", \"'really'\", \"'pretty'\", \"'maybe'\", ...             5.580460   \n",
       "3  [\"'action'\", \"'try'\", \"'manufacture'\", \"'resul...             5.481297   \n",
       "4  [\"'location'\", \"'altitude'\", \"'speed'\", \"'dire...             5.916865   \n",
       "5  [\"'far'\", \"'lot'\", \"'trial'\", \"'error'\", \"'fin...             5.458732   \n",
       "6  [\"'th'\", \"'century'\", \"'i'\", \"'m'\", \"'first'\",...             6.331250   \n",
       "7  [\"'read'\", \"'theory'\", \"'i'\", \"'m'\", \"'sure'\",...             4.929730   \n",
       "8  [\"'i'\", \"'d'\", \"'say'\", \"'probably'\", \"'maybe'...             5.734149   \n",
       "9  [\"'another'\", \"'ai'\", \"'text'\", \"'recognition'...             5.554726   \n",
       "\n",
       "   avg_sentence_length       ttr  \\\n",
       "0            66.164835  0.707317   \n",
       "1            85.014925  0.718078   \n",
       "2            34.134969  0.747126   \n",
       "3            75.441176  0.640898   \n",
       "4            60.968085  0.719715   \n",
       "5            83.477273  0.651607   \n",
       "6            54.857143  0.732500   \n",
       "7            66.163265  0.589189   \n",
       "8           107.107143  0.751947   \n",
       "9            55.666667  0.671642   \n",
       "\n",
       "                                                 ner    norm_.    norm_,  \\\n",
       "0  [('one', 'CARDINAL'), ('bkb', 'ORG'), ('hundre...  0.091198  0.047720   \n",
       "1  [('anmeldung', 'GPE'), ('berlin', 'GPE'), ('fi...  0.113780  0.078382   \n",
       "2  [('lootboxes', 'NORP'), ('1', 'CARDINAL'), (\"1...  0.174713  0.065517   \n",
       "3  [('lewis', 'PERSON'), ('max', 'PERSON'), ('max...  0.073566  0.112219   \n",
       "4  [('dji', 'PRODUCT'), ('30 miles', 'QUANTITY'),...  0.122328  0.085511   \n",
       "5  [('around 95%', 'PERCENT'), ('two', 'CARDINAL'...  0.083406  0.046047   \n",
       "6  [('19th century', 'DATE'), ('first', 'ORDINAL'...  0.117500  0.068750   \n",
       "7  [('america', 'GPE'), ('europe', 'LOC'), ('amer...  0.098198  0.042342   \n",
       "8  [('french', 'NORP'), ('5 year', 'DATE'), ('aus...  0.055617  0.094549   \n",
       "9  [('one', 'CARDINAL'), ('first', 'ORDINAL'), ('...  0.113184  0.078358   \n",
       "\n",
       "     norm_?    norm_!                                topic_distributions  \\\n",
       "0  0.006363  0.007423  [(6, 0.27886572), (10, 0.17313653), (25, 0.319...   \n",
       "1  0.002528  0.000000               [(25, 0.72906566), (27, 0.26771897)]   \n",
       "2  0.021839  0.010345  [(5, 0.067286186), (10, 0.1327022), (25, 0.799...   \n",
       "3  0.009975  0.002494                  [(10, 0.286261), (25, 0.7099816)]   \n",
       "4  0.005938  0.001188  [(3, 0.019032711), (25, 0.04007173), (27, 0.93...   \n",
       "5  0.006950  0.004344  [(3, 0.68141955), (25, 0.28099504), (27, 0.036...   \n",
       "6  0.017500  0.000000  [(10, 0.19710149), (25, 0.014830774), (27, 0.7...   \n",
       "7  0.010811  0.000000  [(6, 0.6443614), (10, 0.17756967), (25, 0.0357...   \n",
       "8  0.008899  0.004449  [(10, 0.23158021), (16, 0.11595541), (25, 0.60...   \n",
       "9  0.002488  0.000000               [(25, 0.9238123), (27, 0.068949506)]   \n",
       "\n",
       "   nr_unique_words  nr_chars  nr_contradictions  subjectivity  \n",
       "0              667      6111                  6      0.485495  \n",
       "1              568      5762                 17      0.487030  \n",
       "2              650      5724                 18      0.551005  \n",
       "3              514      5197                  0      0.514366  \n",
       "4              606      5823                 11      0.401854  \n",
       "5              750      7433                 10      0.505461  \n",
       "6              586      5864                 11      0.463771  \n",
       "7              654      6581                  9      0.473738  \n",
       "8              676      6053                 24      0.497906  \n",
       "9              540      5269                  4      0.474975  "
      ]
     },
     "execution_count": 3,
     "metadata": {},
     "output_type": "execute_result"
    }
   ],
   "source": [
    "# read file balanced dataset (approx 15K per pole)\n",
    "tokenized_nationality_balanced = pd.read_csv(\"data/Undersampled_balanced_data.csv\")\n",
    "tokenized_nationality_balanced.head(10)"
   ]
  },
  {
   "cell_type": "markdown",
   "metadata": {},
   "source": [
    "#### Creating column of bi-grams"
   ]
  },
  {
   "cell_type": "code",
   "execution_count": 4,
   "metadata": {},
   "outputs": [
    {
     "name": "stdout",
     "output_type": "stream",
     "text": [
      "         Poles                                         eng_tokens  \\\n",
      "0      Western  [\"'course'\", \"'people'\", \"'look'\", \"'hyperboli...   \n",
      "1      Western  [\"'police'\", \"'drag'\", \"'foot'\", \"'it'\", \"'com...   \n",
      "2      Western  [\"'nice'\", \"'really'\", \"'pretty'\", \"'maybe'\", ...   \n",
      "3      Western  [\"'action'\", \"'try'\", \"'manufacture'\", \"'resul...   \n",
      "4      Western  [\"'location'\", \"'altitude'\", \"'speed'\", \"'dire...   \n",
      "...        ...                                                ...   \n",
      "30937  Eastern  [\"'raid'\", \"'good'\", \"'hunt'\", \"'mean'\", \"'gov...   \n",
      "30938  Eastern  [\"'homemade'\", \"'one'\", \"'kill'\", \"'people'\", ...   \n",
      "30939  Eastern  [\"'head'\", \"'look'\", \"'like'\", \"'imperialism'\"...   \n",
      "30940  Eastern  [\"'purgatory'\", \"'help'\", \"'soul'\", \"'get'\", \"...   \n",
      "30941  Eastern  [\"'claim'\", \"'talking'\", \"'ca'\", \"'even'\", \"'e...   \n",
      "\n",
      "                                                bi_grams  \n",
      "0      [('course', 'people'), ('people', 'look'), ('l...  \n",
      "1      [('police', 'drag'), ('drag', 'foot'), ('foot'...  \n",
      "2      [('nice', 'really'), ('really', 'pretty'), ('p...  \n",
      "3      [('action', 'try'), ('try', 'manufacture'), ('...  \n",
      "4      [('location', 'altitude'), ('altitude', 'speed...  \n",
      "...                                                  ...  \n",
      "30937  [('raid', 'good'), ('good', 'hunt'), ('hunt', ...  \n",
      "30938  [('homemade', 'one'), ('one', 'kill'), ('kill'...  \n",
      "30939  [('head', 'look'), ('look', 'like'), ('like', ...  \n",
      "30940  [('purgatory', 'help'), ('help', 'soul'), ('so...  \n",
      "30941  [('claim', 'talking'), ('talking', 'ca'), ('ca...  \n",
      "\n",
      "[30942 rows x 3 columns]\n"
     ]
    }
   ],
   "source": [
    "# Function to create bi-grams from a list of tokens\n",
    "def generate_bi_grams(tokens):\n",
    "    return list(ngrams(tokens, 2))\n",
    "\n",
    "# Apply the bi-gram extraction to the 'eng_tokens' column\n",
    "tokenized_nationality_balanced['bi_grams'] = tokenized_nationality_balanced['eng_tokens'].apply(lambda x: generate_bi_grams(literal_eval(x)))\n",
    "\n",
    "# Display the resulting DataFrame\n",
    "print(tokenized_nationality_balanced[['Poles', 'eng_tokens', 'bi_grams']])"
   ]
  },
  {
   "cell_type": "markdown",
   "metadata": {},
   "source": [
    "### Frequency distribution for bi-grams column:"
   ]
  },
  {
   "cell_type": "code",
   "execution_count": 5,
   "metadata": {},
   "outputs": [
    {
     "name": "stdout",
     "output_type": "stream",
     "text": [
      "\n",
      "Bigram Frequency Distribution for tokenized_nationality_balanced (Top 30):\n",
      "[((\"'i'\", \"'m'\"), 93275), ((\"'n'\", \"'t'\"), 90366), ((\"'that'\", \"'s'\"), 76212), ((\"'ca'\", \"'n'\"), 38775), ((\"'it'\", \"'s'\"), 27552), ((\"'there'\", \"'s'\"), 26681), ((\"'they'\", \"'re'\"), 24016), ((\"'i'\", \"'d'\"), 21070), ((\"'do'\", \"'n'\"), 19119), ((\"'he'\", \"'s'\"), 17795), ((\"'look'\", \"'like'\"), 10871), ((\"'de'\", \"'de'\"), 10118), ((\"'what'\", \"'s'\"), 10055), ((\"'we'\", \"'re'\"), 9407), ((\"'gon'\", \"'na'\"), 8859), ((\"'de'\", \"'la'\"), 8011), ((\"'feel'\", \"'like'\"), 7868), ((\"'x'\", \"'b'\"), 7601), ((\"'year'\", \"'ago'\"), 7375), ((\"'m'\", \"'sure'\"), 7369), ((\"'make'\", \"'sense'\"), 7176), ((\"'can'\", \"'not'\"), 7108), ((\"'let'\", \"'s'\"), 6857), ((\"'does'\", \"'n'\"), 6507), ((\"'you'\", \"'re'\"), 6488), ((\"'pretty'\", \"'much'\"), 6339), ((\"'sound'\", \"'like'\"), 6330), ((\"'did'\", \"'n'\"), 5925), ((\"'like'\", \"'that'\"), 5775), ((\"'da'\", \"'se'\"), 5648)]\n"
     ]
    }
   ],
   "source": [
    "# Extract bigrams from the 'bi_grams' column and store in all_bigrams_balanced\n",
    "all_bigrams_balanced = [bigram for sublist in tokenized_nationality_balanced['bi_grams'] for bigram in sublist]\n",
    "\n",
    "# Calculate the frequency distribution of bigrams\n",
    "bigram_freq_dist_balanced = FreqDist(all_bigrams_balanced)\n",
    "\n",
    "# Display a subset of bigrams and their frequencies\n",
    "print(\"\\nBigram Frequency Distribution for tokenized_nationality_balanced (Top 30):\")\n",
    "print(bigram_freq_dist_balanced.most_common(30))  # Displaying the top 30 bigrams"
   ]
  },
  {
   "cell_type": "markdown",
   "metadata": {},
   "source": [
    "### Compare the frequency of the top 30 bi-grams for eastern and western "
   ]
  },
  {
   "cell_type": "code",
   "execution_count": 6,
   "metadata": {},
   "outputs": [],
   "source": [
    "# Create separate datasets for Eastern and Western poles\n",
    "eastern_data_balanced = tokenized_nationality_balanced[tokenized_nationality_balanced['Poles'] == 'Eastern']\n",
    "western_data_balanced = tokenized_nationality_balanced[tokenized_nationality_balanced['Poles'] == 'Western']\n",
    "\n",
    "# Extract bigrams for Eastern poles\n",
    "eastern_bigrams_balanced = [bigram for sublist in eastern_data_balanced['bi_grams'] for bigram in sublist]\n",
    "eastern_bigram_freq_dist_balanced = FreqDist(eastern_bigrams_balanced)\n",
    "\n",
    "# Extract bigrams for Western poles\n",
    "western_bigrams_balanced = [bigram for sublist in western_data_balanced['bi_grams'] for bigram in sublist]\n",
    "western_bigram_freq_dist_balanced = FreqDist(western_bigrams_balanced)\n",
    "\n",
    "# Get the top 30 bigrams for each pole\n",
    "top30_eastern_bigrams_balanced = eastern_bigram_freq_dist_balanced.most_common(30)\n",
    "top30_western_bigrams_balanced = western_bigram_freq_dist_balanced.most_common(30)\n",
    "\n",
    "# Convert bigram tuples to strings\n",
    "top30_eastern_bigrams_balanced_str = [f\"{bigram[0]} {bigram[1]}\" for bigram, _ in top30_eastern_bigrams_balanced]\n",
    "top30_western_bigrams_balanced_str = [f\"{bigram[0]} {bigram[1]}\" for bigram, _ in top30_western_bigrams_balanced]\n"
   ]
  },
  {
   "cell_type": "code",
   "execution_count": 7,
   "metadata": {},
   "outputs": [
    {
     "data": {
      "image/png": "[encoded data removed]",
      "text/plain": [
       "<Figure size 1500x600 with 1 Axes>"
      ]
     },
     "metadata": {},
     "output_type": "display_data"
    }
   ],
   "source": [
    "# Visualize the comparison for Eastern poles (bar chart)\n",
    "fig, ax = plt.subplots(figsize=(15, 6))\n",
    "ax.bar(top30_eastern_bigrams_balanced_str, [freq for _, freq in top30_eastern_bigrams_balanced], color='blue', label='Eastern')\n",
    "\n",
    "# Set plot labels and title\n",
    "ax.set_xlabel('Bigrams')\n",
    "ax.set_ylabel('Frequency')\n",
    "ax.set_title('Top 30 Bigrams - Eastern Poles_balanced')\n",
    "ax.tick_params(axis='x', rotation=45, labelsize=8)\n",
    "\n",
    "# Display legend\n",
    "ax.legend()\n",
    "\n",
    "# Show the plot\n",
    "plt.tight_layout()\n",
    "plt.show()"
   ]
  },
  {
   "cell_type": "code",
   "execution_count": 8,
   "metadata": {},
   "outputs": [
    {
     "data": {
      "image/png": "[encoded data removed]",
      "text/plain": [
       "<Figure size 1500x600 with 1 Axes>"
      ]
     },
     "metadata": {},
     "output_type": "display_data"
    }
   ],
   "source": [
    "# Visualize the comparison for Western poles (bar chart)\n",
    "fig, ax = plt.subplots(figsize=(15, 6))\n",
    "ax.bar(top30_western_bigrams_balanced_str, [freq for _, freq in top30_western_bigrams_balanced], color='orange', label='Western')\n",
    "\n",
    "# Set plot labels and title\n",
    "ax.set_xlabel('Bigrams')\n",
    "ax.set_ylabel('Frequency')\n",
    "ax.set_title('Top 30 Bigrams - Western Poles_balanced')\n",
    "ax.tick_params(axis='x', rotation=45, labelsize=8)\n",
    "\n",
    "# Display legend\n",
    "ax.legend()\n",
    "\n",
    "# Show the plot\n",
    "plt.tight_layout()\n",
    "plt.show()"
   ]
  },
  {
   "cell_type": "code",
   "execution_count": 9,
   "metadata": {},
   "outputs": [
    {
     "name": "stdout",
     "output_type": "stream",
     "text": [
      "top30_eastern_bigrams: \n",
      "[((\"'i'\", \"'m'\"), 43630), ((\"'n'\", \"'t'\"), 43301), ((\"'that'\", \"'s'\"), 35863), ((\"'ca'\", \"'n'\"), 18863), ((\"'it'\", \"'s'\"), 13302), ((\"'there'\", \"'s'\"), 10990), ((\"'do'\", \"'n'\"), 9367), ((\"'they'\", \"'re'\"), 9078), ((\"'i'\", \"'d'\"), 8845), ((\"'he'\", \"'s'\"), 7800), ((\"'da'\", \"'se'\"), 5509), ((\"'look'\", \"'like'\"), 5434), ((\"'what'\", \"'s'\"), 4857), ((\"'gon'\", \"'na'\"), 4633), ((\"'x'\", \"'b'\"), 4516), ((\"'de'\", \"'de'\"), 4307), ((\"'de'\", \"'la'\"), 4228), ((\"'we'\", \"'re'\"), 3972), ((\"'feel'\", \"'like'\"), 3905), ((\"'can'\", \"'not'\"), 3677), ((\"'m'\", \"'a'\"), 3665), ((\"'year'\", \"'ago'\"), 3622), ((\"'let'\", \"'s'\"), 3532), ((\"'da'\", \"'da'\"), 3469), ((\"'make'\", \"'sense'\"), 3431), ((\"'ne'\", \"'da'\"), 3418), ((\"'m'\", \"'sure'\"), 3386), ((\"'na'\", \"'na'\"), 3337), ((\"'se'\", \"'da'\"), 3303), ((\"'does'\", \"'n'\"), 3234)]\n",
      "top30_western_bigrams: \n",
      "[((\"'i'\", \"'m'\"), 49645), ((\"'n'\", \"'t'\"), 47065), ((\"'that'\", \"'s'\"), 40349), ((\"'ca'\", \"'n'\"), 19912), ((\"'there'\", \"'s'\"), 15691), ((\"'they'\", \"'re'\"), 14938), ((\"'it'\", \"'s'\"), 14250), ((\"'i'\", \"'d'\"), 12225), ((\"'he'\", \"'s'\"), 9995), ((\"'do'\", \"'n'\"), 9752), ((\"'de'\", \"'de'\"), 5811), ((\"'look'\", \"'like'\"), 5437), ((\"'we'\", \"'re'\"), 5435), ((\"'what'\", \"'s'\"), 5198), ((\"'die'\", \"'die'\"), 4444), ((\"'gon'\", \"'na'\"), 4226), ((\"'da'\", \"'ist'\"), 4061), ((\"'m'\", \"'sure'\"), 3983), ((\"'feel'\", \"'like'\"), 3963), ((\"'de'\", \"'la'\"), 3783), ((\"'year'\", \"'ago'\"), 3753), ((\"'make'\", \"'sense'\"), 3745), ((\"'you'\", \"'re'\"), 3708), ((\"'sound'\", \"'like'\"), 3562), ((\"'can'\", \"'not'\"), 3431), ((\"'let'\", \"'s'\"), 3325), ((\"'does'\", \"'n'\"), 3273), ((\"'pretty'\", \"'much'\"), 3149), ((\"'ist'\", \"'da'\"), 3138), ((\"'x'\", \"'b'\"), 3085)]\n"
     ]
    }
   ],
   "source": [
    "## Print the top 30 bi-grams for eastern and western users:\n",
    "print('top30_eastern_bigrams: ')\n",
    "print(top30_eastern_bigrams_balanced)\n",
    "print('top30_western_bigrams: ')\n",
    "print(top30_western_bigrams_balanced)"
   ]
  },
  {
   "cell_type": "markdown",
   "metadata": {},
   "source": [
    "### Feature Extraction: "
   ]
  },
  {
   "cell_type": "code",
   "execution_count": 10,
   "metadata": {},
   "outputs": [],
   "source": [
    "class NgramFeatureExtractor:\n",
    "    def __init__(self, n=2):\n",
    "        self.n = n\n",
    "\n",
    "    def create_ngram_features(self, words):\n",
    "        ngram_vocab = ngrams(words, self.n)\n",
    "        my_dict = dict([(ng, True) for ng in ngram_vocab])\n",
    "        return my_dict"
   ]
  },
  {
   "cell_type": "code",
   "execution_count": 11,
   "metadata": {},
   "outputs": [],
   "source": [
    "# Convert 'Poles' to a binary label (0 for Eastern, 1 for Western) for binary classification\n",
    "label_mapping = {'Eastern': 0, 'Western': 1}\n",
    "tokenized_nationality_balanced['label'] = tokenized_nationality_balanced['Poles'].map(label_mapping)\n",
    " \n",
    "# Initialize lists to store results\n",
    "results_balanced = []"
   ]
  },
  {
   "cell_type": "markdown",
   "metadata": {},
   "source": [
    "### Running through Naive Bayes model for author classification"
   ]
  },
  {
   "cell_type": "code",
   "execution_count": 12,
   "metadata": {},
   "outputs": [
    {
     "name": "stdout",
     "output_type": "stream",
     "text": [
      "2-gram accuracy: 0.6996283729196963\n",
      "2-gram Classification Report:\n",
      "              precision    recall  f1-score   support\n",
      "\n",
      "           0       1.00      0.39      0.56      3058\n",
      "           1       0.63      1.00      0.77      3131\n",
      "\n",
      "    accuracy                           0.70      6189\n",
      "   macro avg       0.81      0.70      0.67      6189\n",
      "weighted avg       0.81      0.70      0.67      6189\n",
      "\n",
      "3-gram accuracy: 0.699143641945387\n",
      "3-gram Classification Report:\n",
      "              precision    recall  f1-score   support\n",
      "\n",
      "           0       1.00      0.39      0.56      3058\n",
      "           1       0.63      1.00      0.77      3131\n",
      "\n",
      "    accuracy                           0.70      6189\n",
      "   macro avg       0.81      0.70      0.67      6189\n",
      "weighted avg       0.81      0.70      0.67      6189\n",
      "\n"
     ]
    }
   ],
   "source": [
    "# Iterate through different N-gram sizes (bi-grams and tri-grams)\n",
    "for n in [2, 3]:\n",
    "    ngram_extractor_balanced = NgramFeatureExtractor(n)\n",
    "    author_data_balanced = []\n",
    "\n",
    "    # Iterate through rows in the DataFrame\n",
    "    for index, row in tokenized_nationality_balanced.iterrows():\n",
    "        words_balanced = word_tokenize(row['eng_tokens'])\n",
    "        author_data_balanced.append((ngram_extractor_balanced.create_ngram_features(words_balanced), row['label']))\n",
    "\n",
    "    # Split the data into training and testing sets\n",
    "    train_set_balanced, test_set_balanced = train_test_split(author_data_balanced, test_size=0.2, random_state=42)\n",
    "\n",
    "    # Train a Naive Bayes classifier\n",
    "    classifier_balanced = NaiveBayesClassifier.train(train_set_balanced)\n",
    "\n",
    "    # Evaluate the model on the test set\n",
    "    predictions_balanced = [classifier_balanced.classify(features) for features, _ in test_set_balanced]\n",
    "    true_labels_balanced = [label for _, label in test_set_balanced]\n",
    "\n",
    "    # Calculate and print accuracy\n",
    "    accuracy_balanced = accuracy_score(true_labels_balanced, predictions_balanced)\n",
    "    print(str(n) + '-gram accuracy:', accuracy_balanced)\n",
    "\n",
    "    # Classification Report\n",
    "    report_balanced = classification_report(true_labels_balanced, predictions_balanced)\n",
    "    print(f\"{n}-gram Classification Report:\\n{report_balanced}\")\n",
    "\n",
    "    # Store results for later analysis if needed\n",
    "    results_balanced.append({'n': n, 'accuracy': accuracy_balanced, 'predictions': predictions_balanced, 'true_labels': true_labels_balanced})"
   ]
  },
  {
   "cell_type": "markdown",
   "metadata": {},
   "source": [
    "#### Hyperparameter tuning with smoothing:\n",
    "Laplace (add-one) smoothing"
   ]
  },
  {
   "cell_type": "code",
   "execution_count": 13,
   "metadata": {},
   "outputs": [
    {
     "name": "stdout",
     "output_type": "stream",
     "text": [
      "Validation Accuracy: 0.7140087251575375\n"
     ]
    }
   ],
   "source": [
    "from nltk.classify import NaiveBayesClassifier\n",
    "from nltk.tokenize import word_tokenize\n",
    "from nltk.probability import LaplaceProbDist\n",
    "from sklearn.model_selection import train_test_split\n",
    "from sklearn.metrics import accuracy_score\n",
    "\n",
    "# Assuming 'eng_tokens' contains the tokenized text and 'label' contains the binary label\n",
    "featuresets = [\n",
    "    (FreqDist(word_tokenize(row['eng_tokens'])), row['label'])\n",
    "    for _, row in tokenized_nationality_balanced.iterrows()\n",
    "]\n",
    "\n",
    "# Split the data into training and validation sets\n",
    "train_set, val_set = train_test_split(featuresets, test_size=0.2, random_state=42)\n",
    "\n",
    "# Initialize the Naive Bayes classifier with Laplace smoothing\n",
    "classifier = NaiveBayesClassifier.train(train_set, estimator=LaplaceProbDist)\n",
    "\n",
    "# Evaluate on validation set\n",
    "val_predictions = [classifier.classify(features) for features, _ in val_set]\n",
    "val_accuracy = accuracy_score([label for _, label in val_set], val_predictions)\n",
    "\n",
    "print(f\"Validation Accuracy: {val_accuracy}\")\n"
   ]
  },
  {
   "cell_type": "markdown",
   "metadata": {},
   "source": [
    "Thus, 71.4% of the instances in the validation set were classified correctly by the NB trained model."
   ]
  },
  {
   "cell_type": "markdown",
   "metadata": {},
   "source": [
    "#### Cross validation: \n",
    "k-fold cross-validation and returns the accuracy for each fold"
   ]
  },
  {
   "cell_type": "code",
   "execution_count": 16,
   "metadata": {},
   "outputs": [
    {
     "name": "stdout",
     "output_type": "stream",
     "text": [
      "Cross-Validation Scores: [0.87043619 0.88852989 0.82352941 0.82902392 0.86619263 0.7656755\n",
      " 0.77343245 0.88332256 0.78862314 0.77731092]\n",
      "Mean Accuracy: 0.8266076610835709\n"
     ]
    }
   ],
   "source": [
    "from sklearn.naive_bayes import MultinomialNB\n",
    "from sklearn.feature_extraction.text import CountVectorizer\n",
    "from sklearn.pipeline import make_pipeline\n",
    "from sklearn.model_selection import cross_val_score\n",
    "\n",
    "\n",
    "# Assuming 'eng_tokens' contains the tokenized text and 'label' contains the binary label\n",
    "X = tokenized_nationality_balanced['eng_tokens']\n",
    "y = tokenized_nationality_balanced['label']\n",
    "\n",
    "# Create a pipeline with CountVectorizer and Multinomial Naive Bayes\n",
    "model = make_pipeline(CountVectorizer(), MultinomialNB())\n",
    "\n",
    "# Perform 10-fold cross-validation\n",
    "cross_val_scores = cross_val_score(model, X, y, cv=10, scoring='accuracy')\n",
    "\n",
    "# Print the cross-validation scores\n",
    "print(\"Cross-Validation Scores:\", cross_val_scores)\n",
    "print(\"Mean Accuracy:\", cross_val_scores.mean())\n"
   ]
  },
  {
   "cell_type": "code",
   "execution_count": 17,
   "metadata": {},
   "outputs": [
    {
     "name": "stdout",
     "output_type": "stream",
     "text": [
      "Validation Accuracy: 0.7140087251575375\n",
      "Matthews Correlation Coefficient: 0.5167339808374946\n"
     ]
    }
   ],
   "source": [
    "from sklearn.metrics import matthews_corrcoef\n",
    "# Calculate Matthews Correlation Coefficient\n",
    "mcc = matthews_corrcoef([label for _, label in val_set], val_predictions)\n",
    "\n",
    "print(f'Validation Accuracy: {val_accuracy}')\n",
    "print(f'Matthews Correlation Coefficient: {mcc}')"
   ]
  }
 ],
 "metadata": {
  "kernelspec": {
   "display_name": "Python 3 (ipykernel)",
   "language": "python",
   "name": "python3"
  },
  "language_info": {
   "codemirror_mode": {
    "name": "ipython",
    "version": 3
   },
   "file_extension": ".py",
   "mimetype": "text/x-python",
   "name": "python",
   "nbconvert_exporter": "python",
   "pygments_lexer": "ipython3",
   "version": "3.10.9"
  }
 },
 "nbformat": 4,
 "nbformat_minor": 1
}
