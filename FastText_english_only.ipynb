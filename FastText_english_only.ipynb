{
 "cells": [
  {
   "cell_type": "markdown",
   "source": [
    "\n",
    "## Imports"
   ],
   "metadata": {
    "collapsed": false,
    "pycharm": {
     "name": "#%% md\n"
    }
   }
  },
  {
   "cell_type": "code",
   "execution_count": 1,
   "outputs": [],
   "source": [
    "import numpy as np\n",
    "import pandas as pd\n",
    "import csv\n",
    "import fasttext\n",
    "from sklearn.model_selection import train_test_split\n",
    "from sklearn.metrics import accuracy_score, classification_report, confusion_matrix\n",
    "from collections import Counter\n",
    "from sklearn.model_selection import StratifiedKFold"
   ],
   "metadata": {
    "collapsed": false,
    "pycharm": {
     "name": "#%%\n"
    }
   }
  },
  {
   "cell_type": "markdown",
   "source": [
    "## Loading Data"
   ],
   "metadata": {
    "collapsed": false,
    "pycharm": {
     "name": "#%% md\n"
    }
   }
  },
  {
   "cell_type": "code",
   "execution_count": 3,
   "outputs": [],
   "source": [
    "df = pd.read_csv(\"tokenized_eng.csv\",\n",
    "                 na_values=['[deleted]', '[removed]']).dropna()"
   ],
   "metadata": {
    "collapsed": false,
    "pycharm": {
     "name": "#%%\n"
    }
   }
  },
  {
   "cell_type": "markdown",
   "source": [
    "### Preparing data (Sampling)"
   ],
   "metadata": {
    "collapsed": false,
    "pycharm": {
     "name": "#%% md\n"
    }
   }
  },
  {
   "cell_type": "markdown",
   "source": [
    "#### Undersampling majority class (Western class)"
   ],
   "metadata": {
    "collapsed": false,
    "pycharm": {
     "name": "#%% md\n"
    }
   }
  },
  {
   "cell_type": "code",
   "execution_count": 4,
   "outputs": [
    {
     "data": {
      "text/plain": "       Unnamed: 0    auhtor_ID   \n39852       42536  t2_3jee3cx4  \\\n57664       62136     t2_dj2ua   \n6463         6797     t2_59w0o   \n73232       79369     t2_f8l2p   \n6254         6569     t2_32nmh   \n...           ...          ...   \n75855       82066  t2_8hacr7if   \n75856       82067  t2_8hacr7if   \n75857       82068  t2_8hacr7if   \n75858       82069  t2_8hacr7if   \n75859       82070  t2_8hacr7if   \n\n                                                    post      nationality   \n39852  everything cannot generalized co2 cost envirom...          Denmark  \\\n57664  trump's favour, would posting this? #facts als...          Germany   \n6463   thought like comparing south american club eur...  The Netherlands   \n73232  jag är inte längre krigsplacerad, men jag kan ...           Sweden   \n6254   borders, maritime base constrained position co...  The Netherlands   \n...                                                  ...              ...   \n75855  raid vitro facilities. good hunt! mean governm...           Poland   \n75856  homemade one kill people already multiple poli...           Poland   \n75857  head. look like imperialism back menu boys! go...           Poland   \n75858  purgatory. wil help soul get heaven quicker kn...           Poland   \n75859  claim talking asshole? lubeck libeck. cant eve...           Poland   \n\n         Poles                                             tokens   \n39852  Western  ['everything', 'can', 'not', 'generalized', 'c...  \\\n57664  Western  ['trump', \"'s\", 'favour', ',', 'would', 'posti...   \n6463   Western  ['thought', 'like', 'comparing', 'south', 'ame...   \n73232  Western  ['jag', 'är', 'inte', 'längre', 'krigsplacerad...   \n6254   Western  ['borders', ',', 'maritime', 'base', 'constrai...   \n...        ...                                                ...   \n75855  Eastern  ['raid', 'vitro', 'facilities', '.', 'good', '...   \n75856  Eastern  ['homemade', 'one', 'kill', 'people', 'already...   \n75857  Eastern  ['head', '.', 'look', 'like', 'imperialism', '...   \n75858  Eastern  ['purgatory', '.', 'wil', 'help', 'soul', 'get...   \n75859  Eastern  ['claim', 'talking', 'asshole', '?', 'lubeck',...   \n\n                                              eng_tokens  average_word_length   \n39852  [\"'everything'\", \"'can'\", \"'not'\", \"'generaliz...             5.748591  \\\n57664  [\"'trump'\", \"'s'\", \"'would'\", \"'posting'\", \"'t...             6.072072   \n6463   [\"'thought'\", \"'like'\", \"'south'\", \"'club'\", \"...             5.539877   \n73232  [\"'jag'\", \"'men'\", \"'jag'\", \"'kan'\", \"'och'\", ...             5.166295   \n6254   [\"'maritime'\", \"'base'\", \"'constrained'\", \"'po...             5.767805   \n...                                                  ...                  ...   \n75855  [\"'raid'\", \"'good'\", \"'hunt'\", \"'mean'\", \"'gov...             5.697468   \n75856  [\"'homemade'\", \"'one'\", \"'kill'\", \"'people'\", ...             5.790725   \n75857  [\"'head'\", \"'look'\", \"'like'\", \"'imperialism'\"...             5.671835   \n75858  [\"'purgatory'\", \"'help'\", \"'soul'\", \"'get'\", \"...             5.748459   \n75859  [\"'claim'\", \"'talking'\", \"'ca'\", \"'even'\", \"'e...             5.859155   \n\n       avg_sentence_length  \n39852            51.508772  \n57664            46.782609  \n6463             47.454545  \n73232            94.471264  \n6254             69.080808  \n...                    ...  \n75855            49.875000  \n75856            50.450450  \n75857            47.716981  \n75858            47.866071  \n75859            46.161290  \n\n[30942 rows x 9 columns]",
      "text/html": "<div>\n<style scoped>\n    .dataframe tbody tr th:only-of-type {\n        vertical-align: middle;\n    }\n\n    .dataframe tbody tr th {\n        vertical-align: top;\n    }\n\n    .dataframe thead th {\n        text-align: right;\n    }\n</style>\n<table border=\"1\" class=\"dataframe\">\n  <thead>\n    <tr style=\"text-align: right;\">\n      <th></th>\n      <th>Unnamed: 0</th>\n      <th>auhtor_ID</th>\n      <th>post</th>\n      <th>nationality</th>\n      <th>Poles</th>\n      <th>tokens</th>\n      <th>eng_tokens</th>\n      <th>average_word_length</th>\n      <th>avg_sentence_length</th>\n    </tr>\n  </thead>\n  <tbody>\n    <tr>\n      <th>39852</th>\n      <td>42536</td>\n      <td>t2_3jee3cx4</td>\n      <td>everything cannot generalized co2 cost envirom...</td>\n      <td>Denmark</td>\n      <td>Western</td>\n      <td>['everything', 'can', 'not', 'generalized', 'c...</td>\n      <td>[\"'everything'\", \"'can'\", \"'not'\", \"'generaliz...</td>\n      <td>5.748591</td>\n      <td>51.508772</td>\n    </tr>\n    <tr>\n      <th>57664</th>\n      <td>62136</td>\n      <td>t2_dj2ua</td>\n      <td>trump's favour, would posting this? #facts als...</td>\n      <td>Germany</td>\n      <td>Western</td>\n      <td>['trump', \"'s\", 'favour', ',', 'would', 'posti...</td>\n      <td>[\"'trump'\", \"'s'\", \"'would'\", \"'posting'\", \"'t...</td>\n      <td>6.072072</td>\n      <td>46.782609</td>\n    </tr>\n    <tr>\n      <th>6463</th>\n      <td>6797</td>\n      <td>t2_59w0o</td>\n      <td>thought like comparing south american club eur...</td>\n      <td>The Netherlands</td>\n      <td>Western</td>\n      <td>['thought', 'like', 'comparing', 'south', 'ame...</td>\n      <td>[\"'thought'\", \"'like'\", \"'south'\", \"'club'\", \"...</td>\n      <td>5.539877</td>\n      <td>47.454545</td>\n    </tr>\n    <tr>\n      <th>73232</th>\n      <td>79369</td>\n      <td>t2_f8l2p</td>\n      <td>jag är inte längre krigsplacerad, men jag kan ...</td>\n      <td>Sweden</td>\n      <td>Western</td>\n      <td>['jag', 'är', 'inte', 'längre', 'krigsplacerad...</td>\n      <td>[\"'jag'\", \"'men'\", \"'jag'\", \"'kan'\", \"'och'\", ...</td>\n      <td>5.166295</td>\n      <td>94.471264</td>\n    </tr>\n    <tr>\n      <th>6254</th>\n      <td>6569</td>\n      <td>t2_32nmh</td>\n      <td>borders, maritime base constrained position co...</td>\n      <td>The Netherlands</td>\n      <td>Western</td>\n      <td>['borders', ',', 'maritime', 'base', 'constrai...</td>\n      <td>[\"'maritime'\", \"'base'\", \"'constrained'\", \"'po...</td>\n      <td>5.767805</td>\n      <td>69.080808</td>\n    </tr>\n    <tr>\n      <th>...</th>\n      <td>...</td>\n      <td>...</td>\n      <td>...</td>\n      <td>...</td>\n      <td>...</td>\n      <td>...</td>\n      <td>...</td>\n      <td>...</td>\n      <td>...</td>\n    </tr>\n    <tr>\n      <th>75855</th>\n      <td>82066</td>\n      <td>t2_8hacr7if</td>\n      <td>raid vitro facilities. good hunt! mean governm...</td>\n      <td>Poland</td>\n      <td>Eastern</td>\n      <td>['raid', 'vitro', 'facilities', '.', 'good', '...</td>\n      <td>[\"'raid'\", \"'good'\", \"'hunt'\", \"'mean'\", \"'gov...</td>\n      <td>5.697468</td>\n      <td>49.875000</td>\n    </tr>\n    <tr>\n      <th>75856</th>\n      <td>82067</td>\n      <td>t2_8hacr7if</td>\n      <td>homemade one kill people already multiple poli...</td>\n      <td>Poland</td>\n      <td>Eastern</td>\n      <td>['homemade', 'one', 'kill', 'people', 'already...</td>\n      <td>[\"'homemade'\", \"'one'\", \"'kill'\", \"'people'\", ...</td>\n      <td>5.790725</td>\n      <td>50.450450</td>\n    </tr>\n    <tr>\n      <th>75857</th>\n      <td>82068</td>\n      <td>t2_8hacr7if</td>\n      <td>head. look like imperialism back menu boys! go...</td>\n      <td>Poland</td>\n      <td>Eastern</td>\n      <td>['head', '.', 'look', 'like', 'imperialism', '...</td>\n      <td>[\"'head'\", \"'look'\", \"'like'\", \"'imperialism'\"...</td>\n      <td>5.671835</td>\n      <td>47.716981</td>\n    </tr>\n    <tr>\n      <th>75858</th>\n      <td>82069</td>\n      <td>t2_8hacr7if</td>\n      <td>purgatory. wil help soul get heaven quicker kn...</td>\n      <td>Poland</td>\n      <td>Eastern</td>\n      <td>['purgatory', '.', 'wil', 'help', 'soul', 'get...</td>\n      <td>[\"'purgatory'\", \"'help'\", \"'soul'\", \"'get'\", \"...</td>\n      <td>5.748459</td>\n      <td>47.866071</td>\n    </tr>\n    <tr>\n      <th>75859</th>\n      <td>82070</td>\n      <td>t2_8hacr7if</td>\n      <td>claim talking asshole? lubeck libeck. cant eve...</td>\n      <td>Poland</td>\n      <td>Eastern</td>\n      <td>['claim', 'talking', 'asshole', '?', 'lubeck',...</td>\n      <td>[\"'claim'\", \"'talking'\", \"'ca'\", \"'even'\", \"'e...</td>\n      <td>5.859155</td>\n      <td>46.161290</td>\n    </tr>\n  </tbody>\n</table>\n<p>30942 rows × 9 columns</p>\n</div>"
     },
     "execution_count": 4,
     "metadata": {},
     "output_type": "execute_result"
    }
   ],
   "source": [
    "from sklearn.utils import resample\n",
    "\n",
    "# Undersample the majority class\n",
    "df_western = df[df['Poles'] == 'Western']\n",
    "df_eastern = df[df['Poles'] == 'Eastern']\n",
    "\n",
    "df_western_downsampled = resample(df_western, replace=False, n_samples=len(df_eastern), random_state=42)\n",
    "\n",
    "df_balanced = pd.concat([df_western_downsampled, df_eastern])\n",
    "df_balanced"
   ],
   "metadata": {
    "collapsed": false,
    "pycharm": {
     "name": "#%%\n"
    }
   }
  },
  {
   "cell_type": "code",
   "execution_count": 7,
   "outputs": [],
   "source": [
    "df_balanced = df_balanced[df_balanced['nationality'] != \"USA\"]"
   ],
   "metadata": {
    "collapsed": false,
    "pycharm": {
     "name": "#%%\n"
    }
   }
  },
  {
   "cell_type": "markdown",
   "source": [
    "### Converting to FastText Format"
   ],
   "metadata": {
    "collapsed": false,
    "pycharm": {
     "name": "#%% md\n"
    }
   }
  },
  {
   "cell_type": "code",
   "execution_count": 8,
   "outputs": [],
   "source": [
    "# Creating a copy as data\n",
    "data = df_balanced.copy()\n",
    "\n",
    "# Split the dataset into training and testing sets\n",
    "train_data, test_data = train_test_split(data, test_size=0.3, random_state=42)\n",
    "\n",
    "# Add the __label__ prefix to each label\n",
    "train_data['category'] = train_data['Poles'].apply(lambda x: f'__label__{x}')\n",
    "test_data['category'] = test_data['Poles'].apply(lambda x: f'__label__{x}')\n",
    "\n",
    "# Saving the CSV file as a text file to train/test the classifier\n",
    "train_data[['category', 'post']].to_csv('train.txt',\n",
    "                                          index = False,\n",
    "                                          sep = ' ',\n",
    "                                          header = None,\n",
    "                                          quoting = csv.QUOTE_NONE,\n",
    "                                          quotechar = \"\",\n",
    "                                          escapechar = \" \")\n",
    "\n",
    "test_data[['category', 'post']].to_csv('test.txt',\n",
    "                                     index = False,\n",
    "                                     sep = ' ',\n",
    "                                     header = None,\n",
    "                                     quoting = csv.QUOTE_NONE,\n",
    "                                     quotechar = \"\",\n",
    "                                     escapechar = \" \")"
   ],
   "metadata": {
    "collapsed": false,
    "pycharm": {
     "name": "#%%\n"
    }
   }
  },
  {
   "cell_type": "code",
   "execution_count": 9,
   "outputs": [],
   "source": [
    "# Creating a copy as data\n",
    "data = df_balanced.copy()\n",
    "\n",
    "# Add the __label__ prefix to each label\n",
    "data['category'] = data['Poles'].apply(lambda x: f'__label__{x}')\n",
    "\n",
    "# Saving the CSV file as a text file to train/test the classifier\n",
    "data[['category', 'post']].to_csv('data.txt',\n",
    "                                          index = False,\n",
    "                                          sep = ' ',\n",
    "                                          header = None,\n",
    "                                          quoting = csv.QUOTE_NONE,\n",
    "                                          quotechar = \"\",\n",
    "                                          escapechar = \" \")"
   ],
   "metadata": {
    "collapsed": false,
    "pycharm": {
     "name": "#%%\n"
    }
   }
  },
  {
   "cell_type": "markdown",
   "source": [
    "### Train and Test"
   ],
   "metadata": {
    "collapsed": false,
    "pycharm": {
     "name": "#%% md\n"
    }
   }
  },
  {
   "cell_type": "code",
   "execution_count": 10,
   "outputs": [
    {
     "data": {
      "text/plain": "(8705, 0.9089029293509477, 0.9089029293509477)"
     },
     "execution_count": 10,
     "metadata": {},
     "output_type": "execute_result"
    }
   ],
   "source": [
    "# Training the fastText classifier\n",
    "model = fasttext.train_supervised('train.txt', wordNgrams=2, epoch=10, lr=0.1)\n",
    "\n",
    "# Evaluating performance on the entire test file\n",
    "model.test('test.txt', k=1)"
   ],
   "metadata": {
    "collapsed": false,
    "pycharm": {
     "name": "#%%\n"
    }
   }
  },
  {
   "cell_type": "markdown",
   "source": [
    "* 8705 is the number of data points in the test set\n",
    "* 0.90890 is both the precision and the recall"
   ],
   "metadata": {
    "collapsed": false,
    "pycharm": {
     "name": "#%% md\n"
    }
   }
  },
  {
   "cell_type": "code",
   "execution_count": 11,
   "outputs": [
    {
     "data": {
      "text/plain": "(20311, 0.941066417212348, 0.941066417212348)"
     },
     "execution_count": 11,
     "metadata": {},
     "output_type": "execute_result"
    }
   ],
   "source": [
    "# Evaluate on training data\n",
    "train_result = model.test(\"train.txt\")\n",
    "train_result"
   ],
   "metadata": {
    "collapsed": false,
    "pycharm": {
     "name": "#%%\n"
    }
   }
  },
  {
   "cell_type": "markdown",
   "source": [
    "### K-fold CV (check for overfitting)"
   ],
   "metadata": {
    "collapsed": false,
    "pycharm": {
     "name": "#%% md\n"
    }
   }
  },
  {
   "cell_type": "code",
   "execution_count": 12,
   "outputs": [
    {
     "name": "stdout",
     "output_type": "stream",
     "text": [
      "Fold 1: Precision = 0.9245\n",
      "Fold 2: Precision = 0.9225\n",
      "Fold 3: Precision = 0.9180\n",
      "Fold 4: Precision = 0.9290\n",
      "Fold 5: Precision = 0.9187\n",
      "Fold 6: Precision = 0.9221\n",
      "Fold 7: Precision = 0.9152\n",
      "Fold 8: Precision = 0.9173\n",
      "Fold 9: Precision = 0.9238\n",
      "Fold 10: Precision = 0.9214\n",
      "Average Precision: 0.9213\n"
     ]
    }
   ],
   "source": [
    "# Replace with your actual data and parameters\n",
    "data_path = 'data.txt'\n",
    "k_folds = 10  # Choose the number of folds\n",
    "\n",
    "# Load your data into a list\n",
    "with open(data_path, 'r', encoding='utf-8') as file:\n",
    "    data_lines = file.readlines()\n",
    "\n",
    "# Extract labels and texts\n",
    "labels = [line.split()[0] for line in data_lines]\n",
    "texts = [' '.join(line.split()[1:]) for line in data_lines]\n",
    "\n",
    "# Initialize StratifiedKFold\n",
    "kf = StratifiedKFold(n_splits=k_folds, shuffle=True, random_state=42)\n",
    "\n",
    "# Lists to store precision scores for each fold\n",
    "precision_scores = []\n",
    "\n",
    "# Perform k-fold cross-validation\n",
    "for train_index, test_index in kf.split(texts, labels):\n",
    "    # Split the data into training and testing sets\n",
    "    train_data = [texts[i] for i in train_index]\n",
    "    train_labels = [labels[i] for i in train_index]\n",
    "    test_data = [texts[i] for i in test_index]\n",
    "    test_labels = [labels[i] for i in test_index]\n",
    "\n",
    "    # Create FastText training and testing files\n",
    "    with open('train_fold.txt', 'w', encoding='utf-8') as train_file:\n",
    "        for label, text in zip(train_labels, train_data):\n",
    "            train_file.write(f'__label__{label} {text}\\n')\n",
    "\n",
    "    with open('test_fold.txt', 'w', encoding='utf-8') as test_file:\n",
    "        for label, text in zip(test_labels, test_data):\n",
    "            test_file.write(f'__label__{label} {text}\\n')\n",
    "\n",
    "    # Train the FastText model\n",
    "    model = fasttext.train_supervised(input='train_fold.txt', wordNgrams=2, epoch=10, lr=0.1)\n",
    "\n",
    "    # Evaluate on the test set\n",
    "    result = model.test('test_fold.txt')[1]\n",
    "    precision_scores.append(result)\n",
    "\n",
    "# Print precision scores for each fold\n",
    "for i, precision in enumerate(precision_scores, start=1):\n",
    "    print(f'Fold {i}: Precision = {precision:.4f}')\n",
    "\n",
    "# Calculate and print the average precision across all folds\n",
    "average_precision = np.mean(precision_scores)\n",
    "print(f'Average Precision: {average_precision:.4f}')"
   ],
   "metadata": {
    "collapsed": false,
    "pycharm": {
     "name": "#%%\n"
    }
   }
  },
  {
   "cell_type": "markdown",
   "source": [
    "Perform k-fold cross-validation, where the dataset is divided into k subsets, and the model is trained and tested k times, each time using a different subset as the test set. If the model consistently performs well across different subsets, it is less likely to be overfitting."
   ],
   "metadata": {
    "collapsed": false,
    "pycharm": {
     "name": "#%% md\n"
    }
   }
  },
  {
   "cell_type": "markdown",
   "source": [
    "#### Meaning of k parameter"
   ],
   "metadata": {
    "collapsed": false,
    "pycharm": {
     "name": "#%% md\n"
    }
   }
  },
  {
   "cell_type": "markdown",
   "source": [
    "(Taken from Chat)\n",
    "Now, when you set k=1, it means you are only considering the top-1 prediction for each example. In your case, the precision and recall at 1 are both approximately 0.9465.\n",
    "\n",
    "When you set k=2, it means you are considering the top-2 predictions for each example. This changes the evaluation metric because now the model is allowed to provide two predictions per example, and correctness is assessed based on whether the correct category is among the top-2 predictions.\n",
    "\n",
    "So it does not make sense to set k to anything above 1 in case of binary predictions since there are only two categories."
   ],
   "metadata": {
    "collapsed": false,
    "pycharm": {
     "name": "#%% md\n"
    }
   }
  },
  {
   "cell_type": "markdown",
   "source": [
    "### More Evaluation metrics"
   ],
   "metadata": {
    "collapsed": false,
    "pycharm": {
     "name": "#%% md\n"
    }
   }
  },
  {
   "cell_type": "code",
   "execution_count": 13,
   "outputs": [
    {
     "name": "stdout",
     "output_type": "stream",
     "text": [
      "Accuracy: 0.9515221137277426\n",
      "Precision: 0.9515293270234577\n",
      "Recall: 0.9515221137277426\n",
      "F1 Score: 0.9515249139872042\n",
      "Classification Report:\n",
      "               precision    recall  f1-score   support\n",
      "\n",
      "           0       0.95      0.95      0.95      4076\n",
      "           1       0.96      0.95      0.95      4629\n",
      "\n",
      "    accuracy                           0.95      8705\n",
      "   macro avg       0.95      0.95      0.95      8705\n",
      "weighted avg       0.95      0.95      0.95      8705\n",
      "\n"
     ]
    }
   ],
   "source": [
    "from sklearn.metrics import accuracy_score, precision_score, recall_score, f1_score, classification_report\n",
    "\n",
    "# Load the test data\n",
    "with open('test.txt', 'r', encoding='utf-8') as f:\n",
    "    test_lines = f.readlines()\n",
    "\n",
    "# Extract labels and texts from the test data\n",
    "test_labels = [line.split()[0] for line in test_lines]\n",
    "test_texts = [' '.join(line.split()[1:]) for line in test_lines]\n",
    "\n",
    "# Get predictions from the model\n",
    "predictions = [model.predict(text)[0][0].replace('__label__', '') for text in test_texts]\n",
    "\n",
    "# Create label mapping to map strings as integers (0 or 1)\n",
    "label_mapping = {'__label__Western': 0, '__label__Eastern': 1}\n",
    "label_mapping_pred = {'Western': 0, 'Eastern': 1}\n",
    "\n",
    "# Convert labels to integers using the mapping\n",
    "test_labels = [label_mapping[label] for label in test_labels]\n",
    "predictions = [label_mapping_pred[pred] for pred in predictions]\n",
    "\n",
    "# Calculate and print evaluation metrics\n",
    "accuracy = accuracy_score(test_labels, predictions)\n",
    "precision = precision_score(test_labels, predictions, average='weighted')\n",
    "recall = recall_score(test_labels, predictions, average='weighted')\n",
    "f1 = f1_score(test_labels, predictions, average='weighted')\n",
    "classification_rep = classification_report(test_labels, predictions)\n",
    "\n",
    "print(f'Accuracy: {accuracy}')\n",
    "print(f'Precision: {precision}')\n",
    "print(f'Recall: {recall}')\n",
    "print(f'F1 Score: {f1}')\n",
    "print('Classification Report:\\n', classification_rep)"
   ],
   "metadata": {
    "collapsed": false,
    "pycharm": {
     "name": "#%%\n"
    }
   }
  },
  {
   "cell_type": "markdown",
   "source": [
    "#### Getting top Western and Eastern words (important words)"
   ],
   "metadata": {
    "collapsed": false,
    "pycharm": {
     "name": "#%% md\n"
    }
   }
  },
  {
   "cell_type": "code",
   "execution_count": 14,
   "outputs": [
    {
     "data": {
      "text/plain": "39852    [everything, cannot, generalized, co2, cost, e...\n57664    [trump, ', s, favour, ,, would, posting, this,...\n6463     [thought, like, comparing, south, american, cl...\n73232    [jag, är, inte, längre, krigsplacerad, ,, men,...\n6254     [borders, ,, maritime, base, constrained, posi...\nName: post, dtype: object"
     },
     "execution_count": 14,
     "metadata": {},
     "output_type": "execute_result"
    }
   ],
   "source": [
    "punctuation_matches = df_balanced.post.str.findall(\n",
    "    '[^\\w\\s]')  # matches any character that is not a word character(\\w) or a whitespace character(\\s).\n",
    "\n",
    "tokens = df_balanced.post.str.findall(\n",
    "    '\\w+|[^\\w\\s]')  # match either a sequence of word characters or any non-word, non-space character.\n",
    "\n",
    "df_balanced['token'] = tokens\n",
    "\n",
    "tokens.head(5)"
   ],
   "metadata": {
    "collapsed": false,
    "pycharm": {
     "name": "#%%\n"
    }
   }
  },
  {
   "cell_type": "code",
   "execution_count": 16,
   "outputs": [],
   "source": [
    "# Making a western (T/F) column\n",
    "western = [\"Finland\", \"Germany\", \"Greece\", \"The Netherlands\", \"Ireland\", \"Spain\", \"United Kingdom\", \"Denmark\", \"France\", \"Italy\", \"Sweden\", \"Switzerland\", \"Norway\", \"Belgium\", \"Austria\", \"Portugal\", \"Luxembourg\", \"Iceland\", \"Greenland\", \"Malta\"]\n",
    "\n",
    "df_balanced.loc[:, \"Western\"] = df_balanced[\"nationality\"].apply(lambda x: x in western)"
   ],
   "metadata": {
    "collapsed": false,
    "pycharm": {
     "name": "#%%\n"
    }
   }
  },
  {
   "cell_type": "code",
   "execution_count": 17,
   "outputs": [],
   "source": [
    "def top_words_west_east(token_df, western=True):\n",
    "    counter = Counter()\n",
    "    for ix, row in token_df.iterrows():\n",
    "        if western and row['Western']:\n",
    "            counter += Counter(row['token'])\n",
    "        elif not western and not row['Western']:\n",
    "            counter += Counter(row['token'])\n",
    "\n",
    "    top_words = set([w for w, i in counter.most_common(5000)])\n",
    "    return top_words"
   ],
   "metadata": {
    "collapsed": false,
    "pycharm": {
     "name": "#%%\n"
    }
   }
  },
  {
   "cell_type": "code",
   "execution_count": 18,
   "outputs": [
    {
     "data": {
      "text/plain": "['lieber',\n 'understandable',\n 'shown',\n 'americans',\n 'commit',\n 'beating',\n 'decent',\n 'uit',\n 'mask',\n 'direkt',\n 'update',\n 'me',\n 'external',\n 'words',\n 'finance',\n 'monitor',\n 'using',\n 'discus',\n 'honestly',\n 'whereas',\n 'meme',\n 'desktop',\n 'um',\n 'achieve',\n 'egal',\n 'ofc',\n 'racial',\n 'individual',\n 'view',\n 'shirt',\n 'structure',\n 'τα',\n 'filled',\n 'totally',\n 'sont',\n 'consider',\n 'him',\n 'romance',\n 'aim',\n 'hurt',\n 'invest',\n 'sans',\n 'cleaning',\n 'busy',\n 'joe',\n '…',\n 'respond',\n 'report',\n 'wahrscheinlich',\n 'defensive',\n 'program',\n 'proven',\n 'controller',\n 'etc',\n 'april',\n 'culture',\n 'trade',\n 'procedure',\n 'burger',\n 'danger',\n 'autres',\n 'always',\n 'chosen',\n 'chocolate',\n 'sentiment',\n 'posts',\n 'air',\n 'ideology',\n 'chad',\n 'company',\n 'afaik',\n 'collect',\n 'used',\n 'say',\n 'bunch',\n 'goed',\n 'pad',\n 'communism',\n 'apple',\n '͝',\n 'racism',\n 'mediterranean',\n 'nel',\n 'match',\n 'x',\n 'bzw',\n 'picking',\n 'kuin',\n 'sound',\n 'tra',\n '—',\n 'dell',\n 'crime',\n 'li',\n 'attack',\n 'mistake',\n '-',\n 'ear',\n 'full',\n 'haha',\n 'neither',\n 'occupation',\n 'homeless',\n 'couple',\n 'pop',\n 'blev',\n 'stem',\n 'kan',\n 'altså',\n 'marry',\n 'ammo',\n 'minister',\n 'relation',\n 'denn',\n 'pace',\n 'bubble',\n 'con',\n 'suit',\n 'indian',\n 'latin',\n 'jaar',\n 'bottom',\n 'questo',\n 'as',\n 'fact',\n 'standard',\n 'resistance',\n 'headphone',\n 'position',\n 'damn',\n 'seed',\n 'interview',\n 'même',\n 'breakfast',\n 'ignore',\n '29',\n 'poco',\n 'kann',\n 'berlin',\n 'autre',\n 'tip',\n 'city',\n 'ir',\n 'nem',\n 'engineer',\n 'alles',\n 'brown',\n 'drunk',\n 'während',\n 'waiting',\n 'auch',\n 'kanske',\n 'regulation',\n 'meeting',\n '\"',\n 'hint',\n 'spare',\n 'description',\n 'eines',\n 'stable',\n 'attempt',\n 'ging',\n '2013',\n 'move',\n 'tanto',\n 'timeline',\n 'detta',\n 'stayed',\n 'park',\n 'doing',\n 'barrier',\n 'korea',\n 'alcohol',\n 'upper',\n 'realistic',\n 'israel',\n 'conditions',\n 'include',\n 'ganz',\n 'harm',\n 'once',\n 'wife',\n 'girlfriend',\n 'nonsense',\n 'fuck',\n 'polizei',\n 'unique',\n 'interested',\n 'discovered',\n 'besides',\n 'thank',\n 'initially',\n 'δεν',\n 'atmosphere',\n '95',\n 'offended',\n 'doch',\n 'barn',\n '_',\n 'house',\n 'parce',\n 'perspective',\n 'number',\n 'confirmed',\n 'changes',\n 'beim',\n 'id',\n 'bene',\n 'μην',\n 'porque',\n 'dollar',\n 'eaten',\n 'african',\n 'naja',\n 'obligation',\n 'drawing',\n 'bag',\n 'soll',\n 'deutschland',\n 'mobile',\n 'mentioned',\n 'following',\n 'dating',\n 'admit',\n 'pre',\n 'bought',\n 'getting',\n 'hoe',\n 'toen',\n 'mirror',\n 'it',\n 'islands',\n 'desire',\n 'appearance',\n 'profit',\n 'swap',\n 'dead',\n 'huge',\n 'banned',\n 'becoming',\n 'imo',\n 'emotion',\n 'mi',\n 'lose',\n 'jet',\n 'let',\n 'reduction',\n 'basic',\n 'value',\n 'election',\n 'kit',\n 'που',\n 'ihn',\n 'gaming',\n 'deserves',\n 'med',\n 'naar',\n 'double',\n 'detail',\n 'mouse',\n 'broad',\n 'mot',\n 'exposed',\n 'expect',\n 'arguably',\n 'spot',\n 'altro',\n 'consistently',\n 'need',\n ')',\n 'pov',\n 'το',\n 'seems',\n 'wide',\n 'grown',\n 'miss',\n 'format',\n 'vague',\n 'married',\n 'manager',\n 'gotten',\n 'discord',\n 'cheaper',\n 'hele',\n 'neo',\n 'machine',\n 'mir',\n 'companies',\n 'όταν',\n 'stopped',\n 'isn',\n 'fin',\n 'efficient',\n 'gene',\n 'tbh',\n 'kg',\n 'website',\n 'understand',\n 'tesla',\n 'waar',\n 'achievement',\n 'hun',\n 'court',\n 'reasonable',\n 'block',\n 'requirement',\n 'referring',\n 'ain',\n 'barcelona',\n 'dann',\n 'consistent',\n 'offering',\n 'special',\n 'biggest',\n 'ham',\n '🇬',\n 'christ',\n 'note',\n 'tree',\n 'denne',\n 'norm',\n 'ting',\n 'pizza',\n 'conflict',\n '&',\n 'dich',\n 'reverse',\n 'writing',\n 'gt',\n 'fucked',\n 'asset',\n 'προς',\n 'su',\n 'gen',\n 'extra',\n 'ur',\n 'therefore',\n 'pulled',\n 'mate',\n '🏼',\n 'june',\n 'vr',\n 'cook',\n 'box',\n 'cry',\n 'villain',\n 'sugar',\n 'corner',\n 'kunnen',\n 'siden',\n 'took',\n '800',\n 'strong',\n 'wollen',\n 'with',\n 'appear',\n 'championship',\n 'sign',\n 'annoyed',\n 'keeping',\n 'wanting',\n 'breaking',\n 'zwar',\n 'dozen',\n 'die',\n 'other',\n 'hating',\n 'rarely',\n 'chose',\n 'tho',\n 'mutta',\n 'hahaha',\n 'zal',\n 'genius',\n 'hidden',\n 'topic',\n 'already',\n 'ge',\n 'organized',\n 'ultimately',\n 'willing',\n 'hätte',\n 'det',\n 'heavily',\n 'entity',\n 'happens',\n 'blood',\n 'gab',\n 'invested',\n 'gif',\n 'host',\n 'dice',\n 'square',\n 'swedish',\n 'welfare',\n '75',\n 'eli',\n 'rain',\n 'physically',\n 'claimed',\n 'lijkt',\n 'whilst',\n 'pitch',\n 'lunch',\n 'payment',\n 'outcome',\n 'loved',\n 'mich',\n 'said',\n 'poland',\n 'wouldn',\n 'vulnerable',\n 'known',\n 'jon',\n 'socialism',\n 'replaced',\n 'blocked',\n 'exist',\n 'el',\n 'duty',\n 'του',\n 'suicide',\n 'yours',\n 'made',\n 'one',\n 'grey',\n 'somewhat',\n 'instantly',\n 'easiest',\n 'kannst',\n 'irrelevant',\n 'idea',\n 'northern',\n 'probleem',\n 'surgery',\n 'nice',\n 'suppose',\n 'happen',\n 'owning',\n 'dictator',\n 'alltid',\n 'den',\n 'evening',\n 'capable',\n 'priority',\n 'recently',\n 'zwischen',\n 'ob',\n 'second',\n 'growing',\n 'conversation',\n 'mandatory',\n 'essential',\n 'asia',\n 'steht',\n 'se',\n 'raised',\n 'bright',\n 'rules',\n 'movement',\n 'don',\n 'conspiracy',\n 'distinct',\n 'separate',\n 'austria',\n 'ende',\n 'δουλειά',\n 'streaming',\n 'waren',\n 'mexico',\n 'beyond',\n 'socially',\n 'actions',\n 'könnte',\n 'déjà',\n 'permanent',\n 'elite',\n 'panel',\n 'hated',\n 'west',\n 'remotely',\n 'diesen',\n 'knows',\n 'approach',\n 'disease',\n 'ww2',\n 'ironically',\n 'instant',\n 'close',\n 'default',\n 'related',\n 'experience',\n 'poi',\n 'expand',\n 'government',\n 'selling',\n 'serious',\n 'by',\n 'application',\n 'football',\n '💪',\n 'shooter',\n 'just',\n 'anni',\n 'american',\n 'turning',\n 'data',\n 'quanto',\n 'central',\n 'then',\n 'third',\n 'detailed',\n 'expectation',\n 'situation',\n 'cousin',\n 'sea',\n 'nen',\n 'allowing',\n 'fundamentally',\n 'more',\n 'sein',\n 'heart',\n 'democratic',\n 'searching',\n 'ano',\n 'være',\n '20',\n 'failure',\n 'voi',\n 'track',\n 'wale',\n 'significantly',\n 'windows',\n 'employee',\n 'must',\n 'stor',\n 'ihan',\n 'adhd',\n 'smart',\n '19th',\n 'changed',\n 'ethnic',\n 'state',\n 'yeah',\n 'até',\n 'explained',\n 'los',\n 'force',\n 'statement',\n 'jahren',\n 'particular',\n 'sich',\n 'somewhere',\n 'sul',\n 'mine',\n 'imply',\n 'teeth',\n 'über',\n 'sky',\n 'μπορείς',\n 'ferrari',\n 'education',\n 'ultimate',\n 'aircraft',\n 'bother',\n 'loose',\n 'joka',\n 'kitchen',\n 'truck',\n 'wenn',\n 'continent',\n 'commercial',\n 'age',\n 'veldig',\n 'nix',\n 'far',\n 'gp',\n 'rest',\n 'parece',\n 'johnson',\n 'properly',\n 'cyprus',\n 'collection',\n 'bos',\n 'repair',\n 'trait',\n 'indeed',\n 'buying',\n 'κάνει',\n 'mental',\n 'stranger',\n 'sight',\n 'ovat',\n 'told',\n 'lazy',\n 'nordic',\n 'bon',\n 'shorter',\n 'political',\n 'combo',\n 'accent',\n 'gesagt',\n 'fired',\n 'equality',\n 'vez',\n 'matters',\n 'chi',\n 'before',\n 'correct',\n 'ist',\n 'jij',\n 'classic',\n 'boat',\n 'page',\n 'kommen',\n 'sooner',\n 'sonst',\n 'oil',\n 'watching',\n 'taught',\n 'manual',\n 'gross',\n 'cosa',\n 'comparable',\n 'lady',\n 'dropped',\n 'le',\n 'important',\n 'piece',\n 'glass',\n 'diesel',\n 'naked',\n 'cum',\n 'dafür',\n 'portuguese',\n 'sus',\n 'claim',\n 'market',\n 'dying',\n 'cold',\n 'holy',\n 'landlord',\n 'uniform',\n 'wat',\n 'butter',\n 'continued',\n 'assumption',\n 'tomorrow',\n 'farming',\n 'serve',\n 'starter',\n 'μόνο',\n 'partially',\n 'flair',\n 'bei',\n 'longer',\n 'youth',\n 'lesson',\n 'entitled',\n 'weet',\n 'flaw',\n 'acceptable',\n 'add',\n 'argue',\n 'zie',\n 'trying',\n 'headphoneadvice',\n 'teacher',\n 'anymore',\n 'cars',\n 'ειναι',\n 'doubt',\n 'student',\n 'purely',\n 'horse',\n 'automatic',\n 'anything',\n 'a',\n 'clean',\n 'tried',\n 'successful',\n 'origin',\n 'immigration',\n 'quality',\n 'geen',\n 'chip',\n 'halt',\n 'neck',\n 'channel',\n 'natural',\n 'attached',\n 'be',\n 'banning',\n 'threat',\n 'überhaupt',\n 'caso',\n 'ser',\n 'mio',\n 'così',\n 'fail',\n 'sharing',\n 'iemand',\n 'belarus',\n 'drama',\n 'warfare',\n 'tiny',\n 'faire',\n 'heeft',\n 'represent',\n 'grandma',\n 'politician',\n 'sollte',\n 'impossible',\n 'minimal',\n 'meinen',\n 'bored',\n 'frame',\n 'feeling',\n 'ship',\n 'provide',\n 'mostly',\n 'hay',\n 'europa',\n 'division',\n 'media',\n 'em',\n 'nuclear',\n 'alliance',\n 'principle',\n 'brilliant',\n 'belgian',\n 'secure',\n 'lot',\n 'αυτό',\n 'released',\n 'rare',\n 'crazy',\n 'ein',\n 'existed',\n 'officially',\n 'philosophy',\n 'mouth',\n 'institution',\n 'pool',\n 'άλλο',\n 'deine',\n 'metro',\n '120',\n 'visit',\n '2012',\n 'bang',\n 'btw',\n 'spoiler',\n 'bbc',\n 'originally',\n 'refused',\n 'cake',\n 'convenient',\n 'permit',\n 'χώρα',\n 'wider',\n 'visiting',\n 'driving',\n 'head',\n 'turkish',\n 'temperature',\n 'referendum',\n 'dir',\n 'gute',\n 'bring',\n 'intentionally',\n 'ci',\n 'gone',\n 'gaan',\n 'painting',\n 'john',\n 'aux',\n 'finally',\n 'phone',\n 'wake',\n 'peut',\n 'hi',\n 'μετά',\n 'airport',\n 'passive',\n 'software',\n 'thousand',\n 'et',\n 'risk',\n 'tone',\n 'c',\n 'march',\n 'extend',\n 'spam',\n 'af',\n 'sad',\n 'school',\n 'seem',\n 'legislation',\n 'target',\n 'leben',\n 'men',\n 'impressive',\n 'found',\n 'jail',\n '⢀',\n 'glad',\n 'loss',\n 'τους',\n 'contribution',\n 'post',\n 'pit',\n 'touch',\n 'madrid',\n 'scotland',\n 'newspaper',\n 'activity',\n 'bank',\n 'myös',\n 'face',\n 'typical',\n 'bi',\n 'som',\n 'excited',\n 'op',\n 'wars',\n 'young',\n 'included',\n 'skip',\n 'nationalism',\n 'minor',\n 'exclusively',\n '°',\n 'foreign',\n 'sedan',\n 'master',\n 'trouble',\n 'lay',\n 'gleich',\n 'organization',\n 'zahlen',\n 'tatsächlich',\n 'pointing',\n 'sitä',\n 'technique',\n 'civilian',\n 'entre',\n 'dus',\n 'dazu',\n 'erst',\n 'languages',\n 'realise',\n 'πριν',\n 'όλοι',\n 'pleasure',\n 'syria',\n 'membership',\n 'par',\n 'guarantee',\n 'wäre',\n 'cared',\n 'ma',\n 'thema',\n 'zijn',\n 'cell',\n 'vous',\n 'jo',\n 'sand',\n 'her',\n 'demographic',\n 'analysis',\n 'remain',\n 'sta',\n 'ask',\n 'dm',\n 'voted',\n 'improved',\n 'hmm',\n 'purchase',\n 'genoeg',\n '8',\n 'gun',\n 'david',\n 'solo',\n 'rape',\n 'provider',\n '7',\n 'glaube',\n 'downvotes',\n 'après',\n 'boomer',\n 'também',\n 'pig',\n 'bitch',\n 'regret',\n 'pregnant',\n 'u',\n 'identical',\n 'gerne',\n 'aswell',\n 'walk',\n '🧢',\n 'mind',\n 'scheme',\n 'medical',\n 'poverty',\n 'afterwards',\n 'scream',\n 'spell',\n 'opp',\n 'burden',\n 'debt',\n 'zo',\n 'household',\n 'offer',\n 'verstappen',\n 'radio',\n 'kommt',\n 'actively',\n 'perché',\n 'difficult',\n 'off',\n 'macedonia',\n 'cute',\n 'l',\n 'military',\n 'biased',\n 'component',\n 'practical',\n 'toda',\n 'showing',\n 'dude',\n 'boring',\n 'prepared',\n 'russians',\n 'θα',\n 'connected',\n 'stalin',\n 'ac',\n 'samsung',\n 'image',\n 'eller',\n 'southern',\n 'teams',\n 'local',\n 'ideal',\n 'held',\n 'spectrum',\n 'low',\n 'package',\n '4',\n 'significant',\n 'ussr',\n 'read',\n 'respect',\n 'while',\n 'future',\n 'historical',\n 'blocking',\n 'cable',\n 'thing',\n 'il',\n 'export',\n 'complaint',\n 'resources',\n 'not',\n 'job',\n 'favorite',\n 'apply',\n 'til',\n 'route',\n 'whole',\n 'eh',\n 'hole',\n 'patch',\n 'proof',\n 'product',\n 'struggling',\n 'equal',\n 'line',\n 'some',\n 'trash',\n 'replacement',\n 'wear',\n 'needed',\n 'oneplus',\n 'iets',\n '80',\n 'economic',\n 'describe',\n 'ότι',\n 'standing',\n '\\u2060',\n 'boss',\n 'k',\n 'stats',\n 'part',\n 'probleme',\n 'together',\n 'walking',\n ...]"
     },
     "execution_count": 18,
     "metadata": {},
     "output_type": "execute_result"
    }
   ],
   "source": [
    "# Assuming 'Western' column is boolean (True/False)\n",
    "top_western_words = list(top_words_west_east(df_balanced, western=True))\n",
    "\n",
    "top_western_words"
   ],
   "metadata": {
    "collapsed": false,
    "pycharm": {
     "name": "#%%\n"
    }
   }
  },
  {
   "cell_type": "code",
   "execution_count": 19,
   "outputs": [
    {
     "data": {
      "text/plain": "['understandable',\n 'shown',\n 'americans',\n 'prvi',\n 'commit',\n 'beating',\n 'kde',\n 'decent',\n 'mask',\n 'update',\n 'me',\n 'external',\n 'words',\n 'monitor',\n 'using',\n 'georgia',\n 'discus',\n 'honestly',\n 'zi',\n 'whereas',\n 'ih',\n 'meme',\n 'achieve',\n 'ofc',\n 'nam',\n 'individual',\n 'view',\n 'shirt',\n 'structure',\n 'τα',\n 'filled',\n 'totally',\n 'netko',\n 'svaki',\n 'mogao',\n 'consider',\n 'him',\n 'aim',\n 'hurt',\n 'probabil',\n 'invest',\n 'zelo',\n 'busy',\n 'joe',\n '…',\n 'respond',\n 'february',\n 'report',\n 'defensive',\n 'program',\n 'proven',\n '6th',\n 'controller',\n 'rn',\n 'etc',\n 'april',\n 'culture',\n 'trade',\n 'danger',\n 'always',\n 'chosen',\n 'chocolate',\n 'zici',\n 'sentiment',\n 'posts',\n 'air',\n 'ideology',\n 'chad',\n 'company',\n 'bude',\n 'afaik',\n 'collect',\n 'used',\n 'say',\n 'bunch',\n 'nje',\n 'soldiers',\n 'prince',\n 'communism',\n 'apple',\n '͝',\n 'racism',\n 'match',\n 'x',\n 'picking',\n 'sound',\n '—',\n 'crime',\n 'li',\n 'attack',\n 'mistake',\n 'volna',\n 'prost',\n '-',\n 'ear',\n 'full',\n 'haha',\n 'neither',\n 'occupation',\n 'homeless',\n 'couple',\n 'pop',\n 'meu',\n 'kan',\n 'bardzo',\n 'nimeni',\n 'ammo',\n 'minister',\n 'azerbaijan',\n 'relation',\n 'pace',\n 'bubble',\n 'suit',\n 'indian',\n 'latin',\n 'bottom',\n 'approval',\n 'as',\n 'fact',\n 'standard',\n 'resistance',\n 'position',\n 'zna',\n 'damn',\n 'mert',\n 'ko',\n 'interview',\n 'itd',\n 'unity',\n 'fără',\n 'ignore',\n '29',\n 'berlin',\n 'fii',\n 'tip',\n 'city',\n 'nem',\n 'pe',\n 'engineer',\n 'brown',\n 'vine',\n 'grant',\n 'drunk',\n 'waiting',\n 'regulation',\n 'meeting',\n '\"',\n 'hint',\n 'libertarian',\n 'spare',\n 'description',\n 'wipe',\n 'np',\n 'stable',\n 'bloc',\n 'attempt',\n '2013',\n 'move',\n 'timeline',\n 'stayed',\n 'rated',\n 'park',\n 'można',\n 'doing',\n 'barrier',\n 'korea',\n 'alcohol',\n 'upper',\n 'realistic',\n 'israel',\n 'conditions',\n 'coat',\n 'include',\n 'harm',\n 'once',\n 'wife',\n 'girlfriend',\n 'nonsense',\n 'poate',\n 'fuck',\n 'unique',\n 'interested',\n 'от',\n 'discovered',\n 'hr',\n 'besides',\n 'thank',\n 'initially',\n 'δεν',\n 'kam',\n 'atmosphere',\n '95',\n 'offended',\n 'znaš',\n '_',\n 'house',\n 'perspective',\n 'number',\n 'confirmed',\n 'changes',\n 'subreddits',\n 'id',\n 'imi',\n 'gw1',\n 'dollar',\n 'physic',\n 'african',\n 'drawing',\n 'bag',\n 'warsaw',\n 'clar',\n '͜',\n 'mobile',\n 'mentioned',\n 'following',\n 'dating',\n 'coś',\n 'admit',\n 'так',\n 'pre',\n 'bought',\n 'getting',\n 'mirror',\n 'it',\n 'desire',\n 'profit',\n 'swap',\n 'stb',\n 'culturally',\n 'dead',\n 'huge',\n 'banned',\n 'becoming',\n 'aby',\n 'imo',\n 'emotion',\n 'mar',\n 'mi',\n 'lose',\n 'jet',\n 'let',\n 'pirate',\n 'basic',\n 'value',\n 'election',\n 'kit',\n 'prema',\n 'που',\n 'gaming',\n 'deserves',\n 'med',\n 'double',\n 'detail',\n 'proč',\n 'kto',\n 'mouse',\n 'jumping',\n 'expect',\n 'arguably',\n 'čo',\n 'spot',\n 'consistently',\n 'need',\n ')',\n 'pov',\n 'το',\n 'pana',\n 'seems',\n 'wide',\n 'grown',\n 'miss',\n 'format',\n 'pol',\n 'vague',\n 'married',\n 'manager',\n 'historic',\n 'gotten',\n 'discord',\n 'cheaper',\n 'neo',\n 'machine',\n 'companies',\n 'stopped',\n 'isn',\n 'efficient',\n 'orban',\n 'tbh',\n 'website',\n 'understand',\n 'tesla',\n 'dispute',\n 'jasno',\n 'fi',\n 'achievement',\n 'court',\n 'reasonable',\n 'block',\n 'requirement',\n 'referring',\n 'dacă',\n 'ain',\n 'nekem',\n 'consistent',\n 'offering',\n 'special',\n 'biggest',\n 'uncle',\n 'christ',\n 'note',\n 'tree',\n 'norm',\n 'nisu',\n 'pizza',\n 'conflict',\n '&',\n 'reverse',\n 'writing',\n 'teljesen',\n 'gt',\n 'fucked',\n 'asset',\n 'su',\n 'gen',\n 'izgleda',\n 'stai',\n 'extra',\n 'ur',\n 'therefore',\n 'pulled',\n 'mate',\n 'trebuie',\n 'acknowledge',\n 'много',\n 'june',\n 'vr',\n 'cook',\n 'box',\n 'sunt',\n 'cry',\n 'villain',\n 'sugar',\n 'corner',\n 'pai',\n 'mare',\n 'took',\n '800',\n 'strong',\n 'with',\n 'appear',\n 'sign',\n 'keeping',\n 'wanting',\n 'breaking',\n 'decat',\n 'dozen',\n 'die',\n 'other',\n 'hating',\n 'vazut',\n 'rarely',\n 'chose',\n 'legion',\n 'vietnam',\n 'tho',\n 'hahaha',\n 'genius',\n 'hidden',\n 'zdi',\n 'dupa',\n 'topic',\n 'already',\n 'organized',\n 'ništa',\n 'interests',\n 'ultimately',\n 'willing',\n 'greu',\n 'heavily',\n 'ми',\n 'dumbass',\n 'entity',\n 'happens',\n 'tyre',\n 'mene',\n 'blood',\n 'sau',\n 'invested',\n 'gif',\n 'olyan',\n 'host',\n 'square',\n 'swedish',\n '75',\n 'takie',\n 'rain',\n 'physically',\n 'claimed',\n 'lunch',\n 'payment',\n 'outcome',\n 'loved',\n 'се',\n 'nitko',\n 'said',\n 'poland',\n 'wouldn',\n 'known',\n 'socialism',\n 'milyen',\n 'replaced',\n 'flip',\n 'nyc',\n 'blocked',\n 'făcut',\n 'exist',\n 'el',\n 'duty',\n 'του',\n 'suicide',\n 'fakt',\n 'suntem',\n 'yours',\n 'made',\n 'one',\n 'grey',\n 'egy',\n 'somewhat',\n 'instantly',\n 'ovaj',\n '700',\n 'była',\n 'easiest',\n 'survived',\n 'irrelevant',\n 'idea',\n 'northern',\n 'ahol',\n 'nice',\n 'jsou',\n 'suppose',\n 'radi',\n 'happen',\n 'dictator',\n 'facto',\n 'den',\n 'capable',\n 'priority',\n 'recently',\n 'ob',\n 'second',\n 'growing',\n 'conversation',\n 'mandatory',\n 'asia',\n 'se',\n 'raised',\n 'bright',\n 'cea',\n 'rules',\n 'movement',\n 'don',\n 'conspiracy',\n 'în',\n 'separate',\n 'austria',\n 'mexico',\n 'beyond',\n 'actions',\n 'permanent',\n 'elite',\n 'panel',\n 'ktoś',\n 'pitanje',\n 'montenegro',\n 'hated',\n 'west',\n 'remotely',\n 'knows',\n 'approach',\n 'disease',\n 'ww2',\n 'ironically',\n 'instant',\n 'close',\n 'default',\n 'related',\n 'gdy',\n 'experience',\n 'expand',\n 'government',\n 'selling',\n 'samo',\n 'serious',\n 'by',\n 'când',\n 'football',\n 'application',\n 'aggression',\n 'sigur',\n '💪',\n 'just',\n 'american',\n 'turning',\n 'data',\n 'tym',\n 'stat',\n 'central',\n 'then',\n 'third',\n 'detailed',\n 'expectation',\n 'situation',\n 'cousin',\n 'sea',\n 'allowing',\n 'još',\n 'more',\n 'heart',\n 'democratic',\n 'ő',\n 'ano',\n '20',\n 'failure',\n 'shume',\n 'track',\n 'significantly',\n 'employee',\n 'tego',\n 'must',\n 'если',\n 'mult',\n 'smart',\n '19th',\n 'changed',\n 'ethnic',\n 'state',\n 'yeah',\n 'explained',\n 'priest',\n 'eternal',\n 'punished',\n 'force',\n 'statement',\n 'doar',\n 'particular',\n 'bylo',\n 'somewhere',\n 'mine',\n 'imply',\n 'teeth',\n 'nemam',\n 'sky',\n 'goes',\n 'education',\n 'ultimate',\n 'poti',\n 'aircraft',\n 'bother',\n 'loose',\n 'truck',\n 'continent',\n 'commercial',\n 'age',\n 'pnl',\n 'ludzi',\n 'far',\n 'był',\n 'rest',\n 'california',\n 'properly',\n 'за',\n 'cyprus',\n 'collection',\n 'bos',\n 'pod',\n 'trait',\n 'repair',\n 'deeper',\n 'tome',\n 'indeed',\n 'tudi',\n 'buying',\n 'bil',\n 'mental',\n 'stranger',\n 'sight',\n 'hrvatskoj',\n 'told',\n 'lazy',\n 'nordic',\n 'не',\n 'shorter',\n 'political',\n 'combo',\n 'accent',\n 'fired',\n 'esti',\n 'matters',\n 'before',\n 'correct',\n 'ist',\n 'shitting',\n 'classic',\n 'boat',\n 'page',\n 'nekaj',\n 'sooner',\n 'oil',\n 'watching',\n 'taught',\n 'facut',\n 'manual',\n '⡇',\n 'kaj',\n 'gross',\n 'sensor',\n 'annyira',\n 'tega',\n 'comparable',\n 'lady',\n 'dropped',\n 'le',\n 'important',\n 'piece',\n 'glass',\n 'cum',\n 'sus',\n 'claim',\n 'market',\n 'dying',\n 'cold',\n 'holy',\n 'butter',\n 'continued',\n 'assumption',\n 'tomorrow',\n 'farming',\n 'serve',\n 'μόνο',\n 'partially',\n 'flair',\n 'itt',\n 'longer',\n 'youth',\n 'lesson',\n 'entitled',\n 'država',\n 'nici',\n 'acceptable',\n 'add',\n 'argue',\n 'ovo',\n 'trying',\n 'faca',\n 'austrian',\n 'teacher',\n 'anymore',\n 'cars',\n 'taky',\n 'doubt',\n 'student',\n 'spec',\n 'legalább',\n 'purely',\n 'horse',\n 'kada',\n 'views',\n 'automatic',\n 'anything',\n 'a',\n 'clean',\n 'tried',\n 'successful',\n 'byla',\n 'origin',\n 'način',\n 'immigration',\n 'bosnia',\n 'quality',\n 'chip',\n 'neck',\n 'channel',\n 'natural',\n '40k',\n 'be',\n 'banning',\n 'threat',\n 'sve',\n 'spawn',\n 'fail',\n 'sharing',\n 'pred',\n 'belarus',\n 'drama',\n 'warfare',\n 'tiny',\n 'represent',\n 'grandma',\n 'politician',\n 'impossible',\n 'minimal',\n 'kurva',\n 'bored',\n 'frame',\n 'feeling',\n 'ship',\n 'provide',\n 'mostly',\n 'toward',\n 'europa',\n 'division',\n 'unfortunate',\n 'media',\n 'em',\n 'nuclear',\n 'alliance',\n 'worship',\n 'principle',\n 'secure',\n 'lot',\n 'znam',\n 'npr',\n 'released',\n 'война',\n 'rare',\n 'crazy',\n 'existed',\n 'officially',\n 'philosophy',\n 'mouth',\n 'diversity',\n 'institution',\n 'pool',\n 'metro',\n 'eshte',\n '120',\n 'visit',\n 'marvel',\n '2012',\n 'btw',\n 'spoiler',\n 'originally',\n 'refused',\n 'cake',\n 'ki',\n 'convenient',\n 'podle',\n 'permit',\n 'zbog',\n 'visiting',\n 'driving',\n 'head',\n 'turkish',\n 'temperature',\n 'referendum',\n 'eur',\n 'bring',\n 'intentionally',\n 'ci',\n 'gone',\n 'painting',\n 'john',\n 'finally',\n 'bait',\n 'phone',\n 'wake',\n 'hi',\n 'μετά',\n 'airport',\n 'azzal',\n 'passive',\n 'draft',\n 'něco',\n 'software',\n 'thousand',\n 'et',\n 'risk',\n 'tone',\n 'c',\n 'mislim',\n 'march',\n 'spam',\n 'af',\n 'njega',\n 'sad',\n 'school',\n 'seem',\n 'target',\n 'men',\n 'chce',\n 'impressive',\n 'found',\n 'jail',\n '⢀',\n 'glad',\n 'loss',\n 'τους',\n 'contribution',\n 'post',\n 'godina',\n 'mam',\n 'touch',\n 'ker',\n 'niż',\n 'morality',\n 'activity',\n 'bank',\n 'face',\n 'typical',\n 'bi',\n 'som',\n 'wars',\n 'op',\n 'excited',\n 'young',\n 'included',\n 'skip',\n 'nationalism',\n 'minor',\n 'exclusively',\n 'bilo',\n 'foreign',\n '°',\n 'master',\n 'trouble',\n 'imao',\n 'dla',\n 'reset',\n 'lay',\n 'manje',\n 'organization',\n 'pointing',\n 'ești',\n 'sane',\n 'armenian',\n 'civilian',\n 'languages',\n 'realise',\n 'syria',\n 'membership',\n 'par',\n 'guarantee',\n 'cared',\n 'ma',\n 'rom',\n 'cell',\n 'tko',\n 'jo',\n 'her',\n 'koju',\n 'demographic',\n 'analysis',\n 'nek',\n 'remain',\n 'fac',\n 'sta',\n 'ask',\n 'dm',\n 'voted',\n 'improved',\n 'hmm',\n 'purchase',\n '⠙',\n '8',\n 'gun',\n 'solo',\n 'rape',\n 'przy',\n 'oligarch',\n '7',\n 'downvotes',\n 'boomer',\n 'също',\n 'pig',\n 'bitch',\n 'regret',\n 'този',\n 'pregnant',\n 'u',\n 'identical',\n 'walk',\n 'mind',\n 'scheme',\n 'medical',\n 'poverty',\n 'afterwards',\n 'scream',\n 'spell',\n 'ludzie',\n 'debt',\n 'angel',\n 'offer',\n 'radio',\n 'nich',\n 'tohle',\n 'actively',\n 'szar',\n 'moraš',\n 'difficult',\n 'off',\n 'macedonia',\n 'cute',\n 'military',\n 'l',\n 'что',\n 'amikor',\n 'zato',\n 'biased',\n 'component',\n 'practical',\n 'roku',\n 'childhood',\n 'offense',\n 'showing',\n 'rau',\n 'dude',\n 'boring',\n 'prepared',\n 'russians',\n 'θα',\n 'connected',\n 'stalin',\n 'ac',\n 'samsung',\n 'image',\n 'southern',\n 'им',\n 'local',\n 'ideal',\n 'held',\n 'low',\n 'package',\n '4',\n 'significant',\n 'ussr',\n 'read',\n 'respect',\n 'while',\n 'future',\n 'historical',\n 'merge',\n 'blocking',\n 'cable',\n 'thing',\n 'il',\n 'export',\n 'iz',\n 'screw',\n 'complaint',\n 'resources',\n 'not',\n 'job',\n 'favorite',\n 'prin',\n 'apply',\n 'bych',\n 'til',\n 'route',\n 'whole',\n 'eh',\n 'ministry',\n 'hole',\n 'patch',\n 'proof',\n 'terms',\n 'product',\n 'struggling',\n 'equal',\n 'hanem',\n 'line',\n 'trash',\n 'some',\n 'replacement',\n 'wear',\n 'needed',\n '80',\n 'economic',\n 'describe',\n 'ότι',\n 'koje',\n 'standing',\n 'boss',\n 'k',\n 'stats',\n 'part',\n 'probleme',\n 'но',\n 'together',\n 'walking',\n 'net',\n 'surprised',\n 'astia',\n 'alien',\n 'values',\n 'lesser',\n 'ethnicity',\n 'bread',\n 'arab',\n '😭',\n ...]"
     },
     "execution_count": 19,
     "metadata": {},
     "output_type": "execute_result"
    }
   ],
   "source": [
    "top_eastern_words = list(top_words_west_east(df_balanced, western=False))\n",
    "\n",
    "top_eastern_words"
   ],
   "metadata": {
    "collapsed": false,
    "pycharm": {
     "name": "#%%\n"
    }
   }
  },
  {
   "cell_type": "markdown",
   "source": [
    "#### Two-dimensional representation of word embeddings (vector space)"
   ],
   "metadata": {
    "collapsed": false,
    "pycharm": {
     "name": "#%% md\n"
    }
   }
  },
  {
   "cell_type": "code",
   "execution_count": 64,
   "outputs": [
    {
     "data": {
      "text/plain": "<Figure size 640x480 with 1 Axes>",
      "image/png": "[encoded data removed]"
     },
     "metadata": {},
     "output_type": "display_data"
    }
   ],
   "source": [
    "import matplotlib.pyplot as plt\n",
    "from sklearn.manifold import TSNE\n",
    "import numpy as np\n",
    "\n",
    "words = ['local', 'equipment', 'deaths', 'cannot', 'normally', 'smoke', 'engage', 'Hitler', 'add', 'London',\n",
    "         'London', 'land', 'matter', 'on', 'Egypt']\n",
    "\n",
    "vectors = [model.get_word_vector(word) for word in top_eastern_words[0:18]]\n",
    "\n",
    "# Convert list of lists to a 2D NumPy array\n",
    "vectors = np.array(vectors)\n",
    "\n",
    "tsne = TSNE(n_components=2, random_state=42, perplexity=3)\n",
    "# perplexity is a hyperparameter that influences the balance between preserving\n",
    "# local and global structures in the data.\n",
    "# perplexity needs to be lower than the number of words in the vector space\n",
    "vectors_tsne = tsne.fit_transform(vectors)\n",
    "\n",
    "plt.scatter(vectors_tsne[:, 0], vectors_tsne[:, 1])\n",
    "for i, word in enumerate(top_eastern_words[0:18]):\n",
    "    plt.annotate(word, (vectors_tsne[i, 0], vectors_tsne[i, 1]))\n",
    "\n",
    "plt.show()"
   ],
   "metadata": {
    "collapsed": false,
    "pycharm": {
     "name": "#%%\n"
    }
   }
  },
  {
   "cell_type": "markdown",
   "source": [
    "perplexity is a hyperparameter that influences the balance between preserving local and global structures in the data."
   ],
   "metadata": {
    "collapsed": false,
    "pycharm": {
     "name": "#%% md\n"
    }
   }
  },
  {
   "cell_type": "markdown",
   "source": [
    "importance of single words in a bigram model:\n",
    "*  Indicates how frequent bigrams containing said word are in the training data\n",
    "* position (index) of a bigram in the vocabulary is a reflection of its frequency in the training data"
   ],
   "metadata": {
    "collapsed": false,
    "pycharm": {
     "name": "#%% md\n"
    }
   }
  },
  {
   "cell_type": "markdown",
   "source": [
    "Importance score in FastText is misleading. It refers to the frequency of the word in the training data.\n",
    "\n",
    "* Low importance score indicates high frequency (these words are often not important for classification as they have less discriminatory power in distinguishing between classes since it is present in both classes)\n",
    "* High importance score indicates low frequency (these words are more importance for classification task; carry more discriminatory power)\n",
    "\n",
    "Note: if the score is -1, the word does not exist in the training data\n"
   ],
   "metadata": {
    "collapsed": false,
    "pycharm": {
     "name": "#%% md\n"
    }
   }
  },
  {
   "cell_type": "markdown",
   "source": [
    "# FastText as input for another model"
   ],
   "metadata": {
    "collapsed": false,
    "pycharm": {
     "name": "#%% md\n"
    }
   }
  },
  {
   "cell_type": "markdown",
   "source": [
    "### Creating Feature Matrix (word weights)"
   ],
   "metadata": {
    "collapsed": false,
    "pycharm": {
     "name": "#%% md\n"
    }
   }
  },
  {
   "cell_type": "code",
   "execution_count": 14,
   "outputs": [
    {
     "data": {
      "text/plain": "         auhtor_ID  feature_0  feature_1  feature_2  feature_3  feature_4   \n0      t2_3jee3cx4   0.011011  -0.002747   0.015690   0.008727  -0.000296  \\\n1         t2_dj2ua   0.005330  -0.001484   0.007758   0.004165  -0.000357   \n2         t2_59w0o   0.004827  -0.001591   0.007050   0.004104  -0.000178   \n3         t2_f8l2p   0.025177  -0.005956   0.037338   0.019853  -0.000995   \n4         t2_32nmh   0.018291  -0.004315   0.026543   0.014478  -0.000676   \n...            ...        ...        ...        ...        ...        ...   \n29011  t2_8hacr7if  -0.004568   0.000968  -0.006716  -0.003953  -0.000024   \n29012  t2_8hacr7if  -0.006955   0.001726  -0.010367  -0.005701   0.000526   \n29013  t2_8hacr7if  -0.005220   0.001155  -0.008380  -0.004182   0.000242   \n29014  t2_8hacr7if  -0.002832   0.000700  -0.004338  -0.002514   0.000391   \n29015  t2_8hacr7if  -0.003506   0.000719  -0.005086  -0.002727  -0.000093   \n\n       feature_5  feature_6  feature_7  feature_8  ...  feature_91   \n0      -0.005595  -0.018028   0.024939  -0.021262  ...    0.006383  \\\n1      -0.002562  -0.008691   0.011706  -0.009852  ...    0.002641   \n2      -0.002312  -0.008173   0.011268  -0.009666  ...    0.002903   \n3      -0.013046  -0.042099   0.058451  -0.049871  ...    0.014860   \n4      -0.009265  -0.030065   0.041583  -0.035364  ...    0.010754   \n...          ...        ...        ...        ...  ...         ...   \n29011   0.002377   0.007697  -0.010437   0.009200  ...   -0.003080   \n29012   0.003699   0.010965  -0.016032   0.013791  ...   -0.004182   \n29013   0.002699   0.008523  -0.012174   0.010669  ...   -0.003030   \n29014   0.001236   0.004514  -0.006759   0.005653  ...   -0.001664   \n29015   0.001553   0.005054  -0.007494   0.006256  ...   -0.001552   \n\n       feature_92  feature_93  feature_94  feature_95  feature_96  feature_97   \n0       -0.015139   -0.003372    0.002170   -0.007359   -0.009538   -0.012377  \\\n1       -0.006967   -0.001868    0.001075   -0.003738   -0.004547   -0.005662   \n2       -0.006776   -0.001964    0.001206   -0.003621   -0.004633   -0.005204   \n3       -0.035400   -0.008524    0.005335   -0.016604   -0.022509   -0.029510   \n4       -0.025154   -0.006154    0.004051   -0.011993   -0.016176   -0.020571   \n...           ...         ...         ...         ...         ...         ...   \n29011    0.006751    0.001064   -0.001255    0.002747    0.004117    0.005392   \n29012    0.009999    0.002407   -0.001634    0.004426    0.005775    0.008244   \n29013    0.007762    0.001585   -0.001246    0.003650    0.004700    0.005912   \n29014    0.004436    0.000932   -0.000782    0.001886    0.002768    0.003428   \n29015    0.004494    0.000876   -0.000473    0.001693    0.002569    0.003548   \n\n       feature_98  feature_99    Poles  \n0       -0.010063    0.011452  Western  \n1       -0.004946    0.005202  Western  \n2       -0.004655    0.004667  Western  \n3       -0.023134    0.026549  Western  \n4       -0.016450    0.019162  Western  \n...           ...         ...      ...  \n29011    0.004033   -0.004791  Eastern  \n29012    0.006236   -0.007125  Eastern  \n29013    0.004725   -0.005604  Eastern  \n29014    0.002658   -0.003025  Eastern  \n29015    0.002969   -0.003185  Eastern  \n\n[29016 rows x 102 columns]",
      "text/html": "<div>\n<style scoped>\n    .dataframe tbody tr th:only-of-type {\n        vertical-align: middle;\n    }\n\n    .dataframe tbody tr th {\n        vertical-align: top;\n    }\n\n    .dataframe thead th {\n        text-align: right;\n    }\n</style>\n<table border=\"1\" class=\"dataframe\">\n  <thead>\n    <tr style=\"text-align: right;\">\n      <th></th>\n      <th>auhtor_ID</th>\n      <th>feature_0</th>\n      <th>feature_1</th>\n      <th>feature_2</th>\n      <th>feature_3</th>\n      <th>feature_4</th>\n      <th>feature_5</th>\n      <th>feature_6</th>\n      <th>feature_7</th>\n      <th>feature_8</th>\n      <th>...</th>\n      <th>feature_91</th>\n      <th>feature_92</th>\n      <th>feature_93</th>\n      <th>feature_94</th>\n      <th>feature_95</th>\n      <th>feature_96</th>\n      <th>feature_97</th>\n      <th>feature_98</th>\n      <th>feature_99</th>\n      <th>Poles</th>\n    </tr>\n  </thead>\n  <tbody>\n    <tr>\n      <th>0</th>\n      <td>t2_3jee3cx4</td>\n      <td>0.011011</td>\n      <td>-0.002747</td>\n      <td>0.015690</td>\n      <td>0.008727</td>\n      <td>-0.000296</td>\n      <td>-0.005595</td>\n      <td>-0.018028</td>\n      <td>0.024939</td>\n      <td>-0.021262</td>\n      <td>...</td>\n      <td>0.006383</td>\n      <td>-0.015139</td>\n      <td>-0.003372</td>\n      <td>0.002170</td>\n      <td>-0.007359</td>\n      <td>-0.009538</td>\n      <td>-0.012377</td>\n      <td>-0.010063</td>\n      <td>0.011452</td>\n      <td>Western</td>\n    </tr>\n    <tr>\n      <th>1</th>\n      <td>t2_dj2ua</td>\n      <td>0.005330</td>\n      <td>-0.001484</td>\n      <td>0.007758</td>\n      <td>0.004165</td>\n      <td>-0.000357</td>\n      <td>-0.002562</td>\n      <td>-0.008691</td>\n      <td>0.011706</td>\n      <td>-0.009852</td>\n      <td>...</td>\n      <td>0.002641</td>\n      <td>-0.006967</td>\n      <td>-0.001868</td>\n      <td>0.001075</td>\n      <td>-0.003738</td>\n      <td>-0.004547</td>\n      <td>-0.005662</td>\n      <td>-0.004946</td>\n      <td>0.005202</td>\n      <td>Western</td>\n    </tr>\n    <tr>\n      <th>2</th>\n      <td>t2_59w0o</td>\n      <td>0.004827</td>\n      <td>-0.001591</td>\n      <td>0.007050</td>\n      <td>0.004104</td>\n      <td>-0.000178</td>\n      <td>-0.002312</td>\n      <td>-0.008173</td>\n      <td>0.011268</td>\n      <td>-0.009666</td>\n      <td>...</td>\n      <td>0.002903</td>\n      <td>-0.006776</td>\n      <td>-0.001964</td>\n      <td>0.001206</td>\n      <td>-0.003621</td>\n      <td>-0.004633</td>\n      <td>-0.005204</td>\n      <td>-0.004655</td>\n      <td>0.004667</td>\n      <td>Western</td>\n    </tr>\n    <tr>\n      <th>3</th>\n      <td>t2_f8l2p</td>\n      <td>0.025177</td>\n      <td>-0.005956</td>\n      <td>0.037338</td>\n      <td>0.019853</td>\n      <td>-0.000995</td>\n      <td>-0.013046</td>\n      <td>-0.042099</td>\n      <td>0.058451</td>\n      <td>-0.049871</td>\n      <td>...</td>\n      <td>0.014860</td>\n      <td>-0.035400</td>\n      <td>-0.008524</td>\n      <td>0.005335</td>\n      <td>-0.016604</td>\n      <td>-0.022509</td>\n      <td>-0.029510</td>\n      <td>-0.023134</td>\n      <td>0.026549</td>\n      <td>Western</td>\n    </tr>\n    <tr>\n      <th>4</th>\n      <td>t2_32nmh</td>\n      <td>0.018291</td>\n      <td>-0.004315</td>\n      <td>0.026543</td>\n      <td>0.014478</td>\n      <td>-0.000676</td>\n      <td>-0.009265</td>\n      <td>-0.030065</td>\n      <td>0.041583</td>\n      <td>-0.035364</td>\n      <td>...</td>\n      <td>0.010754</td>\n      <td>-0.025154</td>\n      <td>-0.006154</td>\n      <td>0.004051</td>\n      <td>-0.011993</td>\n      <td>-0.016176</td>\n      <td>-0.020571</td>\n      <td>-0.016450</td>\n      <td>0.019162</td>\n      <td>Western</td>\n    </tr>\n    <tr>\n      <th>...</th>\n      <td>...</td>\n      <td>...</td>\n      <td>...</td>\n      <td>...</td>\n      <td>...</td>\n      <td>...</td>\n      <td>...</td>\n      <td>...</td>\n      <td>...</td>\n      <td>...</td>\n      <td>...</td>\n      <td>...</td>\n      <td>...</td>\n      <td>...</td>\n      <td>...</td>\n      <td>...</td>\n      <td>...</td>\n      <td>...</td>\n      <td>...</td>\n      <td>...</td>\n      <td>...</td>\n    </tr>\n    <tr>\n      <th>29011</th>\n      <td>t2_8hacr7if</td>\n      <td>-0.004568</td>\n      <td>0.000968</td>\n      <td>-0.006716</td>\n      <td>-0.003953</td>\n      <td>-0.000024</td>\n      <td>0.002377</td>\n      <td>0.007697</td>\n      <td>-0.010437</td>\n      <td>0.009200</td>\n      <td>...</td>\n      <td>-0.003080</td>\n      <td>0.006751</td>\n      <td>0.001064</td>\n      <td>-0.001255</td>\n      <td>0.002747</td>\n      <td>0.004117</td>\n      <td>0.005392</td>\n      <td>0.004033</td>\n      <td>-0.004791</td>\n      <td>Eastern</td>\n    </tr>\n    <tr>\n      <th>29012</th>\n      <td>t2_8hacr7if</td>\n      <td>-0.006955</td>\n      <td>0.001726</td>\n      <td>-0.010367</td>\n      <td>-0.005701</td>\n      <td>0.000526</td>\n      <td>0.003699</td>\n      <td>0.010965</td>\n      <td>-0.016032</td>\n      <td>0.013791</td>\n      <td>...</td>\n      <td>-0.004182</td>\n      <td>0.009999</td>\n      <td>0.002407</td>\n      <td>-0.001634</td>\n      <td>0.004426</td>\n      <td>0.005775</td>\n      <td>0.008244</td>\n      <td>0.006236</td>\n      <td>-0.007125</td>\n      <td>Eastern</td>\n    </tr>\n    <tr>\n      <th>29013</th>\n      <td>t2_8hacr7if</td>\n      <td>-0.005220</td>\n      <td>0.001155</td>\n      <td>-0.008380</td>\n      <td>-0.004182</td>\n      <td>0.000242</td>\n      <td>0.002699</td>\n      <td>0.008523</td>\n      <td>-0.012174</td>\n      <td>0.010669</td>\n      <td>...</td>\n      <td>-0.003030</td>\n      <td>0.007762</td>\n      <td>0.001585</td>\n      <td>-0.001246</td>\n      <td>0.003650</td>\n      <td>0.004700</td>\n      <td>0.005912</td>\n      <td>0.004725</td>\n      <td>-0.005604</td>\n      <td>Eastern</td>\n    </tr>\n    <tr>\n      <th>29014</th>\n      <td>t2_8hacr7if</td>\n      <td>-0.002832</td>\n      <td>0.000700</td>\n      <td>-0.004338</td>\n      <td>-0.002514</td>\n      <td>0.000391</td>\n      <td>0.001236</td>\n      <td>0.004514</td>\n      <td>-0.006759</td>\n      <td>0.005653</td>\n      <td>...</td>\n      <td>-0.001664</td>\n      <td>0.004436</td>\n      <td>0.000932</td>\n      <td>-0.000782</td>\n      <td>0.001886</td>\n      <td>0.002768</td>\n      <td>0.003428</td>\n      <td>0.002658</td>\n      <td>-0.003025</td>\n      <td>Eastern</td>\n    </tr>\n    <tr>\n      <th>29015</th>\n      <td>t2_8hacr7if</td>\n      <td>-0.003506</td>\n      <td>0.000719</td>\n      <td>-0.005086</td>\n      <td>-0.002727</td>\n      <td>-0.000093</td>\n      <td>0.001553</td>\n      <td>0.005054</td>\n      <td>-0.007494</td>\n      <td>0.006256</td>\n      <td>...</td>\n      <td>-0.001552</td>\n      <td>0.004494</td>\n      <td>0.000876</td>\n      <td>-0.000473</td>\n      <td>0.001693</td>\n      <td>0.002569</td>\n      <td>0.003548</td>\n      <td>0.002969</td>\n      <td>-0.003185</td>\n      <td>Eastern</td>\n    </tr>\n  </tbody>\n</table>\n<p>29016 rows × 102 columns</p>\n</div>"
     },
     "execution_count": 14,
     "metadata": {},
     "output_type": "execute_result"
    }
   ],
   "source": [
    "import pandas as pd\n",
    "import numpy as np\n",
    "\n",
    "# Initialize empty lists to store data\n",
    "author_ids = []\n",
    "feature_vectors = []\n",
    "labels = []\n",
    "\n",
    "# Iterate through each row in the DataFrame\n",
    "for index, row in df_balanced.iterrows():\n",
    "    text = row['post']\n",
    "\n",
    "    # Get the sentence vector using get_sentence_vector\n",
    "    sentence_vector = model.get_sentence_vector(text)\n",
    "\n",
    "    # Append author_id, feature_vector, and label to respective lists\n",
    "    author_ids.append(row['auhtor_ID'])\n",
    "    feature_vectors.append(sentence_vector)\n",
    "    labels.append(row['Poles'])\n",
    "\n",
    "# Create a new DataFrame with author IDs, feature vectors, and labels\n",
    "columns = [f'feature_{i}' for i in range(len(feature_vectors[0]))]\n",
    "data = np.concatenate([np.array(author_ids).reshape(-1, 1), np.array(feature_vectors), np.array(labels).reshape(-1, 1)], axis=1)\n",
    "new_df = pd.DataFrame(data, columns=['auhtor_ID'] + columns + ['Poles'])\n",
    "\n",
    "# Convert feature columns to numeric\n",
    "new_df[columns] = new_df[columns].apply(pd.to_numeric)\n",
    "\n",
    "# Print the new DataFrame\n",
    "new_df"
   ],
   "metadata": {
    "collapsed": false,
    "pycharm": {
     "name": "#%%\n"
    }
   }
  },
  {
   "cell_type": "markdown",
   "source": [
    "### Simple Logistic Regression (baseline)"
   ],
   "metadata": {
    "collapsed": false,
    "pycharm": {
     "name": "#%% md\n"
    }
   }
  },
  {
   "cell_type": "code",
   "execution_count": 70,
   "outputs": [
    {
     "name": "stdout",
     "output_type": "stream",
     "text": [
      "Accuracy: 0.9502342866375828\n",
      "Precision: 0.9509127298018376\n",
      "Recall: 0.9502342866375828\n",
      "F1-score: 0.9502033470116344\n",
      "Classification Report:\n",
      "               precision    recall  f1-score   support\n",
      "\n",
      "     Eastern       0.97      0.93      0.95      3058\n",
      "     Western       0.93      0.97      0.95      3131\n",
      "\n",
      "    accuracy                           0.95      6189\n",
      "   macro avg       0.95      0.95      0.95      6189\n",
      "weighted avg       0.95      0.95      0.95      6189\n",
      "\n"
     ]
    }
   ],
   "source": [
    "from sklearn.linear_model import LogisticRegression\n",
    "from sklearn.model_selection import train_test_split\n",
    "from sklearn.metrics import accuracy_score, precision_score, recall_score, f1_score, classification_report\n",
    "\n",
    "# Assuming new_df is your DataFrame with features and labels\n",
    "X = new_df.drop(['auhtor_ID', 'Poles'], axis=1)\n",
    "y = new_df['Poles']\n",
    "\n",
    "# Train-test split\n",
    "X_train, X_test, y_train, y_test = train_test_split(X, y, test_size=0.2, random_state=42)\n",
    "\n",
    "# Initialize and train the logistic regression model\n",
    "clf = LogisticRegression(penalty='l2', C=1.0)\n",
    "clf.fit(X_train, y_train)\n",
    "\n",
    "# Make predictions on the test set\n",
    "predictions = clf.predict(X_test)\n",
    "\n",
    "# Evaluate the model\n",
    "accuracy = accuracy_score(y_test, predictions)\n",
    "precision = precision_score(y_test, predictions, average='weighted')\n",
    "recall = recall_score(y_test, predictions, average='weighted')\n",
    "f1 = f1_score(y_test, predictions, average='weighted')\n",
    "\n",
    "print(f'Accuracy: {accuracy}')\n",
    "print(f'Precision: {precision}')\n",
    "print(f'Recall: {recall}')\n",
    "print(f'F1-score: {f1}')\n",
    "\n",
    "# Generate a classification report\n",
    "class_report = classification_report(y_test, predictions)\n",
    "print('Classification Report:\\n', class_report)"
   ],
   "metadata": {
    "collapsed": false,
    "pycharm": {
     "name": "#%%\n"
    }
   }
  },
  {
   "cell_type": "markdown",
   "source": [
    "### Testing for Overfitting"
   ],
   "metadata": {
    "collapsed": false,
    "pycharm": {
     "name": "#%% md\n"
    }
   }
  },
  {
   "cell_type": "code",
   "execution_count": 75,
   "outputs": [
    {
     "name": "stdout",
     "output_type": "stream",
     "text": [
      "Cross-Validation Scores: [0.95573492 0.96381117 0.95538932 0.93499937 0.96024513 0.9327056\n",
      " 0.95701282 0.96574014 0.92551866 0.93627565]\n",
      "Mean CV Accuracy: 0.9487432776453719\n"
     ]
    }
   ],
   "source": [
    "from sklearn.linear_model import LogisticRegression\n",
    "from sklearn.model_selection import cross_val_score\n",
    "import numpy as np\n",
    "\n",
    "# Perform 5-fold cross-validation\n",
    "cv_scores = cross_val_score(clf, X, y, cv=10, scoring='f1_weighted')\n",
    "\n",
    "# Print cross-validation scores\n",
    "print('Cross-Validation Scores:', cv_scores)\n",
    "print('Mean CV Accuracy:', np.mean(cv_scores))"
   ],
   "metadata": {
    "collapsed": false,
    "pycharm": {
     "name": "#%%\n"
    }
   }
  },
  {
   "cell_type": "markdown",
   "source": [
    "#### Feature importance"
   ],
   "metadata": {
    "collapsed": false,
    "pycharm": {
     "name": "#%% md\n"
    }
   }
  },
  {
   "cell_type": "code",
   "execution_count": 73,
   "outputs": [
    {
     "data": {
      "text/plain": "       Feature  Coefficient  Absolute_Coefficient\n44  feature_44    12.560395             12.560395\n5    feature_5    12.520909             12.520909\n11  feature_11    11.839151             11.839151\n12  feature_12   -11.415024             11.415024\n15  feature_15   -10.820159             10.820159\n..         ...          ...                   ...\n81  feature_81     0.273564              0.273564\n9    feature_9     0.201929              0.201929\n25  feature_25    -0.196861              0.196861\n22  feature_22    -0.166847              0.166847\n29  feature_29     0.084033              0.084033\n\n[100 rows x 3 columns]",
      "text/html": "<div>\n<style scoped>\n    .dataframe tbody tr th:only-of-type {\n        vertical-align: middle;\n    }\n\n    .dataframe tbody tr th {\n        vertical-align: top;\n    }\n\n    .dataframe thead th {\n        text-align: right;\n    }\n</style>\n<table border=\"1\" class=\"dataframe\">\n  <thead>\n    <tr style=\"text-align: right;\">\n      <th></th>\n      <th>Feature</th>\n      <th>Coefficient</th>\n      <th>Absolute_Coefficient</th>\n    </tr>\n  </thead>\n  <tbody>\n    <tr>\n      <th>44</th>\n      <td>feature_44</td>\n      <td>12.560395</td>\n      <td>12.560395</td>\n    </tr>\n    <tr>\n      <th>5</th>\n      <td>feature_5</td>\n      <td>12.520909</td>\n      <td>12.520909</td>\n    </tr>\n    <tr>\n      <th>11</th>\n      <td>feature_11</td>\n      <td>11.839151</td>\n      <td>11.839151</td>\n    </tr>\n    <tr>\n      <th>12</th>\n      <td>feature_12</td>\n      <td>-11.415024</td>\n      <td>11.415024</td>\n    </tr>\n    <tr>\n      <th>15</th>\n      <td>feature_15</td>\n      <td>-10.820159</td>\n      <td>10.820159</td>\n    </tr>\n    <tr>\n      <th>...</th>\n      <td>...</td>\n      <td>...</td>\n      <td>...</td>\n    </tr>\n    <tr>\n      <th>81</th>\n      <td>feature_81</td>\n      <td>0.273564</td>\n      <td>0.273564</td>\n    </tr>\n    <tr>\n      <th>9</th>\n      <td>feature_9</td>\n      <td>0.201929</td>\n      <td>0.201929</td>\n    </tr>\n    <tr>\n      <th>25</th>\n      <td>feature_25</td>\n      <td>-0.196861</td>\n      <td>0.196861</td>\n    </tr>\n    <tr>\n      <th>22</th>\n      <td>feature_22</td>\n      <td>-0.166847</td>\n      <td>0.166847</td>\n    </tr>\n    <tr>\n      <th>29</th>\n      <td>feature_29</td>\n      <td>0.084033</td>\n      <td>0.084033</td>\n    </tr>\n  </tbody>\n</table>\n<p>100 rows × 3 columns</p>\n</div>"
     },
     "execution_count": 73,
     "metadata": {},
     "output_type": "execute_result"
    }
   ],
   "source": [
    "# Check if the model has the attribute coef_ (handles regularization)\n",
    "if hasattr(clf, 'coef_'):\n",
    "    coefficients = clf.coef_[0]\n",
    "else:\n",
    "    # For models with regularization, coefficients are stored in coef_ only if not regularized\n",
    "    coefficients = clf.coef_\n",
    "\n",
    "# Create a DataFrame to display feature names and their corresponding coefficients\n",
    "feature_importance_df = pd.DataFrame({'Feature': X.columns, 'Coefficient': coefficients})\n",
    "\n",
    "# Sort features by absolute coefficient values (importance)\n",
    "feature_importance_df['Absolute_Coefficient'] = feature_importance_df['Coefficient'].abs()\n",
    "feature_importance_df = feature_importance_df.sort_values(by='Absolute_Coefficient', ascending=False)\n",
    "\n",
    "# Display the feature importance DataFrame\n",
    "feature_importance_df"
   ],
   "metadata": {
    "collapsed": false,
    "pycharm": {
     "name": "#%%\n"
    }
   }
  },
  {
   "cell_type": "markdown",
   "source": [
    "It is impossible to interpret the meanings of these features since they are weights from the FastText model's word vector representations. Since the model learns these weights during training, and since these weights encode some sort of semantic meaning it becomes impossible to understand what these weights actually are semantically"
   ],
   "metadata": {
    "collapsed": false,
    "pycharm": {
     "name": "#%% md\n"
    }
   }
  },
  {
   "cell_type": "markdown",
   "source": [
    "### Neural Network"
   ],
   "metadata": {
    "collapsed": false,
    "pycharm": {
     "name": "#%% md\n"
    }
   }
  },
  {
   "cell_type": "code",
   "execution_count": 79,
   "outputs": [
    {
     "name": "stdout",
     "output_type": "stream",
     "text": [
      "Accuracy: 0.9520116335433835\n"
     ]
    }
   ],
   "source": [
    "from sklearn.neural_network import MLPClassifier\n",
    "from sklearn.preprocessing import StandardScaler\n",
    "\n",
    "# Standardize features for neural networks\n",
    "scaler = StandardScaler()\n",
    "X_train_scaled = scaler.fit_transform(X_train)\n",
    "X_test_scaled = scaler.transform(X_test)\n",
    "\n",
    "# Initialize and train the neural network model\n",
    "clf = MLPClassifier(hidden_layer_sizes=(100,), max_iter=1000)\n",
    "clf.fit(X_train_scaled, y_train)\n",
    "\n",
    "# Make predictions on the test set\n",
    "predictions = clf.predict(X_test_scaled)\n",
    "\n",
    "# Evaluate the model\n",
    "accuracy = accuracy_score(y_test, predictions)\n",
    "print(f'Accuracy: {accuracy}')"
   ],
   "metadata": {
    "collapsed": false,
    "pycharm": {
     "name": "#%%\n"
    }
   }
  },
  {
   "cell_type": "markdown",
   "source": [
    "#### Testing for overfitting"
   ],
   "metadata": {
    "collapsed": false,
    "pycharm": {
     "name": "#%% md\n"
    }
   }
  },
  {
   "cell_type": "code",
   "execution_count": 78,
   "outputs": [
    {
     "data": {
      "text/plain": "<Figure size 640x480 with 1 Axes>",
      "image/png": "[encoded data removed]"
     },
     "metadata": {},
     "output_type": "display_data"
    }
   ],
   "source": [
    "## - Accuracy graphs for training and testing - ##\n",
    "\n",
    "import matplotlib.pyplot as plt\n",
    "from sklearn.neural_network import MLPClassifier\n",
    "from sklearn.preprocessing import StandardScaler\n",
    "from sklearn.metrics import accuracy_score\n",
    "\n",
    "# Standardize features for neural networks\n",
    "scaler = StandardScaler()\n",
    "X_train_scaled = scaler.fit_transform(X_train)\n",
    "X_test_scaled = scaler.transform(X_test)\n",
    "\n",
    "# Initialize neural network model\n",
    "clf = MLPClassifier(hidden_layer_sizes=(100,), max_iter=1, warm_start=True)\n",
    "\n",
    "# Lists to store training and test accuracies\n",
    "train_accuracies = []\n",
    "test_accuracies = []\n",
    "\n",
    "# Number of training iterations (epochs)\n",
    "n_epochs = 1000\n",
    "\n",
    "# Train the model in multiple epochs\n",
    "for epoch in range(n_epochs):\n",
    "    # Train the model with a small batch of data\n",
    "    clf.partial_fit(X_train_scaled, y_train, classes=np.unique(y_train))\n",
    "\n",
    "    # Evaluate the model on the training set\n",
    "    train_predictions = clf.predict(X_train_scaled)\n",
    "    train_accuracy = accuracy_score(y_train, train_predictions)\n",
    "    train_accuracies.append(train_accuracy)\n",
    "\n",
    "    # Evaluate the model on the test set\n",
    "    test_predictions = clf.predict(X_test_scaled)\n",
    "    test_accuracy = accuracy_score(y_test, test_predictions)\n",
    "    test_accuracies.append(test_accuracy)\n",
    "\n",
    "# Plot training and test accuracies\n",
    "plt.plot(range(1, n_epochs + 1), train_accuracies, label='Training Accuracy')\n",
    "plt.plot(range(1, n_epochs + 1), test_accuracies, label='Test Accuracy')\n",
    "plt.xlabel('Epochs')\n",
    "plt.ylabel('Accuracy')\n",
    "plt.legend()\n",
    "plt.show()"
   ],
   "metadata": {
    "collapsed": false,
    "pycharm": {
     "name": "#%%\n"
    }
   }
  },
  {
   "cell_type": "code",
   "execution_count": 80,
   "outputs": [
    {
     "data": {
      "text/plain": "<Figure size 640x480 with 1 Axes>",
      "image/png": "[encoded data removed]"
     },
     "metadata": {},
     "output_type": "display_data"
    }
   ],
   "source": [
    "## - Loss graphs for training and testing - ##\n",
    "\n",
    "import matplotlib.pyplot as plt\n",
    "from sklearn.neural_network import MLPClassifier\n",
    "from sklearn.preprocessing import StandardScaler\n",
    "from sklearn.metrics import log_loss\n",
    "\n",
    "# Standardize features for neural networks\n",
    "scaler = StandardScaler()\n",
    "X_train_scaled = scaler.fit_transform(X_train)\n",
    "X_test_scaled = scaler.transform(X_test)\n",
    "\n",
    "# Initialize neural network model\n",
    "clf = MLPClassifier(hidden_layer_sizes=(100,), max_iter=1, warm_start=True)\n",
    "\n",
    "# Lists to store training and test losses\n",
    "train_losses = []\n",
    "test_losses = []\n",
    "\n",
    "# Number of training iterations (epochs)\n",
    "n_epochs = 1000\n",
    "\n",
    "# Train the model in multiple epochs\n",
    "for epoch in range(n_epochs):\n",
    "    # Train the model with a small batch of data\n",
    "    clf.partial_fit(X_train_scaled, y_train, classes=np.unique(y_train))\n",
    "\n",
    "    # Compute the loss on the training set\n",
    "    train_predictions_proba = clf.predict_proba(X_train_scaled)\n",
    "    train_loss = log_loss(y_train, train_predictions_proba)\n",
    "    train_losses.append(train_loss)\n",
    "\n",
    "    # Compute the loss on the test set\n",
    "    test_predictions_proba = clf.predict_proba(X_test_scaled)\n",
    "    test_loss = log_loss(y_test, test_predictions_proba)\n",
    "    test_losses.append(test_loss)\n",
    "\n",
    "# Plot training and test losses\n",
    "plt.plot(range(1, n_epochs + 1), train_losses, label='Training Loss')\n",
    "plt.plot(range(1, n_epochs + 1), test_losses, label='Test Loss')\n",
    "plt.xlabel('Epochs')\n",
    "plt.ylabel('Loss')\n",
    "plt.legend()\n",
    "plt.show()"
   ],
   "metadata": {
    "collapsed": false,
    "pycharm": {
     "name": "#%%\n"
    }
   }
  },
  {
   "cell_type": "markdown",
   "source": [
    "So the model is definitely overfitting since the training accuracy continues to increase while the test accuracy decreases over the number of epochs. So this certainly needs to be taken care of."
   ],
   "metadata": {
    "collapsed": false,
    "pycharm": {
     "name": "#%% md\n"
    }
   }
  }
 ],
 "metadata": {
  "kernelspec": {
   "display_name": "Python 3",
   "language": "python",
   "name": "python3"
  },
  "language_info": {
   "codemirror_mode": {
    "name": "ipython",
    "version": 2
   },
   "file_extension": ".py",
   "mimetype": "text/x-python",
   "name": "python",
   "nbconvert_exporter": "python",
   "pygments_lexer": "ipython2",
   "version": "2.7.6"
  }
 },
 "nbformat": 4,
 "nbformat_minor": 0
}