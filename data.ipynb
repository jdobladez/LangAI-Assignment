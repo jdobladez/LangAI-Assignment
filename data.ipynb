{
 "cells": [
  {
   "cell_type": "code",
   "execution_count": 1,
   "id": "initial_id",
   "metadata": {
    "collapsed": true,
    "ExecuteTime": {
     "end_time": "2023-12-07T15:36:51.813018486Z",
     "start_time": "2023-12-07T15:36:51.306427272Z"
    }
   },
   "outputs": [],
   "source": [
    "import pandas as pd\n"
   ]
  },
  {
   "cell_type": "markdown",
   "source": [
    "There seems to be a mix of Reddit posts from different groups, as some talk about taking care of kids / parenting, others complain about work or work policies, types of personalities, "
   ],
   "metadata": {
    "collapsed": false
   },
   "id": "705b94e278a0fe6e"
  },
  {
   "cell_type": "code",
   "execution_count": 2,
   "outputs": [
    {
     "data": {
      "text/plain": "        auhtor_ID                                               post  \\\n0      t2_rnjzutp  Good on you for being responsible! I know self...   \n1      t2_rnjzutp  must go to the grocery store with their child,...   \n2      t2_rnjzutp  things on her videos, and YouTube took the vid...   \n3      t2_rnjzutp  their app. There's also a program called SYNC ...   \n4      t2_rnjzutp  side. If the cops don't take your side, you'll...   \n...           ...                                                ...   \n41868  t2_mgcj65a  honest, unbiased news media in the US. That's ...   \n41869  t2_mgcj65a  the house, therefore I don't technically *own*...   \n41870  t2_mgcj65a  to stop being afraid. Just to be clear here, d...   \n41871  t2_mgcj65a  saying that if the 2016 election had gone the ...   \n41872  t2_mgcj65a  for them, but yeah, I suppose I would eventual...   \n\n       birth_year  \n0            2001  \n1            2001  \n2            2001  \n3            2001  \n4            2001  \n...           ...  \n41868        1974  \n41869        1974  \n41870        1974  \n41871        1974  \n41872        1974  \n\n[41873 rows x 3 columns]",
      "text/html": "<div>\n<style scoped>\n    .dataframe tbody tr th:only-of-type {\n        vertical-align: middle;\n    }\n\n    .dataframe tbody tr th {\n        vertical-align: top;\n    }\n\n    .dataframe thead th {\n        text-align: right;\n    }\n</style>\n<table border=\"1\" class=\"dataframe\">\n  <thead>\n    <tr style=\"text-align: right;\">\n      <th></th>\n      <th>auhtor_ID</th>\n      <th>post</th>\n      <th>birth_year</th>\n    </tr>\n  </thead>\n  <tbody>\n    <tr>\n      <th>0</th>\n      <td>t2_rnjzutp</td>\n      <td>Good on you for being responsible! I know self...</td>\n      <td>2001</td>\n    </tr>\n    <tr>\n      <th>1</th>\n      <td>t2_rnjzutp</td>\n      <td>must go to the grocery store with their child,...</td>\n      <td>2001</td>\n    </tr>\n    <tr>\n      <th>2</th>\n      <td>t2_rnjzutp</td>\n      <td>things on her videos, and YouTube took the vid...</td>\n      <td>2001</td>\n    </tr>\n    <tr>\n      <th>3</th>\n      <td>t2_rnjzutp</td>\n      <td>their app. There's also a program called SYNC ...</td>\n      <td>2001</td>\n    </tr>\n    <tr>\n      <th>4</th>\n      <td>t2_rnjzutp</td>\n      <td>side. If the cops don't take your side, you'll...</td>\n      <td>2001</td>\n    </tr>\n    <tr>\n      <th>...</th>\n      <td>...</td>\n      <td>...</td>\n      <td>...</td>\n    </tr>\n    <tr>\n      <th>41868</th>\n      <td>t2_mgcj65a</td>\n      <td>honest, unbiased news media in the US. That's ...</td>\n      <td>1974</td>\n    </tr>\n    <tr>\n      <th>41869</th>\n      <td>t2_mgcj65a</td>\n      <td>the house, therefore I don't technically *own*...</td>\n      <td>1974</td>\n    </tr>\n    <tr>\n      <th>41870</th>\n      <td>t2_mgcj65a</td>\n      <td>to stop being afraid. Just to be clear here, d...</td>\n      <td>1974</td>\n    </tr>\n    <tr>\n      <th>41871</th>\n      <td>t2_mgcj65a</td>\n      <td>saying that if the 2016 election had gone the ...</td>\n      <td>1974</td>\n    </tr>\n    <tr>\n      <th>41872</th>\n      <td>t2_mgcj65a</td>\n      <td>for them, but yeah, I suppose I would eventual...</td>\n      <td>1974</td>\n    </tr>\n  </tbody>\n</table>\n<p>41873 rows × 3 columns</p>\n</div>"
     },
     "execution_count": 2,
     "metadata": {},
     "output_type": "execute_result"
    }
   ],
   "source": [
    "birth_year = pd.read_csv(\"lai-data/birth_year.csv\")\n",
    "\n",
    "birth_year"
   ],
   "metadata": {
    "collapsed": false,
    "ExecuteTime": {
     "end_time": "2023-12-07T15:37:01.279467878Z",
     "start_time": "2023-12-07T15:36:53.523625609Z"
    }
   },
   "id": "3bcd8987604c9fc4"
  },
  {
   "cell_type": "code",
   "execution_count": 5,
   "outputs": [
    {
     "data": {
      "text/plain": "birth_year\n1997    2496\n1992    2047\n1994    1897\n1991    1893\n1988    1833\n1996    1772\n1998    1708\n1999    1652\n1977    1503\n1995    1394\n1993    1356\n1984    1342\n1990    1292\n1986    1232\n1983    1194\n1982    1139\n1985    1114\n1989    1043\n1987    1026\n2001    1023\n2000     889\n1980     782\n1978     757\n1979     711\n1970     689\n1981     605\n2002     560\n2006     481\n1962     463\n1976     459\n1973     383\n1972     380\n1974     379\n2004     372\n2003     371\n2005     350\n1971     317\n1965     316\n1966     293\n1975     278\n1967     265\n1969     254\n2007     253\n1968     204\n1963     203\n1957     191\n1954     129\n1964     100\n1960      91\n2008      70\n1949      65\n1961      50\n1958      47\n1953      46\n1951      44\n2010      23\n1959      22\n1948      22\n1955       2\n1956       1\nName: count, dtype: int64"
     },
     "execution_count": 5,
     "metadata": {},
     "output_type": "execute_result"
    }
   ],
   "source": [
    "birth_year['birth_year'].value_counts()"
   ],
   "metadata": {
    "collapsed": false,
    "ExecuteTime": {
     "end_time": "2023-12-07T15:40:53.154907938Z",
     "start_time": "2023-12-07T15:40:53.106968927Z"
    }
   },
   "id": "92e87af72d57aece"
  },
  {
   "cell_type": "code",
   "execution_count": 7,
   "outputs": [
    {
     "data": {
      "text/plain": "         auhtor_ID                                               post  \\\n0      t2_2hrxxs28  I have a question, if you have no doctor, how'...   \n1      t2_2hrxxs28  butt to have Covid + your cycle. I'm not sure ...   \n2      t2_2hrxxs28  through different doctors. My situation sucks ...   \n3       t2_4pxpgwz  i thought it was about the pebbleyeet guy the ...   \n4       t2_4pxpgwz  …i always end up voting wrong even as crewmate...   \n...            ...                                                ...   \n40447     t2_8xjvf  Professional Association** We do not allow per...   \n40448     t2_8xjvf  work on the artist's behalf. Please post this ...   \n40449     t2_8xjvf  * Chill * Alternative/Alt * LoFi * Electronic ...   \n40450     t2_8xjvf  without the ability to appeal. ___ ___ If you ...   \n40451     t2_8xjvf  support for that, especially given other tax r...   \n\n       extrovert  \n0              0  \n1              0  \n2              0  \n3              0  \n4              0  \n...          ...  \n40447          0  \n40448          0  \n40449          0  \n40450          0  \n40451          0  \n\n[40452 rows x 3 columns]",
      "text/html": "<div>\n<style scoped>\n    .dataframe tbody tr th:only-of-type {\n        vertical-align: middle;\n    }\n\n    .dataframe tbody tr th {\n        vertical-align: top;\n    }\n\n    .dataframe thead th {\n        text-align: right;\n    }\n</style>\n<table border=\"1\" class=\"dataframe\">\n  <thead>\n    <tr style=\"text-align: right;\">\n      <th></th>\n      <th>auhtor_ID</th>\n      <th>post</th>\n      <th>extrovert</th>\n    </tr>\n  </thead>\n  <tbody>\n    <tr>\n      <th>0</th>\n      <td>t2_2hrxxs28</td>\n      <td>I have a question, if you have no doctor, how'...</td>\n      <td>0</td>\n    </tr>\n    <tr>\n      <th>1</th>\n      <td>t2_2hrxxs28</td>\n      <td>butt to have Covid + your cycle. I'm not sure ...</td>\n      <td>0</td>\n    </tr>\n    <tr>\n      <th>2</th>\n      <td>t2_2hrxxs28</td>\n      <td>through different doctors. My situation sucks ...</td>\n      <td>0</td>\n    </tr>\n    <tr>\n      <th>3</th>\n      <td>t2_4pxpgwz</td>\n      <td>i thought it was about the pebbleyeet guy the ...</td>\n      <td>0</td>\n    </tr>\n    <tr>\n      <th>4</th>\n      <td>t2_4pxpgwz</td>\n      <td>…i always end up voting wrong even as crewmate...</td>\n      <td>0</td>\n    </tr>\n    <tr>\n      <th>...</th>\n      <td>...</td>\n      <td>...</td>\n      <td>...</td>\n    </tr>\n    <tr>\n      <th>40447</th>\n      <td>t2_8xjvf</td>\n      <td>Professional Association** We do not allow per...</td>\n      <td>0</td>\n    </tr>\n    <tr>\n      <th>40448</th>\n      <td>t2_8xjvf</td>\n      <td>work on the artist's behalf. Please post this ...</td>\n      <td>0</td>\n    </tr>\n    <tr>\n      <th>40449</th>\n      <td>t2_8xjvf</td>\n      <td>* Chill * Alternative/Alt * LoFi * Electronic ...</td>\n      <td>0</td>\n    </tr>\n    <tr>\n      <th>40450</th>\n      <td>t2_8xjvf</td>\n      <td>without the ability to appeal. ___ ___ If you ...</td>\n      <td>0</td>\n    </tr>\n    <tr>\n      <th>40451</th>\n      <td>t2_8xjvf</td>\n      <td>support for that, especially given other tax r...</td>\n      <td>0</td>\n    </tr>\n  </tbody>\n</table>\n<p>40452 rows × 3 columns</p>\n</div>"
     },
     "execution_count": 7,
     "metadata": {},
     "output_type": "execute_result"
    }
   ],
   "source": [
    "extrovert = pd.read_csv(\"lai-data/extrovert_introvert.csv\")\n",
    "extrovert"
   ],
   "metadata": {
    "collapsed": false,
    "ExecuteTime": {
     "end_time": "2023-12-07T15:47:02.911674242Z",
     "start_time": "2023-12-07T15:46:55.564168806Z"
    }
   },
   "id": "bfa271573d037808"
  },
  {
   "cell_type": "code",
   "execution_count": 8,
   "outputs": [
    {
     "data": {
      "text/plain": "         auhtor_ID                                               post  feeling\n0      t2_dzpdnx2b  Bragging is ridiculous, but maybe some of the ...        0\n1      t2_dzpdnx2b  about this person, and I'm not entirely sure w...        0\n2      t2_dzpdnx2b  kindly, and just keep to myself, I really want...        0\n3      t2_dzpdnx2b  yourself and improve yourself, to be able to s...        0\n4      t2_dzpdnx2b  never, but I'm surrounded by intps and infps I...        0\n...            ...                                                ...      ...\n39595     t2_bkl0y  African genes... then can you put African-Amer...        0\n39596     t2_bkl0y  old houses. But the older the house the more l...        0\n39597     t2_bkl0y  soccer places. Talk to anyone who might even b...        0\n39598     t2_bkl0y  you can do something. Even in your living room...        0\n39599     t2_bkl0y  path to becoming an agent. Agents have the per...        0\n\n[39600 rows x 3 columns]",
      "text/html": "<div>\n<style scoped>\n    .dataframe tbody tr th:only-of-type {\n        vertical-align: middle;\n    }\n\n    .dataframe tbody tr th {\n        vertical-align: top;\n    }\n\n    .dataframe thead th {\n        text-align: right;\n    }\n</style>\n<table border=\"1\" class=\"dataframe\">\n  <thead>\n    <tr style=\"text-align: right;\">\n      <th></th>\n      <th>auhtor_ID</th>\n      <th>post</th>\n      <th>feeling</th>\n    </tr>\n  </thead>\n  <tbody>\n    <tr>\n      <th>0</th>\n      <td>t2_dzpdnx2b</td>\n      <td>Bragging is ridiculous, but maybe some of the ...</td>\n      <td>0</td>\n    </tr>\n    <tr>\n      <th>1</th>\n      <td>t2_dzpdnx2b</td>\n      <td>about this person, and I'm not entirely sure w...</td>\n      <td>0</td>\n    </tr>\n    <tr>\n      <th>2</th>\n      <td>t2_dzpdnx2b</td>\n      <td>kindly, and just keep to myself, I really want...</td>\n      <td>0</td>\n    </tr>\n    <tr>\n      <th>3</th>\n      <td>t2_dzpdnx2b</td>\n      <td>yourself and improve yourself, to be able to s...</td>\n      <td>0</td>\n    </tr>\n    <tr>\n      <th>4</th>\n      <td>t2_dzpdnx2b</td>\n      <td>never, but I'm surrounded by intps and infps I...</td>\n      <td>0</td>\n    </tr>\n    <tr>\n      <th>...</th>\n      <td>...</td>\n      <td>...</td>\n      <td>...</td>\n    </tr>\n    <tr>\n      <th>39595</th>\n      <td>t2_bkl0y</td>\n      <td>African genes... then can you put African-Amer...</td>\n      <td>0</td>\n    </tr>\n    <tr>\n      <th>39596</th>\n      <td>t2_bkl0y</td>\n      <td>old houses. But the older the house the more l...</td>\n      <td>0</td>\n    </tr>\n    <tr>\n      <th>39597</th>\n      <td>t2_bkl0y</td>\n      <td>soccer places. Talk to anyone who might even b...</td>\n      <td>0</td>\n    </tr>\n    <tr>\n      <th>39598</th>\n      <td>t2_bkl0y</td>\n      <td>you can do something. Even in your living room...</td>\n      <td>0</td>\n    </tr>\n    <tr>\n      <th>39599</th>\n      <td>t2_bkl0y</td>\n      <td>path to becoming an agent. Agents have the per...</td>\n      <td>0</td>\n    </tr>\n  </tbody>\n</table>\n<p>39600 rows × 3 columns</p>\n</div>"
     },
     "execution_count": 8,
     "metadata": {},
     "output_type": "execute_result"
    }
   ],
   "source": [
    "feeling = pd.read_csv(\"lai-data/feeling_thinking.csv\")\n",
    "feeling"
   ],
   "metadata": {
    "collapsed": false,
    "ExecuteTime": {
     "end_time": "2023-12-07T15:47:10.763818095Z",
     "start_time": "2023-12-07T15:47:02.906747482Z"
    }
   },
   "id": "7645f64a262c0d46"
  },
  {
   "cell_type": "code",
   "execution_count": 9,
   "outputs": [
    {
     "data": {
      "text/plain": "         auhtor_ID                                               post  female\n0       t2_rnjzutp  Good on you for being responsible! I know self...       1\n1       t2_rnjzutp  must go to the grocery store with their child,...       1\n2       t2_rnjzutp  things on her videos, and YouTube took the vid...       1\n3       t2_rnjzutp  their app. There's also a program called SYNC ...       1\n4       t2_rnjzutp  side. If the cops don't take your side, you'll...       1\n...            ...                                                ...     ...\n44630  t2_6mpla2l0  if smegma kept her kids away just out of spite...       1\n44631  t2_6mpla2l0  PhDs to change the time on my microwave. I did...       1\n44632  t2_6mpla2l0  HiLIARy could even think of doing! I think Car...       1\n44633  t2_6mpla2l0  of the hand is a breeze. It swells after thoug...       1\n44634  t2_6mpla2l0  actual real tears. Only pretend crying. Good b...       1\n\n[44635 rows x 3 columns]",
      "text/html": "<div>\n<style scoped>\n    .dataframe tbody tr th:only-of-type {\n        vertical-align: middle;\n    }\n\n    .dataframe tbody tr th {\n        vertical-align: top;\n    }\n\n    .dataframe thead th {\n        text-align: right;\n    }\n</style>\n<table border=\"1\" class=\"dataframe\">\n  <thead>\n    <tr style=\"text-align: right;\">\n      <th></th>\n      <th>auhtor_ID</th>\n      <th>post</th>\n      <th>female</th>\n    </tr>\n  </thead>\n  <tbody>\n    <tr>\n      <th>0</th>\n      <td>t2_rnjzutp</td>\n      <td>Good on you for being responsible! I know self...</td>\n      <td>1</td>\n    </tr>\n    <tr>\n      <th>1</th>\n      <td>t2_rnjzutp</td>\n      <td>must go to the grocery store with their child,...</td>\n      <td>1</td>\n    </tr>\n    <tr>\n      <th>2</th>\n      <td>t2_rnjzutp</td>\n      <td>things on her videos, and YouTube took the vid...</td>\n      <td>1</td>\n    </tr>\n    <tr>\n      <th>3</th>\n      <td>t2_rnjzutp</td>\n      <td>their app. There's also a program called SYNC ...</td>\n      <td>1</td>\n    </tr>\n    <tr>\n      <th>4</th>\n      <td>t2_rnjzutp</td>\n      <td>side. If the cops don't take your side, you'll...</td>\n      <td>1</td>\n    </tr>\n    <tr>\n      <th>...</th>\n      <td>...</td>\n      <td>...</td>\n      <td>...</td>\n    </tr>\n    <tr>\n      <th>44630</th>\n      <td>t2_6mpla2l0</td>\n      <td>if smegma kept her kids away just out of spite...</td>\n      <td>1</td>\n    </tr>\n    <tr>\n      <th>44631</th>\n      <td>t2_6mpla2l0</td>\n      <td>PhDs to change the time on my microwave. I did...</td>\n      <td>1</td>\n    </tr>\n    <tr>\n      <th>44632</th>\n      <td>t2_6mpla2l0</td>\n      <td>HiLIARy could even think of doing! I think Car...</td>\n      <td>1</td>\n    </tr>\n    <tr>\n      <th>44633</th>\n      <td>t2_6mpla2l0</td>\n      <td>of the hand is a breeze. It swells after thoug...</td>\n      <td>1</td>\n    </tr>\n    <tr>\n      <th>44634</th>\n      <td>t2_6mpla2l0</td>\n      <td>actual real tears. Only pretend crying. Good b...</td>\n      <td>1</td>\n    </tr>\n  </tbody>\n</table>\n<p>44635 rows × 3 columns</p>\n</div>"
     },
     "execution_count": 9,
     "metadata": {},
     "output_type": "execute_result"
    }
   ],
   "source": [
    "gender = pd.read_csv(\"lai-data/gender.csv\")\n",
    "gender"
   ],
   "metadata": {
    "collapsed": false,
    "ExecuteTime": {
     "end_time": "2023-12-07T15:47:17.429938856Z",
     "start_time": "2023-12-07T15:47:10.758899844Z"
    }
   },
   "id": "1f195f2a26b95027"
  },
  {
   "cell_type": "code",
   "execution_count": 10,
   "outputs": [
    {
     "data": {
      "text/plain": "      auhtor_ID                                               post  judging\n0      t2_yo59v  Oh...but why? Seriously, even corrected it's s...        0\n1      t2_yo59v  could make out the address the second time and...        0\n2      t2_yo59v  That's what he said yeah. But no he was genuin...        0\n3      t2_yo59v  here. I feel like he knows, with this wording ...        0\n4      t2_yo59v  time it picked up steam lots of (ex)slaves got...        0\n...         ...                                                ...      ...\n41360  t2_8xjvf  precarious mental health (and therefore percep...        1\n41361  t2_8xjvf  know, you can talk to other people about your ...        1\n41362  t2_8xjvf  of well-rated TV shows from 2015-16 onwards, a...        1\n41363  t2_8xjvf  Biden story in particular - only that Facebook...        1\n41364  t2_8xjvf  Spain would involve basically expelling everyo...        1\n\n[41365 rows x 3 columns]",
      "text/html": "<div>\n<style scoped>\n    .dataframe tbody tr th:only-of-type {\n        vertical-align: middle;\n    }\n\n    .dataframe tbody tr th {\n        vertical-align: top;\n    }\n\n    .dataframe thead th {\n        text-align: right;\n    }\n</style>\n<table border=\"1\" class=\"dataframe\">\n  <thead>\n    <tr style=\"text-align: right;\">\n      <th></th>\n      <th>auhtor_ID</th>\n      <th>post</th>\n      <th>judging</th>\n    </tr>\n  </thead>\n  <tbody>\n    <tr>\n      <th>0</th>\n      <td>t2_yo59v</td>\n      <td>Oh...but why? Seriously, even corrected it's s...</td>\n      <td>0</td>\n    </tr>\n    <tr>\n      <th>1</th>\n      <td>t2_yo59v</td>\n      <td>could make out the address the second time and...</td>\n      <td>0</td>\n    </tr>\n    <tr>\n      <th>2</th>\n      <td>t2_yo59v</td>\n      <td>That's what he said yeah. But no he was genuin...</td>\n      <td>0</td>\n    </tr>\n    <tr>\n      <th>3</th>\n      <td>t2_yo59v</td>\n      <td>here. I feel like he knows, with this wording ...</td>\n      <td>0</td>\n    </tr>\n    <tr>\n      <th>4</th>\n      <td>t2_yo59v</td>\n      <td>time it picked up steam lots of (ex)slaves got...</td>\n      <td>0</td>\n    </tr>\n    <tr>\n      <th>...</th>\n      <td>...</td>\n      <td>...</td>\n      <td>...</td>\n    </tr>\n    <tr>\n      <th>41360</th>\n      <td>t2_8xjvf</td>\n      <td>precarious mental health (and therefore percep...</td>\n      <td>1</td>\n    </tr>\n    <tr>\n      <th>41361</th>\n      <td>t2_8xjvf</td>\n      <td>know, you can talk to other people about your ...</td>\n      <td>1</td>\n    </tr>\n    <tr>\n      <th>41362</th>\n      <td>t2_8xjvf</td>\n      <td>of well-rated TV shows from 2015-16 onwards, a...</td>\n      <td>1</td>\n    </tr>\n    <tr>\n      <th>41363</th>\n      <td>t2_8xjvf</td>\n      <td>Biden story in particular - only that Facebook...</td>\n      <td>1</td>\n    </tr>\n    <tr>\n      <th>41364</th>\n      <td>t2_8xjvf</td>\n      <td>Spain would involve basically expelling everyo...</td>\n      <td>1</td>\n    </tr>\n  </tbody>\n</table>\n<p>41365 rows × 3 columns</p>\n</div>"
     },
     "execution_count": 10,
     "metadata": {},
     "output_type": "execute_result"
    }
   ],
   "source": [
    "judge = pd.read_csv(\"lai-data/judging_perceiving.csv\")\n",
    "judge"
   ],
   "metadata": {
    "collapsed": false,
    "ExecuteTime": {
     "end_time": "2023-12-07T15:47:24.822410236Z",
     "start_time": "2023-12-07T15:47:17.412463500Z"
    }
   },
   "id": "5b36ea73b68a3c51"
  },
  {
   "cell_type": "code",
   "execution_count": 11,
   "outputs": [
    {
     "data": {
      "text/plain": "         auhtor_ID                                               post  \\\n0        t2_10uons  It isn't, it's just for show. It isn't legally...   \n1        t2_10uons  games won to games played. Games played is cal...   \n2        t2_10uons  So with that logic USA is a very shitty place ...   \n3        t2_10uons  are referring to It does add up a lot when EA,...   \n4        t2_10uons  get another role than support Lel people here ...   \n...            ...                                                ...   \n82611  t2_57ogt82f  and Sergeant York. WWI didn't lend it'self to ...   \n82612  t2_57ogt82f  a position where a person can get short term f...   \n82613  t2_57ogt82f  you have to read the label. Some are just as h...   \n82614  t2_57ogt82f  as traitors. Some suggesting it was treason. T...   \n82615  t2_57ogt82f  for the drug trade staffed by benefit claimant...   \n\n          nationality  \n0             Finland  \n1             Finland  \n2             Finland  \n3             Finland  \n4             Finland  \n...               ...  \n82611  United Kingdom  \n82612  United Kingdom  \n82613  United Kingdom  \n82614  United Kingdom  \n82615  United Kingdom  \n\n[82616 rows x 3 columns]",
      "text/html": "<div>\n<style scoped>\n    .dataframe tbody tr th:only-of-type {\n        vertical-align: middle;\n    }\n\n    .dataframe tbody tr th {\n        vertical-align: top;\n    }\n\n    .dataframe thead th {\n        text-align: right;\n    }\n</style>\n<table border=\"1\" class=\"dataframe\">\n  <thead>\n    <tr style=\"text-align: right;\">\n      <th></th>\n      <th>auhtor_ID</th>\n      <th>post</th>\n      <th>nationality</th>\n    </tr>\n  </thead>\n  <tbody>\n    <tr>\n      <th>0</th>\n      <td>t2_10uons</td>\n      <td>It isn't, it's just for show. It isn't legally...</td>\n      <td>Finland</td>\n    </tr>\n    <tr>\n      <th>1</th>\n      <td>t2_10uons</td>\n      <td>games won to games played. Games played is cal...</td>\n      <td>Finland</td>\n    </tr>\n    <tr>\n      <th>2</th>\n      <td>t2_10uons</td>\n      <td>So with that logic USA is a very shitty place ...</td>\n      <td>Finland</td>\n    </tr>\n    <tr>\n      <th>3</th>\n      <td>t2_10uons</td>\n      <td>are referring to It does add up a lot when EA,...</td>\n      <td>Finland</td>\n    </tr>\n    <tr>\n      <th>4</th>\n      <td>t2_10uons</td>\n      <td>get another role than support Lel people here ...</td>\n      <td>Finland</td>\n    </tr>\n    <tr>\n      <th>...</th>\n      <td>...</td>\n      <td>...</td>\n      <td>...</td>\n    </tr>\n    <tr>\n      <th>82611</th>\n      <td>t2_57ogt82f</td>\n      <td>and Sergeant York. WWI didn't lend it'self to ...</td>\n      <td>United Kingdom</td>\n    </tr>\n    <tr>\n      <th>82612</th>\n      <td>t2_57ogt82f</td>\n      <td>a position where a person can get short term f...</td>\n      <td>United Kingdom</td>\n    </tr>\n    <tr>\n      <th>82613</th>\n      <td>t2_57ogt82f</td>\n      <td>you have to read the label. Some are just as h...</td>\n      <td>United Kingdom</td>\n    </tr>\n    <tr>\n      <th>82614</th>\n      <td>t2_57ogt82f</td>\n      <td>as traitors. Some suggesting it was treason. T...</td>\n      <td>United Kingdom</td>\n    </tr>\n    <tr>\n      <th>82615</th>\n      <td>t2_57ogt82f</td>\n      <td>for the drug trade staffed by benefit claimant...</td>\n      <td>United Kingdom</td>\n    </tr>\n  </tbody>\n</table>\n<p>82616 rows × 3 columns</p>\n</div>"
     },
     "execution_count": 11,
     "metadata": {},
     "output_type": "execute_result"
    }
   ],
   "source": [
    "nati = pd.read_csv(\"lai-data/nationality.csv\")\n",
    "nati"
   ],
   "metadata": {
    "collapsed": false,
    "ExecuteTime": {
     "end_time": "2023-12-07T15:47:37.774024782Z",
     "start_time": "2023-12-07T15:47:24.771262289Z"
    }
   },
   "id": "48ab2e214f540976"
  },
  {
   "cell_type": "code",
   "execution_count": 3,
   "outputs": [
    {
     "data": {
      "text/plain": "         auhtor_ID                                               post  \\\n0      t2_7ramzeng  You can \"buy\" the show and stream it through t...   \n1      t2_7ramzeng  me want to play Q*bert Holy shit, based Alex J...   \n2      t2_7ramzeng  Shouldn't rely on any external services or per...   \n3      t2_7ramzeng  PR to a specific person. Usually that just mea...   \n4      t2_7ramzeng  This article's intention is clear that they wa...   \n...            ...                                                ...   \n57226  t2_4ngvl16j  a good one? That's odd. I remember it as being...   \n57227  t2_4ngvl16j  boring shit in the fucking world. \"History doe...   \n57228  t2_4ngvl16j  you see no contradiction there? Why or why not...   \n57229  t2_4ngvl16j  is only created by an incommensurate worldview...   \n57230  t2_4ngvl16j  cursing at me. Thanks for confirming you haven...   \n\n      political_leaning  \n0                 right  \n1                 right  \n2                 right  \n3                 right  \n4                 right  \n...                 ...  \n57226            center  \n57227            center  \n57228            center  \n57229            center  \n57230            center  \n\n[57231 rows x 3 columns]",
      "text/html": "<div>\n<style scoped>\n    .dataframe tbody tr th:only-of-type {\n        vertical-align: middle;\n    }\n\n    .dataframe tbody tr th {\n        vertical-align: top;\n    }\n\n    .dataframe thead th {\n        text-align: right;\n    }\n</style>\n<table border=\"1\" class=\"dataframe\">\n  <thead>\n    <tr style=\"text-align: right;\">\n      <th></th>\n      <th>auhtor_ID</th>\n      <th>post</th>\n      <th>political_leaning</th>\n    </tr>\n  </thead>\n  <tbody>\n    <tr>\n      <th>0</th>\n      <td>t2_7ramzeng</td>\n      <td>You can \"buy\" the show and stream it through t...</td>\n      <td>right</td>\n    </tr>\n    <tr>\n      <th>1</th>\n      <td>t2_7ramzeng</td>\n      <td>me want to play Q*bert Holy shit, based Alex J...</td>\n      <td>right</td>\n    </tr>\n    <tr>\n      <th>2</th>\n      <td>t2_7ramzeng</td>\n      <td>Shouldn't rely on any external services or per...</td>\n      <td>right</td>\n    </tr>\n    <tr>\n      <th>3</th>\n      <td>t2_7ramzeng</td>\n      <td>PR to a specific person. Usually that just mea...</td>\n      <td>right</td>\n    </tr>\n    <tr>\n      <th>4</th>\n      <td>t2_7ramzeng</td>\n      <td>This article's intention is clear that they wa...</td>\n      <td>right</td>\n    </tr>\n    <tr>\n      <th>...</th>\n      <td>...</td>\n      <td>...</td>\n      <td>...</td>\n    </tr>\n    <tr>\n      <th>57226</th>\n      <td>t2_4ngvl16j</td>\n      <td>a good one? That's odd. I remember it as being...</td>\n      <td>center</td>\n    </tr>\n    <tr>\n      <th>57227</th>\n      <td>t2_4ngvl16j</td>\n      <td>boring shit in the fucking world. \"History doe...</td>\n      <td>center</td>\n    </tr>\n    <tr>\n      <th>57228</th>\n      <td>t2_4ngvl16j</td>\n      <td>you see no contradiction there? Why or why not...</td>\n      <td>center</td>\n    </tr>\n    <tr>\n      <th>57229</th>\n      <td>t2_4ngvl16j</td>\n      <td>is only created by an incommensurate worldview...</td>\n      <td>center</td>\n    </tr>\n    <tr>\n      <th>57230</th>\n      <td>t2_4ngvl16j</td>\n      <td>cursing at me. Thanks for confirming you haven...</td>\n      <td>center</td>\n    </tr>\n  </tbody>\n</table>\n<p>57231 rows × 3 columns</p>\n</div>"
     },
     "execution_count": 3,
     "metadata": {},
     "output_type": "execute_result"
    }
   ],
   "source": [
    "poli = pd.read_csv(\"lai-data/political_leaning.csv\")\n",
    "poli"
   ],
   "metadata": {
    "collapsed": false,
    "ExecuteTime": {
     "end_time": "2023-12-07T15:37:12.923695802Z",
     "start_time": "2023-12-07T15:37:02.754100331Z"
    }
   },
   "id": "1840582f4b453b1d"
  },
  {
   "cell_type": "code",
   "execution_count": 12,
   "outputs": [
    {
     "data": {
      "text/plain": "         auhtor_ID                                               post  sensing\n0        t2_171z9h  Pitchforks, couches, and molotovs here! Git ye...        1\n1        t2_171z9h  to manage avoiding that one I can really only ...        1\n2        t2_171z9h  a bowl live for the first time. Just want a go...        1\n3        t2_171z9h  thread is giving me cancer but I know I won't ...        1\n4        t2_171z9h  Xavier White Game of his life \"Ugh, the right ...        1\n...            ...                                                ...      ...\n41834  t2_65xmisf7  expanded Medicaid and affordable care act subs...        0\n41835  t2_65xmisf7  are important to them. Their kids or partners ...        0\n41836  t2_65xmisf7  case. Psychiatric researchers like Gabòr Máte ...        0\n41837  t2_65xmisf7  more and more complex, not less. Some parents ...        0\n41838  t2_65xmisf7  because they have been so thoroughly colonized...        0\n\n[41839 rows x 3 columns]",
      "text/html": "<div>\n<style scoped>\n    .dataframe tbody tr th:only-of-type {\n        vertical-align: middle;\n    }\n\n    .dataframe tbody tr th {\n        vertical-align: top;\n    }\n\n    .dataframe thead th {\n        text-align: right;\n    }\n</style>\n<table border=\"1\" class=\"dataframe\">\n  <thead>\n    <tr style=\"text-align: right;\">\n      <th></th>\n      <th>auhtor_ID</th>\n      <th>post</th>\n      <th>sensing</th>\n    </tr>\n  </thead>\n  <tbody>\n    <tr>\n      <th>0</th>\n      <td>t2_171z9h</td>\n      <td>Pitchforks, couches, and molotovs here! Git ye...</td>\n      <td>1</td>\n    </tr>\n    <tr>\n      <th>1</th>\n      <td>t2_171z9h</td>\n      <td>to manage avoiding that one I can really only ...</td>\n      <td>1</td>\n    </tr>\n    <tr>\n      <th>2</th>\n      <td>t2_171z9h</td>\n      <td>a bowl live for the first time. Just want a go...</td>\n      <td>1</td>\n    </tr>\n    <tr>\n      <th>3</th>\n      <td>t2_171z9h</td>\n      <td>thread is giving me cancer but I know I won't ...</td>\n      <td>1</td>\n    </tr>\n    <tr>\n      <th>4</th>\n      <td>t2_171z9h</td>\n      <td>Xavier White Game of his life \"Ugh, the right ...</td>\n      <td>1</td>\n    </tr>\n    <tr>\n      <th>...</th>\n      <td>...</td>\n      <td>...</td>\n      <td>...</td>\n    </tr>\n    <tr>\n      <th>41834</th>\n      <td>t2_65xmisf7</td>\n      <td>expanded Medicaid and affordable care act subs...</td>\n      <td>0</td>\n    </tr>\n    <tr>\n      <th>41835</th>\n      <td>t2_65xmisf7</td>\n      <td>are important to them. Their kids or partners ...</td>\n      <td>0</td>\n    </tr>\n    <tr>\n      <th>41836</th>\n      <td>t2_65xmisf7</td>\n      <td>case. Psychiatric researchers like Gabòr Máte ...</td>\n      <td>0</td>\n    </tr>\n    <tr>\n      <th>41837</th>\n      <td>t2_65xmisf7</td>\n      <td>more and more complex, not less. Some parents ...</td>\n      <td>0</td>\n    </tr>\n    <tr>\n      <th>41838</th>\n      <td>t2_65xmisf7</td>\n      <td>because they have been so thoroughly colonized...</td>\n      <td>0</td>\n    </tr>\n  </tbody>\n</table>\n<p>41839 rows × 3 columns</p>\n</div>"
     },
     "execution_count": 12,
     "metadata": {},
     "output_type": "execute_result"
    }
   ],
   "source": [
    "sense = pd.read_csv(\"lai-data/sensing_intuitive.csv\")\n",
    "sense"
   ],
   "metadata": {
    "collapsed": false,
    "ExecuteTime": {
     "end_time": "2023-12-07T15:47:45.089246465Z",
     "start_time": "2023-12-07T15:47:37.780981334Z"
    }
   },
   "id": "4f576de8a6a492a2"
  },
  {
   "cell_type": "code",
   "execution_count": 12,
   "outputs": [
    {
     "data": {
      "text/plain": "[]"
     },
     "execution_count": 12,
     "metadata": {},
     "output_type": "execute_result"
    }
   ],
   "source": [
    "# Assuming 'auhtor_ID' is the correct column name in all DataFrames\n",
    "common_ids = set(poli['auhtor_ID']).intersection(\n",
    "    birth_year['auhtor_ID'], nati['auhtor_ID'], gender['auhtor_ID']\n",
    ")\n",
    "\n",
    "# Convert the set of common IDs back to a list if needed\n",
    "common_ids_list = list(common_ids)\n",
    "\n",
    "common_ids_list"
   ],
   "metadata": {
    "collapsed": false,
    "ExecuteTime": {
     "end_time": "2023-12-06T16:59:19.500058745Z",
     "start_time": "2023-12-06T16:59:19.441830449Z"
    }
   },
   "id": "2e2038a8332d37a"
  },
  {
   "cell_type": "code",
   "execution_count": 13,
   "outputs": [
    {
     "data": {
      "text/plain": "['t2_ykhpn', 't2_1l4ajkzp']"
     },
     "execution_count": 13,
     "metadata": {},
     "output_type": "execute_result"
    }
   ],
   "source": [
    "list(set(poli['auhtor_ID']).intersection(birth_year['auhtor_ID']))"
   ],
   "metadata": {
    "collapsed": false,
    "ExecuteTime": {
     "end_time": "2023-12-06T17:01:30.089227157Z",
     "start_time": "2023-12-06T17:01:30.046722090Z"
    }
   },
   "id": "6326447a50b334dc"
  },
  {
   "cell_type": "code",
   "execution_count": 14,
   "outputs": [
    {
     "data": {
      "text/plain": "['t2_dinct', 't2_1mav52', 't2_it2r3', 't2_5j4jceoa', 't2_12yrq8']"
     },
     "execution_count": 14,
     "metadata": {},
     "output_type": "execute_result"
    }
   ],
   "source": [
    "list(set(nati['auhtor_ID']).intersection(birth_year['auhtor_ID']))"
   ],
   "metadata": {
    "collapsed": false,
    "ExecuteTime": {
     "end_time": "2023-12-06T17:02:04.440145373Z",
     "start_time": "2023-12-06T17:02:04.428225708Z"
    }
   },
   "id": "72b663113ca3318b"
  },
  {
   "cell_type": "code",
   "execution_count": 15,
   "outputs": [
    {
     "data": {
      "text/plain": "['t2_gea856yu',\n 't2_5tm2399g',\n 't2_8qgp167h',\n 't2_m63tz1sg',\n 't2_cjfg48z',\n 't2_3jyliggy',\n 't2_4efz7615',\n 't2_24fnn73t',\n 't2_1agxrsxx',\n 't2_iatub4bm',\n 't2_5tibfxhu',\n 't2_hu73wdyr',\n 't2_16jn1a',\n 't2_ma530e65',\n 't2_119smz',\n 't2_hu6coo5z',\n 't2_d3yy771',\n 't2_16p9se',\n 't2_psd57',\n 't2_1b0qrjbh',\n 't2_3jitg4f7',\n 't2_fjjzfdh5',\n 't2_ea9vruxu',\n 't2_4razq4g5',\n 't2_pwl7ea',\n 't2_my0hfjb',\n 't2_5v85q5ie',\n 't2_9dkm6hql',\n 't2_42o5x5pf',\n 't2_lzx3x',\n 't2_886xyp4c',\n 't2_rj3thuan',\n 't2_gr0ebr9s',\n 't2_k11siqaz',\n 't2_pq34z9v0',\n 't2_16vbn9',\n 't2_d40jyakd',\n 't2_3jgwfj63',\n 't2_9a3sfm9r',\n 't2_4q2ne',\n 't2_5i8mu',\n 't2_jemewjoe',\n 't2_jaitiseu',\n 't2_53xsi6xi',\n 't2_29ftvso1',\n 't2_dqpyr0q',\n 't2_kvs0fdjm',\n 't2_nu5x1d33',\n 't2_gjs7ts85',\n 't2_4r27jum7',\n 't2_34hrn7k6',\n 't2_zflz1',\n 't2_49and7dm',\n 't2_51lyrwdz',\n 't2_dtmbgm6w',\n 't2_uoqq1qm8',\n 't2_5ujseot0',\n 't2_9bm23n6y',\n 't2_11b6ob',\n 't2_9ujyd5la',\n 't2_8mhppeyq',\n 't2_dw5ei',\n 't2_rie4u86w',\n 't2_hojsezz3',\n 't2_cp9s9yef',\n 't2_f9wju',\n 't2_738laae5',\n 't2_zd34b',\n 't2_8wyqkqsu',\n 't2_4kqv0odo',\n 't2_104p6j',\n 't2_qsshvu7b',\n 't2_64s9usu9',\n 't2_4djzd38u',\n 't2_8vvn71s8',\n 't2_rtmqttsn',\n 't2_99dbw0fd',\n 't2_a7fs70f5',\n 't2_h5p54',\n 't2_pesgjxlx',\n 't2_37k33gj',\n 't2_8ngz8ng6',\n 't2_sbaqqao4',\n 't2_h4h35yob',\n 't2_y4rpv',\n 't2_1bgmt90y',\n 't2_aa8ba8t0',\n 't2_6ufcx',\n 't2_rr65brjl',\n 't2_ig6nv',\n 't2_3xm88txi',\n 't2_cgkbcnt8',\n 't2_7ajim',\n 't2_9ldqwky3',\n 't2_8x7s9',\n 't2_89x2cezy',\n 't2_cgoktdqk',\n 't2_80eb05gl',\n 't2_r7ih5',\n 't2_1t7r5erh',\n 't2_iz513fw',\n 't2_86d8v',\n 't2_14ysei',\n 't2_o9d3s',\n 't2_14y8wg',\n 't2_k60fcrmy',\n 't2_9s1q9hda',\n 't2_3woj4k6s',\n 't2_dntzl42u',\n 't2_4nzkt',\n 't2_hpwpt',\n 't2_12jyah2',\n 't2_ddiftka1',\n 't2_9t4hc15n',\n 't2_5t9fmdy7',\n 't2_hi97xkvy',\n 't2_4omh9p9x',\n 't2_rta5w35p',\n 't2_2lw5libh',\n 't2_m41kh',\n 't2_d6ae3e68',\n 't2_8hp573j2',\n 't2_3h3t0mb',\n 't2_eq74k2cz',\n 't2_nw7fdtw',\n 't2_7dovn',\n 't2_lwauwg6',\n 't2_90jqeew0',\n 't2_8cqhgi15',\n 't2_6whxxs8q',\n 't2_bghqwzju',\n 't2_1adg3x9g',\n 't2_ec154dkp',\n 't2_1b2xgc1n',\n 't2_t5z3k2kn',\n 't2_xvm9r',\n 't2_l9rry',\n 't2_e3077co4',\n 't2_7vp9fnse',\n 't2_4b1wk2b7',\n 't2_zpsuz',\n 't2_vr1f72b',\n 't2_37o53xk',\n 't2_a853oei0',\n 't2_zpu7j',\n 't2_oo3beed',\n 't2_f0bpj',\n 't2_ixxtydkt',\n 't2_5gweo7o6',\n 't2_mmphgzzb',\n 't2_163t9ds8',\n 't2_c2p5v',\n 't2_48fvs3t0',\n 't2_138ng7',\n 't2_69a3tv6c',\n 't2_9g69t32f',\n 't2_cbm6p358',\n 't2_4y8eb22',\n 't2_tulrlsit',\n 't2_m2015',\n 't2_ji17hmac',\n 't2_c4xl26dl',\n 't2_3ktdvqvm',\n 't2_dm2fxtse',\n 't2_40g8jm1g',\n 't2_nbjbu00b',\n 't2_hty3n2jx',\n 't2_begn60fy',\n 't2_27zxo0dr',\n 't2_1shnuvgp',\n 't2_83cdjsp9',\n 't2_8d212lsg',\n 't2_g7pgenii',\n 't2_8ie4xb1k',\n 't2_136l1j',\n 't2_7cbkqp9o',\n 't2_9wo3xgap',\n 't2_m2br0wfe',\n 't2_142p8cxe',\n 't2_61wol86',\n 't2_13uvgx',\n 't2_8hpdsfkt',\n 't2_5nblv1m',\n 't2_cx4pryt0',\n 't2_5jj5obep',\n 't2_u1ifz',\n 't2_8jn27i9u',\n 't2_qggcmp96',\n 't2_9ohh7l3z',\n 't2_gz5kq79d',\n 't2_ou58xwf9',\n 't2_ysfbbx5',\n 't2_91j9ozo1',\n 't2_ulswz',\n 't2_42le5xjk',\n 't2_k9066',\n 't2_7s8lvem6',\n 't2_pqvx5prd',\n 't2_4dqimnmr',\n 't2_3reuk76r',\n 't2_1ndugel',\n 't2_brb3i',\n 't2_qvk8d660',\n 't2_qp3196vv',\n 't2_hvtniiae',\n 't2_p92i20o8',\n 't2_3qkwdokq',\n 't2_d7rko',\n 't2_352idux8',\n 't2_9bzg454o',\n 't2_42mc2gfu',\n 't2_a9x55',\n 't2_54o3qs9y',\n 't2_5c611xwi',\n 't2_esioz0uv',\n 't2_6e2ktsbw',\n 't2_olasib1c',\n 't2_5b9oj',\n 't2_a3wb2ou9',\n 't2_d221c722',\n 't2_if688',\n 't2_irbfd',\n 't2_wqd6l',\n 't2_e1i3td7l',\n 't2_ado5er4k',\n 't2_gmwgi13m',\n 't2_ehekaimu',\n 't2_nvg5g112',\n 't2_1octcfb',\n 't2_wrgn8',\n 't2_7f9u14ax',\n 't2_en3boe8k',\n 't2_j98u9ueq',\n 't2_4ih9e8v5',\n 't2_czsxq9eg',\n 't2_124g0f',\n 't2_3dpwl2iv',\n 't2_rexha4t4',\n 't2_6gibkdr3',\n 't2_5mf2kufr',\n 't2_13ub2x',\n 't2_e79tz6kk',\n 't2_ut3fp03x',\n 't2_8081iii6',\n 't2_nwj55',\n 't2_qjnrc',\n 't2_k2blkcke',\n 't2_8yx4r7d2',\n 't2_2f1a4w0i',\n 't2_b5hlq',\n 't2_9jr58kx4',\n 't2_a5dpykxl',\n 't2_8lyonkuk',\n 't2_bjw2hclk',\n 't2_9tp5gcb3',\n 't2_usonij4p',\n 't2_1vconjri',\n 't2_2og5jmvi',\n 't2_2bpdz260',\n 't2_pnq5f70a',\n 't2_abuzbd59',\n 't2_86onc5qe',\n 't2_3hk2g3p1',\n 't2_3opgjj5t',\n 't2_34tsr2s1',\n 't2_anm59i0x',\n 't2_c3tp0hkz',\n 't2_ruvyh',\n 't2_gviut4p',\n 't2_ijfjg5qy',\n 't2_11ldsb',\n 't2_dte7dcyl',\n 't2_jqfvtws5',\n 't2_b7xb3gd5',\n 't2_s19qb0c3',\n 't2_3cpwmzzl',\n 't2_1a8grufo',\n 't2_9qmmkm7e',\n 't2_3ee87c4o',\n 't2_al6e56rm',\n 't2_44sj1cnd',\n 't2_4jh4ouw8',\n 't2_37gtk9f7',\n 't2_1utxpdv8',\n 't2_8ch7j373',\n 't2_9k75x',\n 't2_3kfx7hqu',\n 't2_2makvm0r',\n 't2_1tjx7i9s',\n 't2_31wi6r5j',\n 't2_27vfx0jm',\n 't2_7x7wa2nu',\n 't2_1vwpaxur',\n 't2_5re7f00r',\n 't2_3kmsr1bg',\n 't2_rtxidk5c',\n 't2_900qlw4f',\n 't2_eim9m0z3',\n 't2_cnc2nugh',\n 't2_6fwy6qln',\n 't2_dtae6sep',\n 't2_5e1d1a91',\n 't2_ical4g0z',\n 't2_4yxf5hwu',\n 't2_6ht5h',\n 't2_f4uhuu50',\n 't2_o3m32r3',\n 't2_7qflnqq',\n 't2_qkgigoqn',\n 't2_1560jp',\n 't2_4dtdxfzd',\n 't2_jmzou',\n 't2_2add2nqw',\n 't2_3dkq3inu',\n 't2_ekxph66a',\n 't2_s4l56',\n 't2_ppg6tjpa',\n 't2_fuieuz8',\n 't2_5ft8vdw8',\n 't2_7q3jilst',\n 't2_am4lnbrc',\n 't2_7d2j8p7c',\n 't2_12k80t',\n 't2_mo7f89a2',\n 't2_qok4ozr',\n 't2_2uah1rqw',\n 't2_c3xdl5e0',\n 't2_dp14gmr2',\n 't2_dk93mx82',\n 't2_4t2z146k',\n 't2_7ya2rlj6',\n 't2_a0quhmuu',\n 't2_15ee5x',\n 't2_o5l0fgw0',\n 't2_cktrfoui',\n 't2_118btr',\n 't2_178ww2',\n 't2_avjv152k',\n 't2_7bxhrlp6',\n 't2_69no3c4v',\n 't2_6inxi1bv',\n 't2_2v9ei4k',\n 't2_12yrq8',\n 't2_elkgvlp0',\n 't2_4s0imij7',\n 't2_1xnvgxmz',\n 't2_14vcyy',\n 't2_i5f0vh42',\n 't2_byv7ucjr',\n 't2_13nk6a',\n 't2_9h4hpl1l',\n 't2_aal3gm5',\n 't2_168o9d',\n 't2_ecjq1vsc',\n 't2_ax2uadsd',\n 't2_3ykepxl5',\n 't2_9nl0hda3',\n 't2_qebhzqdk',\n 't2_32t2vo73',\n 't2_kv05uv6j',\n 't2_51ml42fk',\n 't2_8u5bkfo1',\n 't2_hs95ynwh',\n 't2_czsul8x1',\n 't2_35tnoo4x',\n 't2_12c56m',\n 't2_2xlsfvhr',\n 't2_aezru9cg',\n 't2_2cs0cdd',\n 't2_tw53t19n',\n 't2_ghpb7oi',\n 't2_9fhvhe69',\n 't2_sqk2a',\n 't2_gyf0puib',\n 't2_30ay5dqy',\n 't2_eampgs6s',\n 't2_63asfobu',\n 't2_4go53orj',\n 't2_7u11pkyn',\n 't2_8qiuygec',\n 't2_1f3ujea7',\n 't2_78ext',\n 't2_5rwtqfnl',\n 't2_9d69y',\n 't2_uue13',\n 't2_4w8kv6st',\n 't2_ntwzw',\n 't2_ettwpzci',\n 't2_1ls8os5',\n 't2_s80kydm4',\n 't2_tywn0dh',\n 't2_3riafyqx',\n 't2_q8sqmw9c',\n 't2_20oc7f94',\n 't2_q4sbv68t',\n 't2_6g3q33b4',\n 't2_ihf1x4dv',\n 't2_gbbzctgg',\n 't2_2ki9bzm4',\n 't2_19kdzjxt',\n 't2_ch5qx55n',\n 't2_2k2pi9aj',\n 't2_5fb8zn1n',\n 't2_19rzlr3d',\n 't2_knc84i43',\n 't2_dbtt4',\n 't2_442t15zg',\n 't2_tyhwo4v',\n 't2_a4errskg',\n 't2_scx3ptuo',\n 't2_dl6iifp3',\n 't2_cijyi',\n 't2_2zjyn3q2',\n 't2_4cimoa07',\n 't2_l9bj5ru',\n 't2_5uhv69wn',\n 't2_36o9afz1',\n 't2_8a0fmb6',\n 't2_3kykl8bx',\n 't2_im3p8abb',\n 't2_gw750nu',\n 't2_4i2kwbet',\n 't2_3cjqp35e',\n 't2_kymt00a',\n 't2_16dxr788',\n 't2_67t1h1pf',\n 't2_amp34',\n 't2_5f1yx',\n 't2_9pueatgk',\n 't2_6egvda82',\n 't2_dhk91t8t',\n 't2_69vmz3xg',\n 't2_9eud8jlg',\n 't2_eny58k0t',\n 't2_99lzlmwz',\n 't2_sgrp9',\n 't2_3sxkvn1v',\n 't2_cqh4rcyr',\n 't2_1jnszav1',\n 't2_pz5ln',\n 't2_qxke0',\n 't2_1264cv',\n 't2_huw3ikwz',\n 't2_93r0yczh',\n 't2_432ti8hl',\n 't2_3pid15q0',\n 't2_m0d5zl5u',\n 't2_5paqho4p',\n 't2_ledq2cr3',\n 't2_3u9vk5dm',\n 't2_6b1br2ce',\n 't2_e1f11yoa',\n 't2_byrpbxig',\n 't2_5wovk2x',\n 't2_h7pdsg66',\n 't2_7i58mpsh',\n 't2_2hecr0',\n 't2_c1vz6k3f',\n 't2_mdfxa',\n 't2_11b9s8',\n 't2_25k9s7oi',\n 't2_czxg1tam',\n 't2_35pdofgn',\n 't2_c715krq0',\n 't2_27dp3dh0',\n 't2_1314l1',\n 't2_6yjgoiso',\n 't2_draiqaap',\n 't2_102ysr',\n 't2_34vs6os',\n 't2_fx7u8043',\n 't2_mrxt7tn5',\n 't2_5m0f3526',\n 't2_10d9gj',\n 't2_ua1p6wjx',\n 't2_pmnfkt2r',\n 't2_gklhrzrb',\n 't2_ee685',\n 't2_9y8o45vs',\n 't2_sg526',\n 't2_g5l4toxh',\n 't2_39u557co',\n 't2_92dnf4ai',\n 't2_110swd',\n 't2_eiil9ckx',\n 't2_glblepr7',\n 't2_4jbb72eq',\n 't2_3mcaxgw1',\n 't2_a1xq3',\n 't2_2hauzrja',\n 't2_ad7takdb',\n 't2_9zo2wqhh',\n 't2_f8i9r3s2',\n 't2_5btn287x',\n 't2_686g3f73',\n 't2_7hf7l',\n 't2_2jm44fw7',\n 't2_19jcs7nl',\n 't2_8bbsvaob',\n 't2_oizvurqh',\n 't2_9mh52org',\n 't2_4x0mxxfd',\n 't2_sh4wtcol',\n 't2_74j6hrhu',\n 't2_svtuwyvw',\n 't2_5c96qef2',\n 't2_rcm5qq7s',\n 't2_adyjj',\n 't2_mgcq7',\n 't2_k7d4bs9c',\n 't2_git2wq06',\n 't2_d5zzvrcv',\n 't2_ijny4mfg',\n 't2_4osa3ojo',\n 't2_838oczfe',\n 't2_kc5s0',\n 't2_dbl50',\n 't2_ly3ev2r',\n 't2_kko5a3ba',\n 't2_edo98td9',\n 't2_97r4gtaj',\n 't2_s9jf8',\n 't2_u1l4k',\n 't2_8rh8m6ki',\n 't2_89xwz',\n 't2_ejfmve0t',\n 't2_1rd2ulu5',\n 't2_corlg1fw',\n 't2_cshgp',\n 't2_83l0pc4r',\n 't2_e6ous6j6',\n 't2_2dv6tqwj',\n 't2_rh8n8',\n 't2_ia1wl2g',\n 't2_c61owt9z',\n 't2_3rkv8eux',\n 't2_16xlczgz',\n 't2_ss6751nq',\n 't2_q9itm2gt',\n 't2_4jn7ec62',\n 't2_je7za',\n 't2_1u6ly9lg',\n 't2_117xps',\n 't2_6buo4b80',\n 't2_8ljdi5gw',\n 't2_ipffppy',\n 't2_7685lceh',\n 't2_f3kumgl7',\n 't2_16qw41',\n 't2_hvysl2wz',\n 't2_curgmk46',\n 't2_11ehmm6x',\n 't2_3a87x25d',\n 't2_73l6eals',\n 't2_s4v1ti0c',\n 't2_3v4s5h8s',\n 't2_5hl5i8fe',\n 't2_4nzwv2jf',\n 't2_t5x2czil',\n 't2_izh91zzt',\n 't2_8ow4bowp',\n 't2_60zvgddl',\n 't2_5ya712i2',\n 't2_16jtys',\n 't2_br12h6ki',\n 't2_fsw9cpou',\n 't2_5k98v1f5',\n 't2_6f0yy8v4',\n 't2_93bjv',\n 't2_iy2wow8r',\n 't2_cbid3deo',\n 't2_8cngzn61',\n 't2_lt967bwi',\n 't2_rnjzutp',\n 't2_bddkiw9m',\n 't2_mlzs1tc',\n 't2_1i8pot',\n 't2_g6mc43ob',\n 't2_31vsnkqg',\n 't2_hu7hzttr',\n 't2_aikaukqc',\n 't2_o0obj',\n 't2_hxq2wy2',\n 't2_3o52bq1d',\n 't2_ccoco89n',\n 't2_1eqicpgk',\n 't2_8j1b4dgl',\n 't2_bj1w3',\n 't2_deic1',\n 't2_1lha5kyc',\n 't2_jfzmvsk',\n 't2_2io0rh9',\n 't2_lnwlk826',\n 't2_x1zxi',\n 't2_ojn9kf4',\n 't2_iac45',\n 't2_7b1ibbmq',\n 't2_2v3c54na',\n 't2_21xd42gu',\n 't2_sbnhy5th',\n 't2_143cun',\n 't2_7758pi02',\n 't2_1mav52',\n 't2_13wrz3',\n 't2_pnhiljis',\n 't2_omhvwi3b',\n 't2_tn1ykqdf',\n 't2_gc3gtsm2',\n 't2_8e0zkgtu',\n 't2_9ob3vlcq',\n 't2_5l637ml0',\n 't2_56duis25',\n 't2_qcddgqzx',\n 't2_32n1i1p',\n 't2_hhorc',\n 't2_4bfs8dp3',\n 't2_5kl0tzbm',\n 't2_awal9njg',\n 't2_fwf2l0sf',\n 't2_3625lvvl',\n 't2_2s12uesc',\n 't2_r1ambjg',\n 't2_11emldr4',\n 't2_o80oi',\n 't2_3hhvvekn',\n 't2_504pwy7',\n 't2_8m36s',\n 't2_brip8',\n 't2_4o60f',\n 't2_qabpha6y',\n 't2_wn663',\n 't2_lawr02uf',\n 't2_ogp1hy80',\n 't2_33jcham',\n 't2_10hcd6dh',\n 't2_4duf77u6',\n 't2_lui1du2',\n 't2_3s99neh4',\n 't2_1zi0xlir',\n 't2_l965mbm',\n 't2_ej3esypv',\n 't2_6aqyn1ue',\n 't2_876zo42p',\n 't2_do27rrln',\n 't2_pxocwxu',\n 't2_dogytytk',\n 't2_2fjvhed3',\n 't2_39w1bnto',\n 't2_5bazlumt',\n 't2_3806xdj1',\n 't2_l35m7',\n 't2_77xkloof',\n 't2_7ub0q',\n 't2_dg16by2h',\n 't2_rc82i',\n 't2_crfin0xz',\n 't2_27uu3gtu',\n 't2_63vsg1lb',\n 't2_crg80d9a',\n 't2_9eltg72t',\n 't2_aknup',\n 't2_p2v4lji8',\n 't2_6167b83h',\n 't2_3mtph63k',\n 't2_30go9mrw',\n 't2_3qqyry0d',\n 't2_7lddqp0h',\n 't2_mew7piah',\n 't2_pxw7qh9i',\n 't2_11pelg',\n 't2_ea565wor',\n 't2_krjcku41',\n 't2_ngs29jur',\n 't2_5uxbh2ne',\n 't2_9bssv2ic',\n 't2_75xvf97f',\n 't2_8w2tqmqo',\n 't2_1y11ip6x',\n 't2_pobrls6t',\n 't2_7y3igkjz',\n 't2_qmx6lj7f',\n 't2_80jagbx7',\n 't2_pi6hl71i',\n 't2_jc3ecsiu',\n 't2_13q1tm',\n 't2_afsm3m9j',\n 't2_b3n8nnvb',\n 't2_dt0e2err',\n 't2_48e7fb44',\n 't2_61gaxug1',\n 't2_14fm82',\n 't2_z53b0',\n 't2_j3nqic4h',\n 't2_d36493ru',\n 't2_gkem4',\n 't2_kj6xhmnz',\n 't2_5kw802kb',\n 't2_lr5xp8u7',\n 't2_4bd23br6',\n 't2_8mp7tfz6',\n 't2_48btdk0w',\n 't2_5wqxl6gf',\n 't2_6aejfh4',\n 't2_kv19j0ip',\n 't2_cb2jml6x',\n 't2_57vrdvy4',\n 't2_2giufzgl',\n 't2_8hgp96dm',\n 't2_2t3lvzq1',\n 't2_4obm03vu',\n 't2_w5auxud',\n 't2_e22qxyx4',\n 't2_awrbf0dv',\n 't2_5jn8s',\n 't2_qxqggj58',\n 't2_8lgipep6',\n 't2_957q78sf',\n 't2_gerr37md',\n 't2_wf63e',\n 't2_a4vwqucp',\n 't2_9c1q51pj',\n 't2_4gxronqr',\n 't2_7egvaizv',\n 't2_q9hdqxis',\n 't2_10eafm',\n 't2_2cqeocsy',\n 't2_3tm4pgjq',\n 't2_n60u7',\n 't2_r5nz6uor',\n 't2_4tgoaix8',\n 't2_yrr5e',\n 't2_cz3ei88m',\n 't2_4vly8fg8',\n 't2_zhff3',\n 't2_cudwoyyb',\n 't2_ghnpjyl3',\n 't2_7qxc4xjl',\n 't2_ehi20r2e',\n 't2_7rz68oh3',\n 't2_943lgqcg',\n 't2_2w9r7xg7',\n 't2_10cfab',\n 't2_3px6f5xu',\n 't2_ii4dgopi',\n 't2_p4b34k1',\n 't2_1w0mhope',\n 't2_7f6jcdia',\n 't2_8terau8s',\n 't2_7gvh3la3',\n 't2_l6apb67z',\n 't2_3hhkhir',\n 't2_9v6260me',\n 't2_7xr8oybj',\n 't2_1qtkyt9n',\n 't2_t9ixezil',\n 't2_btk14jxt',\n 't2_x59d4',\n 't2_8kc9ndl8',\n 't2_84r0n82u',\n 't2_6lt6txag',\n 't2_3zn5l',\n 't2_96631pl7',\n 't2_mm8o2l5v',\n 't2_a281y8ip',\n 't2_n6o3xtnk',\n 't2_48ddf7ge',\n 't2_5cae1w6a',\n 't2_hanm0',\n 't2_iimqkima',\n 't2_ya6wd',\n 't2_m01nefng',\n 't2_mtrp45lp',\n 't2_jfm3h',\n 't2_i8eo8m1n',\n 't2_8fps6zp8',\n 't2_6yjp3tgf',\n 't2_ni0djx0w',\n 't2_tnqb0d1',\n 't2_3kohfur8',\n 't2_2qyd2gs1',\n 't2_s253ht44',\n 't2_pvk6rrq9',\n 't2_8669oyuu',\n 't2_fwz5v',\n 't2_78894lib',\n 't2_3q4h8rgy',\n 't2_b0yvtzng',\n 't2_8glhz8vz',\n 't2_8d8va9m8',\n 't2_72lxo7t3',\n 't2_2zen5x98',\n 't2_sbiyf51m',\n 't2_4jfmm9h6',\n 't2_h62ll',\n 't2_rnr6rs2k',\n 't2_54wzomth',\n 't2_apc9eh97',\n 't2_8shxjlew',\n 't2_5kmlxxvu',\n 't2_2zq2zd1w',\n 't2_3q8lwmqx',\n 't2_ahu91ybs',\n 't2_ed83d7az',\n 't2_c3n606y1',\n 't2_95p14g5c',\n 't2_2isispai',\n 't2_5qnbge9c',\n 't2_j4rdd02r',\n 't2_shkct',\n 't2_7doa8x0i',\n 't2_8ruobxw9',\n 't2_qw96a3p1',\n 't2_928yr9r',\n 't2_6fv7iulo',\n 't2_g5mmtmv9',\n 't2_2wv86plg',\n 't2_j3ff2jnr',\n 't2_ficzr5n1',\n 't2_38u7v55x',\n 't2_m6grtmkw',\n 't2_3rkd9',\n 't2_wcr5r',\n 't2_1ksvxy3n',\n 't2_dkhxp466',\n 't2_2subu3i3',\n 't2_ovg2b2mw',\n 't2_acnpl9by',\n 't2_40le5sbu',\n 't2_l95vlpwb',\n 't2_jzujh',\n 't2_7c04xv2t',\n 't2_cifrot2q',\n 't2_7ygh3arr',\n 't2_5pnk7vy',\n 't2_81m7zegi',\n 't2_hlx2s',\n 't2_6v4sj0o',\n 't2_ctqx5vz9',\n 't2_jogig',\n 't2_ikgb1nfx',\n 't2_5j4jceoa',\n 't2_6wospoxl',\n 't2_bl31ur52',\n 't2_4iat6y29',\n 't2_1oyf5abx',\n 't2_ibcqrju',\n 't2_63r11yqw',\n 't2_5287yyc',\n 't2_7o0nm8t0',\n 't2_stg2dui',\n 't2_bholo5va',\n 't2_2bz2tkwh',\n 't2_3aaufgse',\n 't2_q8g9jwb4',\n 't2_435yg',\n 't2_jakj0',\n 't2_53ixlgxa',\n 't2_16nl5b',\n 't2_7hdcbuaf',\n 't2_81j1cl24',\n 't2_ayq59wzn',\n 't2_26cfor1y',\n 't2_rynzk1wn',\n 't2_8lix2eyu',\n 't2_i2qujca0',\n 't2_iy6a1jzc',\n 't2_m9uyf4e1',\n 't2_4mfkbkp3',\n 't2_8y4wnop8',\n 't2_hgbdz',\n 't2_icde9du6',\n 't2_7r9srhap',\n 't2_a0shysmv',\n 't2_mxb4pap3',\n 't2_bbm17v8h',\n 't2_tb40n87z',\n 't2_4w7mvz89',\n 't2_a2dadch5',\n 't2_2h8bf7ra',\n 't2_9sm4icvn',\n 't2_bgk4uvg',\n 't2_d4r34',\n 't2_flnkbhhv',\n 't2_c6y2c',\n 't2_27v3jdf2',\n 't2_nty4r2xy',\n 't2_5i82y6cm',\n 't2_9di0shjh',\n 't2_ujjev96e',\n 't2_aa40k',\n 't2_2dg8vhn5',\n 't2_g41yurft',\n 't2_5v4rqck7',\n 't2_23ubwgmp',\n 't2_8bzr45qa',\n 't2_10k9lh',\n 't2_49edsykd',\n 't2_jsrtc7tq',\n 't2_3vgzkef',\n 't2_72f6bd7x',\n 't2_jswasrbo',\n 't2_1478bf',\n 't2_tsgo3',\n 't2_ikwnuhd',\n 't2_36yrtrz6',\n 't2_j2zasmvt',\n 't2_8ngrw8b9',\n 't2_6po7hh3n',\n 't2_7yhtpkc9',\n 't2_8cvft9ct',\n 't2_glvnhx5v',\n 't2_2fjarajo',\n 't2_brnzl',\n 't2_1swwa59a',\n 't2_ak784',\n 't2_7o0dlj46',\n 't2_mpo00',\n 't2_15asku2f',\n 't2_16gdtg',\n 't2_7lroztz8',\n 't2_stiv5v3e',\n 't2_3ybtitxf',\n 't2_tjqum',\n 't2_mu9y0',\n 't2_8nk3rkzi',\n 't2_38u3yuw7',\n 't2_t79yi',\n 't2_8ywj9dio',\n 't2_65fkiplr',\n 't2_ugd0di9r',\n 't2_w2ns6',\n 't2_sb1vk',\n 't2_3skae5vi',\n 't2_40w9wmp0',\n 't2_15wc2s',\n 't2_6c5791ko',\n 't2_11lb3u',\n 't2_1g9iqdnc',\n 't2_8zrigbg6',\n 't2_2r40rdy0',\n 't2_62v8gfty',\n 't2_ivjp2',\n 't2_fzfxfhfc',\n 't2_f27elx0n',\n 't2_l1oh6d8l',\n 't2_v3sosv5f',\n 't2_l83rzyj7',\n 't2_7wdhf7eb',\n 't2_4gio0zij',\n 't2_n4lrp8tn',\n 't2_dnwm1qn0',\n 't2_kiepd3i3',\n 't2_y5jc0',\n 't2_jt3rh8ip',\n 't2_iebkwg0p',\n 't2_7sphijr6',\n 't2_i01uiznk',\n 't2_8bdjbo5',\n 't2_1nzubsyf',\n 't2_c5gbjlfv',\n 't2_b59hqml3',\n 't2_1yj4si13',\n 't2_4oj1hf0p',\n 't2_7s5p8r2v',\n 't2_5v9ry63h',\n 't2_b3na6ww4',\n 't2_33jhjh24',\n 't2_4g4lm0x9',\n 't2_n3lytdp',\n 't2_drnox',\n 't2_3ny7dnxv',\n 't2_1joca9db',\n 't2_7l2bt',\n 't2_pup2j2p2']"
     },
     "execution_count": 15,
     "metadata": {},
     "output_type": "execute_result"
    }
   ],
   "source": [
    "list(set(gender['auhtor_ID']).intersection(birth_year['auhtor_ID']))"
   ],
   "metadata": {
    "collapsed": false,
    "ExecuteTime": {
     "end_time": "2023-12-06T17:02:26.922816097Z",
     "start_time": "2023-12-06T17:02:26.879303444Z"
    }
   },
   "id": "5b9eda49d8287e6d"
  },
  {
   "cell_type": "code",
   "execution_count": 16,
   "outputs": [
    {
     "data": {
      "text/plain": "974"
     },
     "execution_count": 16,
     "metadata": {},
     "output_type": "execute_result"
    }
   ],
   "source": [
    "len(list(set(gender['auhtor_ID']).intersection(birth_year['auhtor_ID'])))"
   ],
   "metadata": {
    "collapsed": false,
    "ExecuteTime": {
     "end_time": "2023-12-06T17:02:45.933634915Z",
     "start_time": "2023-12-06T17:02:45.914595376Z"
    }
   },
   "id": "b9b421592bb89e64"
  },
  {
   "cell_type": "code",
   "execution_count": 19,
   "outputs": [
    {
     "data": {
      "text/plain": "56"
     },
     "execution_count": 19,
     "metadata": {},
     "output_type": "execute_result"
    }
   ],
   "source": [
    "len(nati['nationality'].unique())"
   ],
   "metadata": {
    "collapsed": false,
    "ExecuteTime": {
     "end_time": "2023-12-06T17:06:02.120168677Z",
     "start_time": "2023-12-06T17:06:02.082177011Z"
    }
   },
   "id": "a81dd3ba7a53397d"
  },
  {
   "cell_type": "code",
   "execution_count": 13,
   "outputs": [
    {
     "data": {
      "text/plain": "female\n0    23777\n1    20858\nName: count, dtype: int64"
     },
     "execution_count": 13,
     "metadata": {},
     "output_type": "execute_result"
    }
   ],
   "source": [
    "gender['female'].value_counts()"
   ],
   "metadata": {
    "collapsed": false,
    "ExecuteTime": {
     "end_time": "2023-12-07T15:47:45.107978608Z",
     "start_time": "2023-12-07T15:47:45.094880074Z"
    }
   },
   "id": "e185cd04fc78bd8a"
  },
  {
   "cell_type": "code",
   "execution_count": 14,
   "outputs": [
    {
     "data": {
      "text/plain": "political_leaning\ncenter    25201\nright     17454\nleft      14576\nName: count, dtype: int64"
     },
     "execution_count": 14,
     "metadata": {},
     "output_type": "execute_result"
    }
   ],
   "source": [
    "poli['political_leaning'].value_counts()"
   ],
   "metadata": {
    "collapsed": false,
    "ExecuteTime": {
     "end_time": "2023-12-07T15:49:02.268035775Z",
     "start_time": "2023-12-07T15:49:02.214858246Z"
    }
   },
   "id": "983f2f2501cf5f1c"
  },
  {
   "cell_type": "code",
   "execution_count": 21,
   "outputs": [
    {
     "data": {
      "text/plain": "nationality\nGermany                   12838\nUnited Kingdom             7861\nUSA                        7646\nThe Netherlands            6905\nSweden                     3364\nFinland                    3262\nPoland                     3031\nFrance                     2869\nItaly                      2644\nSpain                      2441\nIreland                    2328\nBelgium                    2284\nRomania                    2018\nDenmark                    1960\nNorway                     1801\nCzech Republic             1490\nPortugal                   1379\nGreece                     1247\nAustria                    1213\nCanada                     1203\nSlovenia                   1191\nHungary                    1188\nTurkey                     1160\nRussia                     1134\nCroatia                    1063\nSwitzerland                1028\nUkraine                     843\nBulgaria                    669\nEstonia                     647\nLithuania                   588\nSerbia                      468\nCyprus                      438\nSlovakia                    349\nLuxembourg                  324\nIceland                     280\nAustralia                   213\nAlbania                     204\nMexico                      168\nKosovo                      166\nBosnia and Herzegovina      119\nGeorgia                      88\nMalta                        86\nIsrael                       80\nArmenia                      70\nGreenland                    64\nBrazil                       49\nAzerbaijan                   34\nArgentina                    31\nNorth Macedonia              30\nIran                         21\nMoldova                      13\nPhilippines                   7\nMontenegro                    6\nJapan                         5\nKazakhstan                    4\nChili                         4\nName: count, dtype: int64"
     },
     "execution_count": 21,
     "metadata": {},
     "output_type": "execute_result"
    }
   ],
   "source": [
    "nati['nationality'].value_counts()"
   ],
   "metadata": {
    "collapsed": false,
    "ExecuteTime": {
     "end_time": "2023-12-06T17:15:37.895392934Z",
     "start_time": "2023-12-06T17:15:37.834810927Z"
    }
   },
   "id": "a341366f389a03fd"
  }
 ],
 "metadata": {
  "kernelspec": {
   "display_name": "Python 3",
   "language": "python",
   "name": "python3"
  },
  "language_info": {
   "codemirror_mode": {
    "name": "ipython",
    "version": 2
   },
   "file_extension": ".py",
   "mimetype": "text/x-python",
   "name": "python",
   "nbconvert_exporter": "python",
   "pygments_lexer": "ipython2",
   "version": "2.7.6"
  }
 },
 "nbformat": 4,
 "nbformat_minor": 5
}
