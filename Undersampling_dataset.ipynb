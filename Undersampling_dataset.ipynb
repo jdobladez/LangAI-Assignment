{
 "cells": [
  {
   "cell_type": "markdown",
   "source": [
    "# Imports"
   ],
   "metadata": {
    "collapsed": false,
    "pycharm": {
     "name": "#%% md\n"
    }
   }
  },
  {
   "cell_type": "code",
   "execution_count": 3,
   "outputs": [],
   "source": [
    "import pandas as pd\n",
    "import random\n",
    "from sklearn.utils import resample"
   ],
   "metadata": {
    "collapsed": false,
    "pycharm": {
     "name": "#%%\n"
    }
   }
  },
  {
   "cell_type": "code",
   "execution_count": 4,
   "outputs": [
    {
     "data": {
      "text/plain": "         auhtor_ID                                               post   \n3962   t2_ffcfiueh  course people look hyperbolic one racism bad e...  \\\n11339     t2_lfs48  police drag foot it/come different conclusion ...   \n16545     t2_zcj4y  nice curves. really pretty. maybe i'm 'oldscho...   \n56979  t2_2xpu7n1c  action try manufacture result make “good” tv. ...   \n57796     t2_3edl7  location, altitude, speed, direction every dji...   \n...            ...                                                ...   \n68254  t2_8hacr7if  raid vitro facilities. good hunt! mean governm...   \n68255  t2_8hacr7if  homemade one kill people already multiple poli...   \n68256  t2_8hacr7if  head. look like imperialism back menu boys! go...   \n68257  t2_8hacr7if  purgatory. wil help soul get heaven quicker kn...   \n68258  t2_8hacr7if  claim talking asshole? lubeck libeck. cant eve...   \n\n           nationality    Poles   \n3962            Norway  Western  \\\n11339          Germany  Western   \n16545  The Netherlands  Western   \n56979   United Kingdom  Western   \n57796          Germany  Western   \n...                ...      ...   \n68254           Poland  Eastern   \n68255           Poland  Eastern   \n68256           Poland  Eastern   \n68257           Poland  Eastern   \n68258           Poland  Eastern   \n\n                                                  tokens   \n3962   ['[\"[\\'course\\',\",', '\"\\'people\\',\",', '\"\\'loo...  \\\n11339  ['[\"[\\'police\\',\",', '\"\\'drag\\',\",', '\"\\'foot\\...   \n16545  ['[\"[\\'nice\\',\",', '\"\\'curves\\',\",', '\"\\'.\\',\"...   \n56979  ['[\"[\\'action\\',\",', '\"\\'try\\',\",', '\"\\'manufa...   \n57796  ['[\"[\\'location\\',\",', '\"\\',\\',\",', '\"\\'altitu...   \n...                                                  ...   \n68254  ['[\"[\\'raid\\',\",', '\"\\'vitro\\',\",', '\"\\'facili...   \n68255  ['[\"[\\'homemade\\',\",', '\"\\'one\\',\",', '\"\\'kill...   \n68256  ['[\"[\\'head\\',\",', '\"\\'.\\',\",', '\"\\'look\\',\",'...   \n68257  ['[\"[\\'purgatory\\',\",', '\"\\'.\\',\",', '\"\\'wil\\'...   \n68258  ['[\"[\\'claim\\',\",', '\"\\'talking\\',\",', '\"\\'ass...   \n\n                                              eng_tokens  average_word_length   \n3962   [\"'course'\", \"'people'\", \"'look'\", \"'hyperboli...             5.481442  \\\n11339  [\"'police'\", \"'drag'\", \"'foot'\", \"'it'\", \"'com...             6.285714   \n16545  [\"'nice'\", \"'really'\", \"'pretty'\", \"'maybe'\", ...             5.580460   \n56979  [\"'action'\", \"'try'\", \"'manufacture'\", \"'resul...             5.481297   \n57796  [\"'location'\", \"'altitude'\", \"'speed'\", \"'dire...             5.916865   \n...                                                  ...                  ...   \n68254  [\"'raid'\", \"'good'\", \"'hunt'\", \"'mean'\", \"'gov...             5.697468   \n68255  [\"'homemade'\", \"'one'\", \"'kill'\", \"'people'\", ...             5.790725   \n68256  [\"'head'\", \"'look'\", \"'like'\", \"'imperialism'\"...             5.671835   \n68257  [\"'purgatory'\", \"'help'\", \"'soul'\", \"'get'\", \"...             5.748459   \n68258  [\"'claim'\", \"'talking'\", \"'ca'\", \"'even'\", \"'e...             5.859155   \n\n       avg_sentence_length       ttr   \n3962             66.164835  0.707317  \\\n11339            85.014925  0.718078   \n16545            34.134969  0.747126   \n56979            75.441176  0.640898   \n57796            60.968085  0.719715   \n...                    ...       ...   \n68254            49.875000  0.683544   \n68255            50.450450  0.744352   \n68256            47.716981  0.700258   \n68257            47.866071  0.704069   \n68258            46.161290  0.892019   \n\n                                                     ner    norm_.    norm_,   \n3962   [('one', 'CARDINAL'), ('bkb', 'ORG'), ('hundre...  0.091198  0.047720  \\\n11339  [('anmeldung', 'GPE'), ('berlin', 'GPE'), ('fi...  0.113780  0.078382   \n16545  [('lootboxes', 'NORP'), ('1', 'CARDINAL'), (\"1...  0.174713  0.065517   \n56979  [('lewis', 'PERSON'), ('max', 'PERSON'), ('max...  0.073566  0.112219   \n57796  [('dji', 'PRODUCT'), ('30 miles', 'QUANTITY'),...  0.122328  0.085511   \n...                                                  ...       ...       ...   \n68254  [('poland', 'GPE'), ('authcenter', 'GPE'), ('c...  0.111392  0.037975   \n68255  [('one', 'CARDINAL'), ('polish', 'NORP'), ('ca...  0.109394  0.048751   \n68256  [('god', 'PERSON'), ('saint faustinas', 'PERSO...  0.131783  0.047804   \n68257  [('another day', 'DATE'), ('god', 'PERSON'), (...  0.114673  0.053021   \n68258  [('lubeck libeck', 'PERSON'), ('britain', 'GPE...  0.107981  0.032864   \n\n         norm_?    norm_!                                topic_distributions   \n3962   0.006363  0.007423  [(6, 0.27886572), (10, 0.17313653), (25, 0.319...  \\\n11339  0.002528  0.000000               [(25, 0.72906566), (27, 0.26771897)]   \n16545  0.021839  0.010345  [(5, 0.067286186), (10, 0.1327022), (25, 0.799...   \n56979  0.009975  0.002494                  [(10, 0.286261), (25, 0.7099816)]   \n57796  0.005938  0.001188  [(3, 0.019032711), (25, 0.04007173), (27, 0.93...   \n...         ...       ...                                                ...   \n68254  0.034177  0.007595                 [(10, 0.6950567), (27, 0.3039613)]   \n68255  0.028537  0.002378               [(10, 0.58360636), (27, 0.40970907)]   \n68256  0.014212  0.002584               [(10, 0.92968667), (27, 0.06933013)]   \n68257  0.007398  0.018496                 [(10, 0.8179181), (27, 0.1810976)]   \n68258  0.037559  0.018779  [(10, 0.7312867), (25, 0.07537764), (27, 0.189...   \n\n       nr_unique_words  nr_chars  nr_contradictions  subjectivity  \n3962               667      6111                  6      0.485495  \n11339              568      5762                 17      0.487030  \n16545              650      5724                 18      0.551005  \n56979              514      5197                  0      0.514366  \n57796              606      5823                 11      0.401854  \n...                ...       ...                ...           ...  \n68254              540      5290                 13      0.437244  \n68255              626      5710                  9      0.436489  \n68256              542      5163                  9      0.466545  \n68257              571      5472                  7      0.428413  \n68258              190      1460                  6      0.425926  \n\n[30942 rows x 19 columns]",
      "text/html": "<div>\n<style scoped>\n    .dataframe tbody tr th:only-of-type {\n        vertical-align: middle;\n    }\n\n    .dataframe tbody tr th {\n        vertical-align: top;\n    }\n\n    .dataframe thead th {\n        text-align: right;\n    }\n</style>\n<table border=\"1\" class=\"dataframe\">\n  <thead>\n    <tr style=\"text-align: right;\">\n      <th></th>\n      <th>auhtor_ID</th>\n      <th>post</th>\n      <th>nationality</th>\n      <th>Poles</th>\n      <th>tokens</th>\n      <th>eng_tokens</th>\n      <th>average_word_length</th>\n      <th>avg_sentence_length</th>\n      <th>ttr</th>\n      <th>ner</th>\n      <th>norm_.</th>\n      <th>norm_,</th>\n      <th>norm_?</th>\n      <th>norm_!</th>\n      <th>topic_distributions</th>\n      <th>nr_unique_words</th>\n      <th>nr_chars</th>\n      <th>nr_contradictions</th>\n      <th>subjectivity</th>\n    </tr>\n  </thead>\n  <tbody>\n    <tr>\n      <th>3962</th>\n      <td>t2_ffcfiueh</td>\n      <td>course people look hyperbolic one racism bad e...</td>\n      <td>Norway</td>\n      <td>Western</td>\n      <td>['[\"[\\'course\\',\",', '\"\\'people\\',\",', '\"\\'loo...</td>\n      <td>[\"'course'\", \"'people'\", \"'look'\", \"'hyperboli...</td>\n      <td>5.481442</td>\n      <td>66.164835</td>\n      <td>0.707317</td>\n      <td>[('one', 'CARDINAL'), ('bkb', 'ORG'), ('hundre...</td>\n      <td>0.091198</td>\n      <td>0.047720</td>\n      <td>0.006363</td>\n      <td>0.007423</td>\n      <td>[(6, 0.27886572), (10, 0.17313653), (25, 0.319...</td>\n      <td>667</td>\n      <td>6111</td>\n      <td>6</td>\n      <td>0.485495</td>\n    </tr>\n    <tr>\n      <th>11339</th>\n      <td>t2_lfs48</td>\n      <td>police drag foot it/come different conclusion ...</td>\n      <td>Germany</td>\n      <td>Western</td>\n      <td>['[\"[\\'police\\',\",', '\"\\'drag\\',\",', '\"\\'foot\\...</td>\n      <td>[\"'police'\", \"'drag'\", \"'foot'\", \"'it'\", \"'com...</td>\n      <td>6.285714</td>\n      <td>85.014925</td>\n      <td>0.718078</td>\n      <td>[('anmeldung', 'GPE'), ('berlin', 'GPE'), ('fi...</td>\n      <td>0.113780</td>\n      <td>0.078382</td>\n      <td>0.002528</td>\n      <td>0.000000</td>\n      <td>[(25, 0.72906566), (27, 0.26771897)]</td>\n      <td>568</td>\n      <td>5762</td>\n      <td>17</td>\n      <td>0.487030</td>\n    </tr>\n    <tr>\n      <th>16545</th>\n      <td>t2_zcj4y</td>\n      <td>nice curves. really pretty. maybe i'm 'oldscho...</td>\n      <td>The Netherlands</td>\n      <td>Western</td>\n      <td>['[\"[\\'nice\\',\",', '\"\\'curves\\',\",', '\"\\'.\\',\"...</td>\n      <td>[\"'nice'\", \"'really'\", \"'pretty'\", \"'maybe'\", ...</td>\n      <td>5.580460</td>\n      <td>34.134969</td>\n      <td>0.747126</td>\n      <td>[('lootboxes', 'NORP'), ('1', 'CARDINAL'), (\"1...</td>\n      <td>0.174713</td>\n      <td>0.065517</td>\n      <td>0.021839</td>\n      <td>0.010345</td>\n      <td>[(5, 0.067286186), (10, 0.1327022), (25, 0.799...</td>\n      <td>650</td>\n      <td>5724</td>\n      <td>18</td>\n      <td>0.551005</td>\n    </tr>\n    <tr>\n      <th>56979</th>\n      <td>t2_2xpu7n1c</td>\n      <td>action try manufacture result make “good” tv. ...</td>\n      <td>United Kingdom</td>\n      <td>Western</td>\n      <td>['[\"[\\'action\\',\",', '\"\\'try\\',\",', '\"\\'manufa...</td>\n      <td>[\"'action'\", \"'try'\", \"'manufacture'\", \"'resul...</td>\n      <td>5.481297</td>\n      <td>75.441176</td>\n      <td>0.640898</td>\n      <td>[('lewis', 'PERSON'), ('max', 'PERSON'), ('max...</td>\n      <td>0.073566</td>\n      <td>0.112219</td>\n      <td>0.009975</td>\n      <td>0.002494</td>\n      <td>[(10, 0.286261), (25, 0.7099816)]</td>\n      <td>514</td>\n      <td>5197</td>\n      <td>0</td>\n      <td>0.514366</td>\n    </tr>\n    <tr>\n      <th>57796</th>\n      <td>t2_3edl7</td>\n      <td>location, altitude, speed, direction every dji...</td>\n      <td>Germany</td>\n      <td>Western</td>\n      <td>['[\"[\\'location\\',\",', '\"\\',\\',\",', '\"\\'altitu...</td>\n      <td>[\"'location'\", \"'altitude'\", \"'speed'\", \"'dire...</td>\n      <td>5.916865</td>\n      <td>60.968085</td>\n      <td>0.719715</td>\n      <td>[('dji', 'PRODUCT'), ('30 miles', 'QUANTITY'),...</td>\n      <td>0.122328</td>\n      <td>0.085511</td>\n      <td>0.005938</td>\n      <td>0.001188</td>\n      <td>[(3, 0.019032711), (25, 0.04007173), (27, 0.93...</td>\n      <td>606</td>\n      <td>5823</td>\n      <td>11</td>\n      <td>0.401854</td>\n    </tr>\n    <tr>\n      <th>...</th>\n      <td>...</td>\n      <td>...</td>\n      <td>...</td>\n      <td>...</td>\n      <td>...</td>\n      <td>...</td>\n      <td>...</td>\n      <td>...</td>\n      <td>...</td>\n      <td>...</td>\n      <td>...</td>\n      <td>...</td>\n      <td>...</td>\n      <td>...</td>\n      <td>...</td>\n      <td>...</td>\n      <td>...</td>\n      <td>...</td>\n      <td>...</td>\n    </tr>\n    <tr>\n      <th>68254</th>\n      <td>t2_8hacr7if</td>\n      <td>raid vitro facilities. good hunt! mean governm...</td>\n      <td>Poland</td>\n      <td>Eastern</td>\n      <td>['[\"[\\'raid\\',\",', '\"\\'vitro\\',\",', '\"\\'facili...</td>\n      <td>[\"'raid'\", \"'good'\", \"'hunt'\", \"'mean'\", \"'gov...</td>\n      <td>5.697468</td>\n      <td>49.875000</td>\n      <td>0.683544</td>\n      <td>[('poland', 'GPE'), ('authcenter', 'GPE'), ('c...</td>\n      <td>0.111392</td>\n      <td>0.037975</td>\n      <td>0.034177</td>\n      <td>0.007595</td>\n      <td>[(10, 0.6950567), (27, 0.3039613)]</td>\n      <td>540</td>\n      <td>5290</td>\n      <td>13</td>\n      <td>0.437244</td>\n    </tr>\n    <tr>\n      <th>68255</th>\n      <td>t2_8hacr7if</td>\n      <td>homemade one kill people already multiple poli...</td>\n      <td>Poland</td>\n      <td>Eastern</td>\n      <td>['[\"[\\'homemade\\',\",', '\"\\'one\\',\",', '\"\\'kill...</td>\n      <td>[\"'homemade'\", \"'one'\", \"'kill'\", \"'people'\", ...</td>\n      <td>5.790725</td>\n      <td>50.450450</td>\n      <td>0.744352</td>\n      <td>[('one', 'CARDINAL'), ('polish', 'NORP'), ('ca...</td>\n      <td>0.109394</td>\n      <td>0.048751</td>\n      <td>0.028537</td>\n      <td>0.002378</td>\n      <td>[(10, 0.58360636), (27, 0.40970907)]</td>\n      <td>626</td>\n      <td>5710</td>\n      <td>9</td>\n      <td>0.436489</td>\n    </tr>\n    <tr>\n      <th>68256</th>\n      <td>t2_8hacr7if</td>\n      <td>head. look like imperialism back menu boys! go...</td>\n      <td>Poland</td>\n      <td>Eastern</td>\n      <td>['[\"[\\'head\\',\",', '\"\\'.\\',\",', '\"\\'look\\',\",'...</td>\n      <td>[\"'head'\", \"'look'\", \"'like'\", \"'imperialism'\"...</td>\n      <td>5.671835</td>\n      <td>47.716981</td>\n      <td>0.700258</td>\n      <td>[('god', 'PERSON'), ('saint faustinas', 'PERSO...</td>\n      <td>0.131783</td>\n      <td>0.047804</td>\n      <td>0.014212</td>\n      <td>0.002584</td>\n      <td>[(10, 0.92968667), (27, 0.06933013)]</td>\n      <td>542</td>\n      <td>5163</td>\n      <td>9</td>\n      <td>0.466545</td>\n    </tr>\n    <tr>\n      <th>68257</th>\n      <td>t2_8hacr7if</td>\n      <td>purgatory. wil help soul get heaven quicker kn...</td>\n      <td>Poland</td>\n      <td>Eastern</td>\n      <td>['[\"[\\'purgatory\\',\",', '\"\\'.\\',\",', '\"\\'wil\\'...</td>\n      <td>[\"'purgatory'\", \"'help'\", \"'soul'\", \"'get'\", \"...</td>\n      <td>5.748459</td>\n      <td>47.866071</td>\n      <td>0.704069</td>\n      <td>[('another day', 'DATE'), ('god', 'PERSON'), (...</td>\n      <td>0.114673</td>\n      <td>0.053021</td>\n      <td>0.007398</td>\n      <td>0.018496</td>\n      <td>[(10, 0.8179181), (27, 0.1810976)]</td>\n      <td>571</td>\n      <td>5472</td>\n      <td>7</td>\n      <td>0.428413</td>\n    </tr>\n    <tr>\n      <th>68258</th>\n      <td>t2_8hacr7if</td>\n      <td>claim talking asshole? lubeck libeck. cant eve...</td>\n      <td>Poland</td>\n      <td>Eastern</td>\n      <td>['[\"[\\'claim\\',\",', '\"\\'talking\\',\",', '\"\\'ass...</td>\n      <td>[\"'claim'\", \"'talking'\", \"'ca'\", \"'even'\", \"'e...</td>\n      <td>5.859155</td>\n      <td>46.161290</td>\n      <td>0.892019</td>\n      <td>[('lubeck libeck', 'PERSON'), ('britain', 'GPE...</td>\n      <td>0.107981</td>\n      <td>0.032864</td>\n      <td>0.037559</td>\n      <td>0.018779</td>\n      <td>[(10, 0.7312867), (25, 0.07537764), (27, 0.189...</td>\n      <td>190</td>\n      <td>1460</td>\n      <td>6</td>\n      <td>0.425926</td>\n    </tr>\n  </tbody>\n</table>\n<p>30942 rows × 19 columns</p>\n</div>"
     },
     "execution_count": 4,
     "metadata": {},
     "output_type": "execute_result"
    }
   ],
   "source": [
    "# Setting the seed\n",
    "random.seed(42)\n",
    "\n",
    "# Loading the unbalanced dataset\n",
    "df = pd.read_csv(\"Data/tokenized_eng.csv\")\n",
    "\n",
    "# Undersample the majority class\n",
    "df_western = df[df['Poles'] == 'Western']\n",
    "df_eastern = df[df['Poles'] == 'Eastern']\n",
    "\n",
    "df_western_downsampled = resample(df_western, replace=False, n_samples=len(df_eastern), random_state=42)\n",
    "\n",
    "df_balanced = pd.concat([df_western_downsampled, df_eastern])\n",
    "df_balanced"
   ],
   "metadata": {
    "collapsed": false,
    "pycharm": {
     "name": "#%%\n"
    }
   }
  },
  {
   "cell_type": "code",
   "execution_count": 5,
   "outputs": [],
   "source": [
    "## Converting df into csv file\n",
    "df_balanced.to_csv('Data/Undersampled_balanced_data.csv', index=False)"
   ],
   "metadata": {
    "collapsed": false,
    "pycharm": {
     "name": "#%%\n"
    }
   }
  }
 ],
 "metadata": {
  "kernelspec": {
   "display_name": "Python 3",
   "language": "python",
   "name": "python3"
  },
  "language_info": {
   "codemirror_mode": {
    "name": "ipython",
    "version": 2
   },
   "file_extension": ".py",
   "mimetype": "text/x-python",
   "name": "python",
   "nbconvert_exporter": "python",
   "pygments_lexer": "ipython2",
   "version": "2.7.6"
  }
 },
 "nbformat": 4,
 "nbformat_minor": 0
}