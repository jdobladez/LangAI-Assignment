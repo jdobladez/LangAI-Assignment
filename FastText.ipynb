{
 "cells": [
  {
   "cell_type": "markdown",
   "metadata": {
    "pycharm": {
     "name": "#%% md\n"
    }
   },
   "source": [
    "\n",
    "## Imports"
   ]
  },
  {
   "cell_type": "code",
   "execution_count": 1,
   "metadata": {
    "pycharm": {
     "name": "#%%\n"
    }
   },
   "outputs": [],
   "source": [
    "import numpy as np\n",
    "import pandas as pd\n",
    "import csv\n",
    "import fasttext\n",
    "from sklearn.model_selection import train_test_split\n",
    "from sklearn.model_selection import StratifiedKFold\n",
    "from sklearn.metrics import accuracy_score, precision_score, recall_score, f1_score, classification_report, matthews_corrcoef"
   ]
  },
  {
   "cell_type": "markdown",
   "metadata": {
    "pycharm": {
     "name": "#%% md\n"
    }
   },
   "source": [
    "## Loading Data"
   ]
  },
  {
   "cell_type": "code",
   "execution_count": 2,
   "metadata": {
    "pycharm": {
     "name": "#%%\n"
    }
   },
   "outputs": [],
   "source": [
    "df_balanced = pd.read_csv(\"Data/Undersampled_balanced_data.csv\")"
   ]
  },
  {
   "cell_type": "markdown",
   "metadata": {
    "pycharm": {
     "name": "#%% md\n"
    }
   },
   "source": [
    "### Converting to FastText Format"
   ]
  },
  {
   "cell_type": "code",
   "execution_count": 3,
   "metadata": {
    "pycharm": {
     "name": "#%%\n"
    }
   },
   "outputs": [],
   "source": [
    "# Creating a copy as data\n",
    "data = df_balanced.copy()\n",
    "\n",
    "# Split the dataset into training and testing sets\n",
    "train_data, test_data = train_test_split(data, test_size=0.3, random_state=42)\n",
    "\n",
    "# Add the __label__ prefix to each label\n",
    "train_data['category'] = train_data['Poles'].apply(lambda x: f'__label__{x}')\n",
    "test_data['category'] = test_data['Poles'].apply(lambda x: f'__label__{x}')\n",
    "\n",
    "# Saving the CSV file as a text file to train/test the classifier\n",
    "train_data[['category', 'post']].to_csv('train.txt',\n",
    "                                          index = False,\n",
    "                                          sep = ' ',\n",
    "                                          header = None,\n",
    "                                          quoting = csv.QUOTE_NONE,\n",
    "                                          quotechar = \"\",\n",
    "                                          escapechar = \" \")\n",
    "\n",
    "test_data[['category', 'post']].to_csv('test.txt',\n",
    "                                     index = False,\n",
    "                                     sep = ' ',\n",
    "                                     header = None,\n",
    "                                     quoting = csv.QUOTE_NONE,\n",
    "                                     quotechar = \"\",\n",
    "                                     escapechar = \" \")"
   ]
  },
  {
   "cell_type": "code",
   "execution_count": 4,
   "metadata": {
    "pycharm": {
     "name": "#%%\n"
    }
   },
   "outputs": [],
   "source": [
    "# Creating a copy as data\n",
    "data = df_balanced.copy()\n",
    "\n",
    "# Add the __label__ prefix to each label\n",
    "data['category'] = data['Poles'].apply(lambda x: f'__label__{x}')\n",
    "\n",
    "# Saving the CSV file as a text file to train/test the classifier\n",
    "data[['category', 'post']].to_csv('data.txt',\n",
    "                                          index = False,\n",
    "                                          sep = ' ',\n",
    "                                          header = None,\n",
    "                                          quoting = csv.QUOTE_NONE,\n",
    "                                          quotechar = \"\",\n",
    "                                          escapechar = \" \")"
   ]
  },
  {
   "cell_type": "markdown",
   "metadata": {
    "pycharm": {
     "name": "#%% md\n"
    }
   },
   "source": [
    "### Train and Test FastText model"
   ]
  },
  {
   "cell_type": "code",
   "execution_count": 12,
   "metadata": {
    "pycharm": {
     "name": "#%%\n"
    }
   },
   "outputs": [
    {
     "data": {
      "text/plain": "(9283, 0.8700851017989873, 0.8700851017989873)"
     },
     "execution_count": 12,
     "metadata": {},
     "output_type": "execute_result"
    }
   ],
   "source": [
    "# Training the fastText classifier\n",
    "model = fasttext.train_supervised('train.txt', wordNgrams = 2)\n",
    "\n",
    "# Evaluating performance on the entire test file\n",
    "model.test('test.txt', k=1)"
   ]
  },
  {
   "cell_type": "markdown",
   "metadata": {
    "pycharm": {
     "name": "#%% md\n"
    }
   },
   "source": [
    "* 9283 is the number of data points in the test set\n",
    "* 0.87 is both the precision and the recall"
   ]
  },
  {
   "cell_type": "code",
   "execution_count": 13,
   "metadata": {
    "pycharm": {
     "name": "#%%\n"
    }
   },
   "outputs": [
    {
     "data": {
      "text/plain": "(21659, 0.8854517752435477, 0.8854517752435477)"
     },
     "execution_count": 13,
     "metadata": {},
     "output_type": "execute_result"
    }
   ],
   "source": [
    "# Evaluate on training data\n",
    "train_result = model.test(\"train.txt\")\n",
    "train_result"
   ]
  },
  {
   "cell_type": "markdown",
   "source": [
    "## Evaluation Metrics"
   ],
   "metadata": {
    "collapsed": false,
    "pycharm": {
     "name": "#%% md\n"
    }
   }
  },
  {
   "cell_type": "markdown",
   "metadata": {
    "pycharm": {
     "name": "#%% md\n"
    }
   },
   "source": [
    "### 5-fold Cross Validation (check for overfitting)"
   ]
  },
  {
   "cell_type": "code",
   "execution_count": 14,
   "metadata": {
    "pycharm": {
     "name": "#%%\n"
    }
   },
   "outputs": [
    {
     "name": "stdout",
     "output_type": "stream",
     "text": [
      "Fold 1: Precision = 0.9249\n",
      "Fold 2: Precision = 0.9224\n",
      "Fold 3: Precision = 0.9190\n",
      "Fold 4: Precision = 0.9192\n",
      "Fold 5: Precision = 0.9207\n",
      "Average Precision: 0.9212\n"
     ]
    }
   ],
   "source": [
    "# Replace with your actual data and parameters\n",
    "data_path = 'data.txt'\n",
    "k_folds = 5  # Choose the number of folds\n",
    "\n",
    "# Load your data into a list\n",
    "with open(data_path, 'r', encoding='utf-8') as file:\n",
    "    data_lines = file.readlines()\n",
    "\n",
    "# Extract labels and texts\n",
    "labels = [line.split()[0] for line in data_lines]\n",
    "texts = [' '.join(line.split()[1:]) for line in data_lines]\n",
    "\n",
    "# Initialize StratifiedKFold\n",
    "kf = StratifiedKFold(n_splits=k_folds, shuffle=True, random_state=42)\n",
    "\n",
    "# Lists to store precision scores for each fold\n",
    "precision_scores = []\n",
    "\n",
    "# Perform k-fold cross-validation\n",
    "for train_index, test_index in kf.split(texts, labels):\n",
    "    # Split the data into training and testing sets\n",
    "    train_data = [texts[i] for i in train_index]\n",
    "    train_labels = [labels[i] for i in train_index]\n",
    "    test_data = [texts[i] for i in test_index]\n",
    "    test_labels = [labels[i] for i in test_index]\n",
    "\n",
    "    # Create FastText training and testing files\n",
    "    with open('train_fold.txt', 'w', encoding='utf-8') as train_file:\n",
    "        for label, text in zip(train_labels, train_data):\n",
    "            train_file.write(f'__label__{label} {text}\\n')\n",
    "\n",
    "    with open('test_fold.txt', 'w', encoding='utf-8') as test_file:\n",
    "        for label, text in zip(test_labels, test_data):\n",
    "            test_file.write(f'__label__{label} {text}\\n')\n",
    "\n",
    "    # Train the FastText model\n",
    "    model = fasttext.train_supervised(input='train_fold.txt', wordNgrams=2, epoch=10, lr=0.1)\n",
    "\n",
    "    # Evaluate on the test set\n",
    "    result = model.test('test_fold.txt')[1]\n",
    "    precision_scores.append(result)\n",
    "\n",
    "# Print precision scores for each fold\n",
    "for i, precision in enumerate(precision_scores, start=1):\n",
    "    print(f'Fold {i}: Precision = {precision:.4f}')\n",
    "\n",
    "# Calculate and print the average precision across all folds\n",
    "average_precision = np.mean(precision_scores)\n",
    "print(f'Average Precision: {average_precision:.4f}')"
   ]
  },
  {
   "cell_type": "markdown",
   "metadata": {
    "pycharm": {
     "name": "#%% md\n"
    }
   },
   "source": [
    "### Accuracy, Percision, Recall, F1 score, Matthews Correlation Coefficient"
   ]
  },
  {
   "cell_type": "code",
   "execution_count": 16,
   "metadata": {
    "pycharm": {
     "name": "#%%\n"
    }
   },
   "outputs": [
    {
     "name": "stdout",
     "output_type": "stream",
     "text": [
      "Accuracy: 0.941075083485942\n",
      "Precision: 0.9410788998588502\n",
      "Recall: 0.941075083485942\n",
      "F1 Score: 0.9410756702185508\n",
      "Matthews Correlation Coefficient: 0.8821444891819901\n",
      "Classification Report:\n",
      "               precision    recall  f1-score   support\n",
      "\n",
      "           0       0.94      0.94      0.94      4686\n",
      "           1       0.94      0.94      0.94      4597\n",
      "\n",
      "    accuracy                           0.94      9283\n",
      "   macro avg       0.94      0.94      0.94      9283\n",
      "weighted avg       0.94      0.94      0.94      9283\n",
      "\n"
     ]
    }
   ],
   "source": [
    "# Load the test data\n",
    "with open('test.txt', 'r', encoding='utf-8') as f:\n",
    "    test_lines = f.readlines()\n",
    "\n",
    "# Extract labels and texts from the test data\n",
    "test_labels = [line.split()[0] for line in test_lines]\n",
    "test_texts = [' '.join(line.split()[1:]) for line in test_lines]\n",
    "\n",
    "# Get predictions from the model\n",
    "predictions = [model.predict(text)[0][0].replace('__label__', '') for text in test_texts]\n",
    "\n",
    "# Create label mapping to map strings as integers (0 or 1)\n",
    "label_mapping = {'__label__Western': 0, '__label__Eastern': 1}\n",
    "label_mapping_pred = {'Western': 0, 'Eastern': 1}\n",
    "\n",
    "# Convert labels to integers using the mapping\n",
    "test_labels = [label_mapping[label] for label in test_labels]\n",
    "predictions = [label_mapping_pred[pred] for pred in predictions]\n",
    "\n",
    "# Calculate and print evaluation metrics\n",
    "accuracy = accuracy_score(test_labels, predictions)\n",
    "precision = precision_score(test_labels, predictions, average='weighted')\n",
    "recall = recall_score(test_labels, predictions, average='weighted')\n",
    "f1 = f1_score(test_labels, predictions, average='weighted')\n",
    "classification_rep = classification_report(test_labels, predictions)\n",
    "mcc = matthews_corrcoef(test_labels, predictions)\n",
    "\n",
    "print(f'Accuracy: {accuracy}')\n",
    "print(f'Precision: {precision}')\n",
    "print(f'Recall: {recall}')\n",
    "print(f'F1 Score: {f1}')\n",
    "print(f'Matthews Correlation Coefficient: {mcc}')\n",
    "print('Classification Report:\\n', classification_rep)"
   ]
  }
 ],
 "metadata": {
  "kernelspec": {
   "display_name": "Python 3 (ipykernel)",
   "language": "python",
   "name": "python3"
  },
  "language_info": {
   "codemirror_mode": {
    "name": "ipython",
    "version": 3
   },
   "file_extension": ".py",
   "mimetype": "text/x-python",
   "name": "python",
   "nbconvert_exporter": "python",
   "pygments_lexer": "ipython3",
   "version": "3.9.5"
  }
 },
 "nbformat": 4,
 "nbformat_minor": 1
}