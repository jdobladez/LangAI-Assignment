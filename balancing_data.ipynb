{
 "cells": [
  {
   "cell_type": "code",
   "execution_count": 1,
   "id": "initial_id",
   "metadata": {
    "collapsed": true,
    "ExecuteTime": {
     "end_time": "2024-01-02T19:30:09.834610457Z",
     "start_time": "2024-01-02T19:30:09.419504203Z"
    }
   },
   "outputs": [],
   "source": [
    "import pandas as pd\n",
    "from sklearn.feature_extraction.text import TfidfVectorizer\n",
    "from imblearn.over_sampling import RandomOverSampler\n",
    "from imblearn.under_sampling import RandomUnderSampler\n",
    "from imblearn.pipeline import Pipeline"
   ]
  },
  {
   "cell_type": "code",
   "outputs": [
    {
     "data": {
      "text/plain": "         Poles                                             tokens  \\\n0      Western  ['is', \"n't\", ',', 'show', '.', 'legally', 'bi...   \n1      Western  ['game', 'game', 'played', '.', 'game', 'playe...   \n2      Western  ['logic', 'usa', 'shitty', 'place', 'live', '(...   \n3      Western  ['referring', 'add', 'lot', 'ea', ',', 'activi...   \n4      Western  ['get', 'another', 'role', 'support', 'lel', '...   \n...        ...                                                ...   \n76400  Western  ['sergeant', 'york', '.', 'wwi', 'lend', \"it's...   \n76401  Western  ['position', 'person', 'get', 'short', 'term',...   \n76402  Western  ['read', 'label', '.', 'high', 'red', 'meat', ...   \n76403  Western  ['traitors', '.', 'suggesting', 'treason', '.'...   \n76404  Western  ['drug', 'trade', 'staffed', 'benefit', 'claim...   \n\n                                              eng_tokens  average_word_length  \\\n0      [\"'is'\", \"'n'\", \"'t'\", \"'show'\", \"'legally'\", ...             5.744459   \n1      [\"'game'\", \"'game'\", \"'game'\", \"'calculated'\",...             5.815094   \n2      [\"'logic'\", \"'place'\", \"'live'\", \"'with'\", \"'s...             5.732911   \n3      [\"'add'\", \"'lot'\", \"'ea'\", \"'re'\", \"'release'\"...             5.890951   \n4      [\"'get'\", \"'another'\", \"'role'\", \"'support'\", ...             5.804756   \n...                                                  ...                  ...   \n76400  [\"'sergeant'\", \"'york'\", \"'lend'\", \"'it'\", \"'s...             5.957219   \n76401  [\"'position'\", \"'person'\", \"'get'\", \"'short'\",...             6.026212   \n76402  [\"'read'\", \"'label'\", \"'high'\", \"'red'\", \"'mea...             5.902069   \n76403  [\"'suggesting'\", \"'treason'\", \"'treason'\", \"'d...             5.982804   \n76404  [\"'drug'\", \"'trade'\", \"'staffed'\", \"'benefit'\"...             5.806924   \n\n       avg_sentence_length  \n0                50.730000  \n1                50.113208  \n2                55.585106  \n3                48.915966  \n4                48.880734  \n...                    ...  \n76400            45.882883  \n76401            42.942623  \n76402            45.333333  \n76403            46.558559  \n76404            48.153846  \n\n[76405 rows x 5 columns]",
      "text/html": "<div>\n<style scoped>\n    .dataframe tbody tr th:only-of-type {\n        vertical-align: middle;\n    }\n\n    .dataframe tbody tr th {\n        vertical-align: top;\n    }\n\n    .dataframe thead th {\n        text-align: right;\n    }\n</style>\n<table border=\"1\" class=\"dataframe\">\n  <thead>\n    <tr style=\"text-align: right;\">\n      <th></th>\n      <th>Poles</th>\n      <th>tokens</th>\n      <th>eng_tokens</th>\n      <th>average_word_length</th>\n      <th>avg_sentence_length</th>\n    </tr>\n  </thead>\n  <tbody>\n    <tr>\n      <th>0</th>\n      <td>Western</td>\n      <td>['is', \"n't\", ',', 'show', '.', 'legally', 'bi...</td>\n      <td>[\"'is'\", \"'n'\", \"'t'\", \"'show'\", \"'legally'\", ...</td>\n      <td>5.744459</td>\n      <td>50.730000</td>\n    </tr>\n    <tr>\n      <th>1</th>\n      <td>Western</td>\n      <td>['game', 'game', 'played', '.', 'game', 'playe...</td>\n      <td>[\"'game'\", \"'game'\", \"'game'\", \"'calculated'\",...</td>\n      <td>5.815094</td>\n      <td>50.113208</td>\n    </tr>\n    <tr>\n      <th>2</th>\n      <td>Western</td>\n      <td>['logic', 'usa', 'shitty', 'place', 'live', '(...</td>\n      <td>[\"'logic'\", \"'place'\", \"'live'\", \"'with'\", \"'s...</td>\n      <td>5.732911</td>\n      <td>55.585106</td>\n    </tr>\n    <tr>\n      <th>3</th>\n      <td>Western</td>\n      <td>['referring', 'add', 'lot', 'ea', ',', 'activi...</td>\n      <td>[\"'add'\", \"'lot'\", \"'ea'\", \"'re'\", \"'release'\"...</td>\n      <td>5.890951</td>\n      <td>48.915966</td>\n    </tr>\n    <tr>\n      <th>4</th>\n      <td>Western</td>\n      <td>['get', 'another', 'role', 'support', 'lel', '...</td>\n      <td>[\"'get'\", \"'another'\", \"'role'\", \"'support'\", ...</td>\n      <td>5.804756</td>\n      <td>48.880734</td>\n    </tr>\n    <tr>\n      <th>...</th>\n      <td>...</td>\n      <td>...</td>\n      <td>...</td>\n      <td>...</td>\n      <td>...</td>\n    </tr>\n    <tr>\n      <th>76400</th>\n      <td>Western</td>\n      <td>['sergeant', 'york', '.', 'wwi', 'lend', \"it's...</td>\n      <td>[\"'sergeant'\", \"'york'\", \"'lend'\", \"'it'\", \"'s...</td>\n      <td>5.957219</td>\n      <td>45.882883</td>\n    </tr>\n    <tr>\n      <th>76401</th>\n      <td>Western</td>\n      <td>['position', 'person', 'get', 'short', 'term',...</td>\n      <td>[\"'position'\", \"'person'\", \"'get'\", \"'short'\",...</td>\n      <td>6.026212</td>\n      <td>42.942623</td>\n    </tr>\n    <tr>\n      <th>76402</th>\n      <td>Western</td>\n      <td>['read', 'label', '.', 'high', 'red', 'meat', ...</td>\n      <td>[\"'read'\", \"'label'\", \"'high'\", \"'red'\", \"'mea...</td>\n      <td>5.902069</td>\n      <td>45.333333</td>\n    </tr>\n    <tr>\n      <th>76403</th>\n      <td>Western</td>\n      <td>['traitors', '.', 'suggesting', 'treason', '.'...</td>\n      <td>[\"'suggesting'\", \"'treason'\", \"'treason'\", \"'d...</td>\n      <td>5.982804</td>\n      <td>46.558559</td>\n    </tr>\n    <tr>\n      <th>76404</th>\n      <td>Western</td>\n      <td>['drug', 'trade', 'staffed', 'benefit', 'claim...</td>\n      <td>[\"'drug'\", \"'trade'\", \"'staffed'\", \"'benefit'\"...</td>\n      <td>5.806924</td>\n      <td>48.153846</td>\n    </tr>\n  </tbody>\n</table>\n<p>76405 rows × 5 columns</p>\n</div>"
     },
     "execution_count": 2,
     "metadata": {},
     "output_type": "execute_result"
    }
   ],
   "source": [
    "df = pd.read_csv(\"lai-data/tokenized_eng.csv\")\n",
    "df.drop(columns=['Unnamed: 0', 'auhtor_ID', 'nationality', 'post'], inplace=True)\n",
    "\n",
    "df"
   ],
   "metadata": {
    "collapsed": false,
    "ExecuteTime": {
     "end_time": "2024-01-02T19:31:19.810372723Z",
     "start_time": "2024-01-02T19:31:10.451684408Z"
    }
   },
   "id": "b2ddd43729ab471f",
   "execution_count": 2
  },
  {
   "cell_type": "code",
   "outputs": [
    {
     "name": "stdout",
     "output_type": "stream",
     "text": [
      "(68759, 1482389)\n"
     ]
    }
   ],
   "source": [
    "X_unbalanced = df['tokens']\n",
    "y_unbalanced = df['Poles']\n",
    "vectorizer = TfidfVectorizer(sublinear_tf=True)  # You may need to configure this according to your needs\n",
    "X_vector = vectorizer.fit_transform(X_unbalanced)\n",
    "print(X_vector.shape)"
   ],
   "metadata": {
    "collapsed": false,
    "ExecuteTime": {
     "end_time": "2024-01-02T19:40:46.920419639Z",
     "start_time": "2024-01-02T19:40:09.451010023Z"
    }
   },
   "id": "f43cc2b2e540be36",
   "execution_count": 16
  },
  {
   "cell_type": "code",
   "outputs": [],
   "source": [
    "over = RandomOverSampler(sampling_strategy=0.6, random_state = 42)\n",
    "under = RandomUnderSampler(sampling_strategy='majority', random_state = 345)"
   ],
   "metadata": {
    "collapsed": false,
    "ExecuteTime": {
     "end_time": "2024-01-02T19:45:05.149492163Z",
     "start_time": "2024-01-02T19:45:05.144821196Z"
    }
   },
   "id": "b8a21ec1ad958f28",
   "execution_count": 45
  },
  {
   "cell_type": "code",
   "outputs": [],
   "source": [
    "steps = [('o', over), ('u', under)]\n",
    "\n",
    "pipeline = Pipeline(steps)"
   ],
   "metadata": {
    "collapsed": false,
    "ExecuteTime": {
     "end_time": "2024-01-02T19:45:06.108571423Z",
     "start_time": "2024-01-02T19:45:06.106052451Z"
    }
   },
   "id": "d41cdfb7fbe55c62",
   "execution_count": 46
  },
  {
   "cell_type": "code",
   "outputs": [],
   "source": [
    "# Apply the pipeline to the data\n",
    "X, y = pipeline.fit_resample(X_vector, y_unbalanced)"
   ],
   "metadata": {
    "collapsed": false,
    "ExecuteTime": {
     "end_time": "2024-01-02T19:45:07.566870490Z",
     "start_time": "2024-01-02T19:45:07.192651587Z"
    }
   },
   "id": "d3d6af2334ea7ebc",
   "execution_count": 47
  },
  {
   "cell_type": "code",
   "outputs": [
    {
     "data": {
      "text/plain": "63944"
     },
     "execution_count": 48,
     "metadata": {},
     "output_type": "execute_result"
    }
   ],
   "source": [
    "X.shape[0]"
   ],
   "metadata": {
    "collapsed": false,
    "ExecuteTime": {
     "end_time": "2024-01-02T19:45:08.485027513Z",
     "start_time": "2024-01-02T19:45:08.481252584Z"
    }
   },
   "id": "ece769fc2d23d93e",
   "execution_count": 48
  },
  {
   "cell_type": "code",
   "outputs": [
    {
     "data": {
      "text/plain": "(63944,)"
     },
     "execution_count": 49,
     "metadata": {},
     "output_type": "execute_result"
    }
   ],
   "source": [
    "y.shape"
   ],
   "metadata": {
    "collapsed": false,
    "ExecuteTime": {
     "end_time": "2024-01-02T19:45:10.375807248Z",
     "start_time": "2024-01-02T19:45:10.331496557Z"
    }
   },
   "id": "4dc9b1f11023aff6",
   "execution_count": 49
  },
  {
   "cell_type": "code",
   "outputs": [
    {
     "data": {
      "text/plain": "31972"
     },
     "execution_count": 50,
     "metadata": {},
     "output_type": "execute_result"
    }
   ],
   "source": [
    "(y == 'Eastern').sum()"
   ],
   "metadata": {
    "collapsed": false,
    "ExecuteTime": {
     "end_time": "2024-01-02T19:45:11.419837172Z",
     "start_time": "2024-01-02T19:45:11.416984319Z"
    }
   },
   "id": "8b9b9d42e5678d4a",
   "execution_count": 50
  },
  {
   "cell_type": "code",
   "outputs": [
    {
     "data": {
      "text/plain": "31972"
     },
     "execution_count": 51,
     "metadata": {},
     "output_type": "execute_result"
    }
   ],
   "source": [
    "(y == 'Western').sum()"
   ],
   "metadata": {
    "collapsed": false,
    "ExecuteTime": {
     "end_time": "2024-01-02T19:45:12.284736672Z",
     "start_time": "2024-01-02T19:45:12.281909883Z"
    }
   },
   "id": "3127c4c78a1a542c",
   "execution_count": 51
  }
 ],
 "metadata": {
  "kernelspec": {
   "display_name": "Python 3",
   "language": "python",
   "name": "python3"
  },
  "language_info": {
   "codemirror_mode": {
    "name": "ipython",
    "version": 2
   },
   "file_extension": ".py",
   "mimetype": "text/x-python",
   "name": "python",
   "nbconvert_exporter": "python",
   "pygments_lexer": "ipython2",
   "version": "2.7.6"
  }
 },
 "nbformat": 4,
 "nbformat_minor": 5
}
